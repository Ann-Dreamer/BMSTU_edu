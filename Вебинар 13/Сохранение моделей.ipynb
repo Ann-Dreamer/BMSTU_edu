{
 "cells": [
  {
   "cell_type": "markdown",
   "id": "d0a07968",
   "metadata": {},
   "source": [
    "# Импорт библиотек"
   ]
  },
  {
   "cell_type": "code",
   "execution_count": null,
   "id": "ed9cc175",
   "metadata": {},
   "outputs": [],
   "source": [
    "pip install numpy"
   ]
  },
  {
   "cell_type": "code",
   "execution_count": 1,
   "id": "6898e25c",
   "metadata": {},
   "outputs": [],
   "source": [
    "import numpy as np\n",
    "import tensorflow as tf\n",
    "\n",
    "from tensorflow import keras"
   ]
  },
  {
   "cell_type": "raw",
   "id": "3e77f20f",
   "metadata": {},
   "source": [
    "tf.keras"
   ]
  },
  {
   "cell_type": "code",
   "execution_count": 2,
   "id": "24de57be",
   "metadata": {},
   "outputs": [
    {
     "name": "stdout",
     "output_type": "stream",
     "text": [
      "absl-py==1.4.0\n",
      "alabaster @ file:///home/ktietz/src/ci/alabaster_1611921544520/work\n",
      "anaconda-client==1.11.0\n",
      "anaconda-navigator==2.3.1\n",
      "anaconda-project @ file:///C:/Windows/TEMP/abs_91fu4tfkih/croots/recipe/anaconda-project_1660339890874/work\n",
      "anyio @ file:///C:/ci/anyio_1644481921011/work/dist\n",
      "appdirs==1.4.4\n",
      "argon2-cffi @ file:///opt/conda/conda-bld/argon2-cffi_1645000214183/work\n",
      "argon2-cffi-bindings @ file:///C:/ci/argon2-cffi-bindings_1644551690056/work\n",
      "arrow @ file:///opt/conda/conda-bld/arrow_1649166651673/work\n",
      "astroid @ file:///C:/Windows/TEMP/abs_b0dtxgpicv/croots/recipe/astroid_1659023126745/work\n",
      "astropy @ file:///C:/ci/astropy_1657719656942/work\n",
      "astunparse==1.6.3\n",
      "atomicwrites==1.4.0\n",
      "attrs @ file:///opt/conda/conda-bld/attrs_1642510447205/work\n",
      "Automat @ file:///tmp/build/80754af9/automat_1600298431173/work\n",
      "autopep8 @ file:///opt/conda/conda-bld/autopep8_1650463822033/work\n",
      "Babel @ file:///tmp/build/80754af9/babel_1620871417480/work\n",
      "backcall @ file:///home/ktietz/src/ci/backcall_1611930011877/work\n",
      "backports.functools-lru-cache @ file:///tmp/build/80754af9/backports.functools_lru_cache_1618170165463/work\n",
      "backports.tempfile @ file:///home/linux1/recipes/ci/backports.tempfile_1610991236607/work\n",
      "backports.weakref==1.0.post1\n",
      "bcrypt @ file:///C:/Windows/Temp/abs_36kl66t_aw/croots/recipe/bcrypt_1659554334050/work\n",
      "beautifulsoup4 @ file:///C:/ci/beautifulsoup4_1650293025093/work\n",
      "binaryornot @ file:///tmp/build/80754af9/binaryornot_1617751525010/work\n",
      "bitarray @ file:///C:/ci/bitarray_1657729621682/work\n",
      "bkcharts==0.2\n",
      "black @ file:///C:/ci/black_1660239974023/work\n",
      "bleach @ file:///opt/conda/conda-bld/bleach_1641577558959/work\n",
      "bokeh @ file:///C:/Windows/TEMP/abs_4a259bc2-ed05-4a1f-808e-ac712cc0900cddqp8sp7/croots/recipe/bokeh_1658136660686/work\n",
      "boto3 @ file:///C:/Windows/TEMP/abs_4009c406-44ba-4406-8996-204d9b11202flt4kglbk/croots/recipe/boto3_1657820114895/work\n",
      "botocore @ file:///C:/ci/botocore_1657735875454/work\n",
      "Bottleneck @ file:///C:/Windows/Temp/abs_3198ca53-903d-42fd-87b4-03e6d03a8381yfwsuve8/croots/recipe/bottleneck_1657175565403/work\n",
      "brotlipy==0.7.0\n",
      "cachetools==5.3.0\n",
      "certifi @ file:///C:/b/abs_4f5wo627a3/croots/recipe/certifi_1663615677642/work/certifi\n",
      "cffi @ file:///C:/Windows/Temp/abs_6808y9x40v/croots/recipe/cffi_1659598653989/work\n",
      "chardet @ file:///C:/ci/chardet_1607706937985/work\n",
      "charset-normalizer @ file:///tmp/build/80754af9/charset-normalizer_1630003229654/work\n",
      "click @ file:///C:/ci/click_1646038595831/work\n",
      "cloudpickle @ file:///tmp/build/80754af9/cloudpickle_1632508026186/work\n",
      "clyent==1.2.2\n",
      "colorama @ file:///C:/Windows/TEMP/abs_9439aeb1-0254-449a-96f7-33ab5eb17fc8apleb4yn/croots/recipe/colorama_1657009099097/work\n",
      "colorcet @ file:///C:/ci/colorcet_1651851676912/work\n",
      "comtypes==1.1.10\n",
      "conda==22.9.0\n",
      "conda-build==3.22.0\n",
      "conda-content-trust @ file:///C:/Windows/TEMP/abs_4589313d-fc62-4ccc-81c0-b801b4449e833j1ajrwu/croots/recipe/conda-content-trust_1658126379362/work\n",
      "conda-pack @ file:///tmp/build/80754af9/conda-pack_1611163042455/work\n",
      "conda-package-handling @ file:///C:/b/abs_81m11h_i4r/croots/recipe/conda-package-handling_1663598470202/work\n",
      "conda-repo-cli==1.0.20\n",
      "conda-token @ file:///Users/paulyim/miniconda3/envs/c3i/conda-bld/conda-token_1662660369760/work\n",
      "conda-verify==3.4.2\n",
      "constantly==15.1.0\n",
      "cookiecutter @ file:///opt/conda/conda-bld/cookiecutter_1649151442564/work\n",
      "cryptography @ file:///C:/ci/cryptography_1652083563162/work\n",
      "cssselect==1.1.0\n",
      "cycler @ file:///tmp/build/80754af9/cycler_1637851556182/work\n",
      "Cython @ file:///C:/b/abs_0438epndxm/croots/recipe/cython_1663692771227/work\n",
      "cytoolz==0.11.0\n",
      "daal4py==2021.6.0\n",
      "dask @ file:///C:/ci/dask-core_1658515307198/work\n",
      "datashader @ file:///C:/Windows/TEMP/abs_62cyd2dpuf/croots/recipe/datashader_1659349034750/work\n",
      "datashape==0.5.4\n",
      "debugpy @ file:///C:/ci/debugpy_1637091961445/work\n",
      "decorator @ file:///opt/conda/conda-bld/decorator_1643638310831/work\n",
      "defusedxml @ file:///tmp/build/80754af9/defusedxml_1615228127516/work\n",
      "diff-match-patch @ file:///Users/ktietz/demo/mc3/conda-bld/diff-match-patch_1630511840874/work\n",
      "dill @ file:///tmp/build/80754af9/dill_1623919422540/work\n",
      "distributed @ file:///C:/ci/distributed_1658505715201/work\n",
      "docutils @ file:///C:/Windows/TEMP/abs_24e5e278-4d1c-47eb-97b9-f761d871f482dy2vg450/croots/recipe/docutils_1657175444608/work\n",
      "entrypoints @ file:///C:/ci/entrypoints_1649926621128/work\n",
      "et-xmlfile==1.1.0\n",
      "fastjsonschema @ file:///C:/Users/BUILDE~1/AppData/Local/Temp/abs_ebruxzvd08/croots/recipe/python-fastjsonschema_1661376484940/work\n",
      "filelock @ file:///opt/conda/conda-bld/filelock_1647002191454/work\n",
      "flake8 @ file:///opt/conda/conda-bld/flake8_1648129545443/work\n",
      "Flask @ file:///home/ktietz/src/ci/flask_1611932660458/work\n",
      "flatbuffers==23.1.21\n",
      "fonttools==4.25.0\n",
      "fsspec @ file:///C:/Windows/TEMP/abs_a2mhnomvfy/croots/recipe/fsspec_1659972224540/work\n",
      "future @ file:///C:/ci/future_1607568713721/work\n",
      "fuzzy-c-means==1.7.0\n",
      "gast==0.4.0\n",
      "gensim @ file:///C:/ci/gensim_1646825438310/work\n",
      "gitdb==4.0.10\n",
      "GitPython==3.1.31\n",
      "glob2 @ file:///home/linux1/recipes/ci/glob2_1610991677669/work\n",
      "google-api-core==2.11.0\n",
      "google-api-python-client==2.80.0\n",
      "google-auth==2.16.1\n",
      "google-auth-httplib2==0.1.0\n",
      "google-auth-oauthlib==0.4.6\n",
      "google-pasta==0.2.0\n",
      "googleapis-common-protos==1.58.0\n",
      "greenlet @ file:///C:/ci/greenlet_1628888275363/work\n",
      "grpcio==1.51.3\n",
      "h5py @ file:///C:/ci/h5py_1659089875384/work\n",
      "HeapDict @ file:///Users/ktietz/demo/mc3/conda-bld/heapdict_1630598515714/work\n",
      "holoviews @ file:///C:/Windows/TEMP/abs_fb9d2988-9681-46b6-b9ab-190cfecd15d7uinyq_4z/croots/recipe/holoviews_1658171511842/work\n",
      "html5lib==1.1\n",
      "htmlmin==0.1.12\n",
      "httplib2==0.21.0\n",
      "hvplot @ file:///C:/Windows/TEMP/abs_02zoq6lck3/croots/recipe/hvplot_1659026502064/work\n",
      "hyperlink @ file:///tmp/build/80754af9/hyperlink_1610130746837/work\n",
      "idna @ file:///tmp/build/80754af9/idna_1637925883363/work\n",
      "imagecodecs @ file:///C:/b/abs_948ub5byiu/croots/recipe/imagecodecs_1664562381493/work\n",
      "ImageHash==4.3.1\n",
      "imageio @ file:///C:/Windows/TEMP/abs_24c1b783-7540-4ca9-a1b1-0e8aa8e6ae64hb79ssux/croots/recipe/imageio_1658785038775/work\n",
      "imagesize @ file:///C:/Windows/TEMP/abs_3cecd249-3fc4-4bfc-b80b-bb227b0d701en12vqzot/croots/recipe/imagesize_1657179501304/work\n",
      "imbalanced-learn==0.10.1\n",
      "imblearn==0.0\n",
      "importlib-metadata @ file:///C:/ci/importlib-metadata_1648562621412/work\n",
      "incremental @ file:///tmp/build/80754af9/incremental_1636629750599/work\n",
      "inflection==0.5.1\n",
      "iniconfig @ file:///home/linux1/recipes/ci/iniconfig_1610983019677/work\n",
      "intake @ file:///opt/conda/conda-bld/intake_1647436631684/work\n",
      "intervaltree @ file:///Users/ktietz/demo/mc3/conda-bld/intervaltree_1630511889664/work\n",
      "ipykernel @ file:///C:/b/abs_21ykzkm7y_/croots/recipe/ipykernel_1662361803478/work\n",
      "ipython @ file:///C:/Windows/TEMP/abs_45b5zb1l7q/croots/recipe/ipython_1659529855872/work\n",
      "ipython-genutils @ file:///tmp/build/80754af9/ipython_genutils_1606773439826/work\n",
      "ipywidgets @ file:///tmp/build/80754af9/ipywidgets_1634143127070/work\n",
      "isort @ file:///tmp/build/80754af9/isort_1628603791788/work\n",
      "itemadapter @ file:///tmp/build/80754af9/itemadapter_1626442940632/work\n",
      "itemloaders @ file:///opt/conda/conda-bld/itemloaders_1646805235997/work\n",
      "itsdangerous @ file:///tmp/build/80754af9/itsdangerous_1621432558163/work\n",
      "jdcal @ file:///Users/ktietz/demo/mc3/conda-bld/jdcal_1630584345063/work\n",
      "jedi @ file:///C:/ci/jedi_1644315428289/work\n",
      "jellyfish @ file:///C:/ci/jellyfish_1647962783748/work\n",
      "Jinja2 @ file:///tmp/build/80754af9/jinja2_1612213139570/work\n",
      "jinja2-time @ file:///opt/conda/conda-bld/jinja2-time_1649251842261/work\n",
      "jmespath @ file:///Users/ktietz/demo/mc3/conda-bld/jmespath_1630583964805/work\n",
      "joblib==1.2.0\n",
      "json5 @ file:///tmp/build/80754af9/json5_1624432770122/work\n",
      "jsonschema @ file:///C:/b/abs_59eyhnbyej/croots/recipe/jsonschema_1663375476535/work\n",
      "jupyter @ file:///C:/Windows/TEMP/abs_56xfdi__li/croots/recipe/jupyter_1659349053177/work\n",
      "jupyter-console @ file:///opt/conda/conda-bld/jupyter_console_1647002188872/work\n",
      "jupyter-server @ file:///C:/Windows/TEMP/abs_d3c42c59-765d-4f9b-9fa3-ad5b1369485611i_yual/croots/recipe/jupyter_server_1658754493238/work\n",
      "jupyter_client @ file:///C:/ci/jupyter_client_1661836943389/work\n",
      "jupyter_core @ file:///C:/b/abs_a9330r1z_i/croots/recipe/jupyter_core_1664917313457/work\n",
      "jupyterlab @ file:///C:/ci/jupyterlab_1658891142428/work\n",
      "jupyterlab-pygments @ file:///tmp/build/80754af9/jupyterlab_pygments_1601490720602/work\n",
      "jupyterlab-server @ file:///opt/conda/conda-bld/jupyterlab_server_1644500396812/work\n",
      "jupyterlab-widgets @ file:///tmp/build/80754af9/jupyterlab_widgets_1609884341231/work\n",
      "keras==2.11.0\n",
      "keyring @ file:///C:/ci/keyring_1638531673471/work\n",
      "kiwisolver @ file:///C:/ci/kiwisolver_1653292407425/work\n",
      "lazy-object-proxy @ file:///C:/ci/lazy-object-proxy_1616529288960/work\n",
      "libarchive-c @ file:///tmp/build/80754af9/python-libarchive-c_1617780486945/work\n",
      "libclang==15.0.6.1\n",
      "llvmlite==0.38.0\n",
      "locket @ file:///C:/ci/locket_1652904031364/work\n",
      "lxml @ file:///C:/ci/lxml_1657527445690/work\n",
      "lz4 @ file:///C:/ci/lz4_1619516674350/work\n",
      "Markdown @ file:///C:/ci/markdown_1614364082838/work\n",
      "MarkupSafe @ file:///C:/ci/markupsafe_1621528502553/work\n",
      "matplotlib @ file:///C:/ci/matplotlib-suite_1660169687702/work\n",
      "matplotlib-inline @ file:///C:/ci/matplotlib-inline_1661915841596/work\n",
      "mccabe==0.6.1\n",
      "menuinst @ file:///C:/Users/BUILDE~1/AppData/Local/Temp/abs_455sf5o0ct/croots/recipe/menuinst_1661805970842/work\n",
      "mistune @ file:///C:/ci/mistune_1607359457024/work\n",
      "mkl-fft==1.3.1\n",
      "mkl-random @ file:///C:/ci/mkl_random_1626186184308/work\n",
      "mkl-service==2.4.0\n",
      "mock @ file:///tmp/build/80754af9/mock_1607622725907/work\n",
      "mpmath==1.2.1\n",
      "msgpack @ file:///C:/ci/msgpack-python_1652329316214/work\n",
      "multimethod==1.9.1\n",
      "multipledispatch @ file:///C:/ci/multipledispatch_1607574329826/work\n",
      "munkres==1.1.4\n",
      "mypy-extensions==0.4.3\n",
      "navigator-updater==0.3.0\n",
      "nbclassic @ file:///opt/conda/conda-bld/nbclassic_1644943264176/work\n",
      "nbclient @ file:///C:/ci/nbclient_1650290387259/work\n",
      "nbconvert @ file:///C:/ci/nbconvert_1649741016669/work\n",
      "nbformat @ file:///C:/b/abs_1dw90o2uqb/croots/recipe/nbformat_1663744957967/work\n",
      "nest-asyncio @ file:///C:/ci/nest-asyncio_1649829929390/work\n",
      "networkx @ file:///C:/ci/networkx_1657716998256/work\n",
      "nltk @ file:///opt/conda/conda-bld/nltk_1645628263994/work\n",
      "nose @ file:///opt/conda/conda-bld/nose_1642704612149/work\n",
      "notebook @ file:///C:/Windows/TEMP/abs_79abr1_60s/croots/recipe/notebook_1659083661851/work\n",
      "numba @ file:///C:/ci/numba_1650394399948/work\n",
      "numexpr @ file:///C:/Windows/Temp/abs_e2036a32-9fe9-47f3-a04c-dbb1c232ba4b334exiur/croots/recipe/numexpr_1656940304835/work\n",
      "numpy @ file:///C:/ci/numpy_and_numpy_base_1653574844560/work\n",
      "numpydoc @ file:///C:/Windows/TEMP/abs_30799058-86dd-4401-b621-d172137a4d87_ra3twm7/croots/recipe/numpydoc_1657529873713/work\n",
      "oauth2client==4.1.3\n",
      "oauthlib==3.2.2\n",
      "olefile @ file:///Users/ktietz/demo/mc3/conda-bld/olefile_1629805411829/work\n",
      "openpyxl==3.0.10\n",
      "opt-einsum==3.3.0\n",
      "packaging @ file:///tmp/build/80754af9/packaging_1637314298585/work\n",
      "pandas @ file:///C:/b/abs_cdcgk91igc/croots/recipe/pandas_1663772960432/work\n",
      "pandas-profiling==3.6.6\n",
      "pandocfilters @ file:///opt/conda/conda-bld/pandocfilters_1643405455980/work\n",
      "panel @ file:///C:/ci/panel_1657899702145/work\n",
      "param @ file:///tmp/build/80754af9/param_1636647414893/work\n",
      "paramiko @ file:///opt/conda/conda-bld/paramiko_1640109032755/work\n",
      "parsel @ file:///C:/ci/parsel_1646740216444/work\n",
      "parso @ file:///opt/conda/conda-bld/parso_1641458642106/work\n",
      "partd @ file:///opt/conda/conda-bld/partd_1647245470509/work\n",
      "pathlib @ file:///Users/ktietz/demo/mc3/conda-bld/pathlib_1629713961906/work\n",
      "pathspec @ file:///C:/Windows/TEMP/abs_581d0u45mh/croots/recipe/pathspec_1659627132171/work\n",
      "patsy==0.5.2\n",
      "pep8==1.7.1\n",
      "pexpect @ file:///tmp/build/80754af9/pexpect_1605563209008/work\n",
      "phik==0.12.3\n",
      "pickleshare @ file:///tmp/build/80754af9/pickleshare_1606932040724/work\n",
      "Pillow==9.2.0\n",
      "pkginfo @ file:///tmp/build/80754af9/pkginfo_1643162084911/work\n",
      "platformdirs @ file:///C:/b/abs_73cc5cz_1u/croots/recipe/platformdirs_1662711386458/work\n",
      "plotly @ file:///C:/ci/plotly_1658142442431/work\n",
      "pluggy @ file:///C:/ci/pluggy_1648024580010/work\n",
      "pmdarima==2.0.2\n",
      "poyo @ file:///tmp/build/80754af9/poyo_1617751526755/work\n",
      "prometheus-client @ file:///C:/Windows/TEMP/abs_ab9nx8qb08/croots/recipe/prometheus_client_1659455104602/work\n",
      "prompt-toolkit @ file:///tmp/build/80754af9/prompt-toolkit_1633440160888/work\n",
      "Protego @ file:///tmp/build/80754af9/protego_1598657180827/work\n",
      "protobuf==3.19.6\n",
      "psutil @ file:///C:/Windows/Temp/abs_b2c2fd7f-9fd5-4756-95ea-8aed74d0039flsd9qufz/croots/recipe/psutil_1656431277748/work\n",
      "ptyprocess @ file:///tmp/build/80754af9/ptyprocess_1609355006118/work/dist/ptyprocess-0.7.0-py2.py3-none-any.whl\n",
      "py @ file:///opt/conda/conda-bld/py_1644396412707/work\n",
      "pyasn1 @ file:///Users/ktietz/demo/mc3/conda-bld/pyasn1_1629708007385/work\n",
      "pyasn1-modules==0.2.8\n",
      "pycodestyle @ file:///tmp/build/80754af9/pycodestyle_1636635402688/work\n",
      "pycosat==0.6.3\n",
      "pycparser @ file:///tmp/build/80754af9/pycparser_1636541352034/work\n",
      "pyct @ file:///C:/ci/pyct_1658488033428/work\n",
      "pycurl==7.45.1\n",
      "pydantic==1.10.4\n",
      "PyDispatcher==2.0.5\n",
      "pydocstyle @ file:///tmp/build/80754af9/pydocstyle_1621600989141/work\n",
      "PyDrive==1.3.1\n",
      "pyerfa @ file:///C:/ci/pyerfa_1621560974055/work\n",
      "pyflakes @ file:///tmp/build/80754af9/pyflakes_1636644436481/work\n",
      "Pygments @ file:///opt/conda/conda-bld/pygments_1644249106324/work\n",
      "PyHamcrest @ file:///tmp/build/80754af9/pyhamcrest_1615748656804/work\n",
      "PyJWT @ file:///C:/ci/pyjwt_1657511236979/work\n",
      "pylint @ file:///C:/Windows/TEMP/abs_518eqlbmoo/croots/recipe/pylint_1659110354241/work\n",
      "pyls-spyder==0.4.0\n",
      "PyNaCl @ file:///C:/Windows/Temp/abs_d5c3ajcm87/croots/recipe/pynacl_1659620667490/work\n",
      "pyodbc @ file:///C:/Windows/Temp/abs_61e3jz3u05/croots/recipe/pyodbc_1659513801402/work\n",
      "pyOpenSSL @ file:///opt/conda/conda-bld/pyopenssl_1643788558760/work\n",
      "pyparsing @ file:///C:/Users/BUILDE~1/AppData/Local/Temp/abs_7f_7lba6rl/croots/recipe/pyparsing_1661452540662/work\n",
      "pyrsistent @ file:///C:/ci/pyrsistent_1636093225342/work\n",
      "PySocks @ file:///C:/ci/pysocks_1605307512533/work\n",
      "pytest==7.1.2\n",
      "python-dateutil @ file:///tmp/build/80754af9/python-dateutil_1626374649649/work\n",
      "python-lsp-black @ file:///tmp/build/80754af9/python-lsp-black_1634232156041/work\n",
      "python-lsp-jsonrpc==1.0.0\n",
      "python-lsp-server @ file:///tmp/build/80754af9/python-lsp-server_1648176833691/work\n",
      "python-slugify @ file:///tmp/build/80754af9/python-slugify_1620405669636/work\n",
      "python-snappy @ file:///C:/ci/python-snappy_1610133405910/work\n",
      "pytz @ file:///C:/Windows/TEMP/abs_90eacd4e-8eff-491e-b26e-f707eba2cbe1ujvbhqz1/croots/recipe/pytz_1654762631027/work\n",
      "pyviz-comms @ file:///tmp/build/80754af9/pyviz_comms_1623747165329/work\n",
      "PyWavelets @ file:///C:/ci/pywavelets_1648728084106/work\n",
      "pywin32==302\n",
      "pywin32-ctypes @ file:///C:/ci/pywin32-ctypes_1607553594546/work\n",
      "pywinpty @ file:///C:/ci_310/pywinpty_1644230983541/work/target/wheels/pywinpty-2.0.2-cp39-none-win_amd64.whl\n",
      "PyYAML==6.0\n",
      "pyzmq @ file:///C:/ci/pyzmq_1657615952984/work\n",
      "QDarkStyle @ file:///tmp/build/80754af9/qdarkstyle_1617386714626/work\n",
      "qstylizer @ file:///tmp/build/80754af9/qstylizer_1617713584600/work/dist/qstylizer-0.1.10-py2.py3-none-any.whl\n",
      "QtAwesome @ file:///tmp/build/80754af9/qtawesome_1637160816833/work\n",
      "qtconsole @ file:///opt/conda/conda-bld/qtconsole_1643819126524/work\n",
      "QtPy @ file:///C:/ci/qtpy_1662015096047/work\n",
      "queuelib==1.5.0\n",
      "regex @ file:///C:/ci/regex_1658258307256/work\n",
      "requests @ file:///C:/ci/requests_1657735342357/work\n",
      "requests-file @ file:///Users/ktietz/demo/mc3/conda-bld/requests-file_1629455781986/work\n",
      "requests-oauthlib==1.3.1\n",
      "rope @ file:///opt/conda/conda-bld/rope_1643788605236/work\n",
      "rsa==4.9\n",
      "Rtree @ file:///C:/ci/rtree_1618421015405/work\n",
      "ruamel-yaml-conda @ file:///C:/ci/ruamel_yaml_1616016898638/work\n",
      "s3transfer @ file:///C:/ci/s3transfer_1654512518418/work\n",
      "scikit-image @ file:///C:/ci/scikit-image_1648214340990/work\n",
      "scikit-learn @ file:///C:/ci/scikit-learn_1642617276183/work\n",
      "scikit-learn-intelex==2021.20221004.171935\n",
      "scipy==1.9.1\n",
      "Scrapy @ file:///C:/Windows/TEMP/abs_f50e21j997/croots/recipe/scrapy_1659598707153/work\n",
      "seaborn @ file:///tmp/build/80754af9/seaborn_1629307859561/work\n",
      "Send2Trash @ file:///tmp/build/80754af9/send2trash_1632406701022/work\n",
      "service-identity @ file:///Users/ktietz/demo/mc3/conda-bld/service_identity_1629460757137/work\n",
      "sip==4.19.13\n",
      "six @ file:///tmp/build/80754af9/six_1644875935023/work\n",
      "sklearn==0.0.post1\n",
      "smart-open @ file:///C:/ci/smart_open_1651235069716/work\n",
      "smmap==5.0.0\n",
      "sniffio @ file:///C:/ci/sniffio_1614030527509/work\n",
      "snowballstemmer @ file:///tmp/build/80754af9/snowballstemmer_1637937080595/work\n",
      "sortedcollections @ file:///tmp/build/80754af9/sortedcollections_1611172717284/work\n",
      "sortedcontainers @ file:///tmp/build/80754af9/sortedcontainers_1623949099177/work\n",
      "soupsieve @ file:///tmp/build/80754af9/soupsieve_1636706018808/work\n",
      "Sphinx @ file:///C:/ci/sphinx_1657617205740/work\n",
      "sphinxcontrib-applehelp @ file:///home/ktietz/src/ci/sphinxcontrib-applehelp_1611920841464/work\n",
      "sphinxcontrib-devhelp @ file:///home/ktietz/src/ci/sphinxcontrib-devhelp_1611920923094/work\n",
      "sphinxcontrib-htmlhelp @ file:///tmp/build/80754af9/sphinxcontrib-htmlhelp_1623945626792/work\n",
      "sphinxcontrib-jsmath @ file:///home/ktietz/src/ci/sphinxcontrib-jsmath_1611920942228/work\n",
      "sphinxcontrib-qthelp @ file:///home/ktietz/src/ci/sphinxcontrib-qthelp_1611921055322/work\n",
      "sphinxcontrib-serializinghtml @ file:///tmp/build/80754af9/sphinxcontrib-serializinghtml_1624451540180/work\n",
      "spyder @ file:///C:/Windows/TEMP/abs_66k5aq_mkw/croots/recipe/spyder_1659599805372/work\n",
      "spyder-kernels @ file:///C:/ci/spyder-kernels_1647011408404/work\n",
      "SQLAlchemy @ file:///C:/Windows/Temp/abs_f8661157-660b-49bb-a790-69ab9f3b8f7c8a8s2psb/croots/recipe/sqlalchemy_1657867864564/work\n",
      "statsmodels==0.13.2\n",
      "sympy @ file:///C:/ci/sympy_1647853873858/work\n",
      "tables==3.6.1\n",
      "tabulate @ file:///C:/ci/tabulate_1657619055201/work\n",
      "tangled-up-in-unicode==0.2.0\n",
      "TBB==0.2\n",
      "tblib @ file:///Users/ktietz/demo/mc3/conda-bld/tblib_1629402031467/work\n",
      "tenacity @ file:///C:/Windows/TEMP/abs_980d07a6-8e21-4174-9c17-7296219678ads7dhdov_/croots/recipe/tenacity_1657899108023/work\n",
      "tensorboard==2.11.2\n",
      "tensorboard-data-server==0.6.1\n",
      "tensorboard-plugin-wit==1.8.1\n",
      "tensorflow==2.11.0\n",
      "tensorflow-estimator==2.11.0\n",
      "tensorflow-intel==2.11.0\n",
      "tensorflow-io-gcs-filesystem==0.30.0\n",
      "termcolor==2.2.0\n",
      "terminado @ file:///C:/ci/terminado_1644322780199/work\n",
      "testpath @ file:///C:/Windows/TEMP/abs_23c7fa33-cbb9-46dc-b7c5-590c38e2de3d4bmbngal/croots/recipe/testpath_1655908553202/work\n",
      "text-unidecode @ file:///Users/ktietz/demo/mc3/conda-bld/text-unidecode_1629401354553/work\n",
      "textdistance @ file:///tmp/build/80754af9/textdistance_1612461398012/work\n",
      "threadpoolctl @ file:///Users/ktietz/demo/mc3/conda-bld/threadpoolctl_1629802263681/work\n",
      "three-merge @ file:///tmp/build/80754af9/three-merge_1607553261110/work\n",
      "tifffile @ file:///tmp/build/80754af9/tifffile_1627275862826/work\n",
      "tinycss @ file:///tmp/build/80754af9/tinycss_1617713798712/work\n",
      "tldextract @ file:///opt/conda/conda-bld/tldextract_1646638314385/work\n",
      "toml @ file:///tmp/build/80754af9/toml_1616166611790/work\n",
      "tomli @ file:///C:/Windows/TEMP/abs_ac109f85-a7b3-4b4d-bcfd-52622eceddf0hy332ojo/croots/recipe/tomli_1657175513137/work\n",
      "tomlkit @ file:///C:/Windows/TEMP/abs_3296qo9v6b/croots/recipe/tomlkit_1658946894808/work\n",
      "toolz @ file:///tmp/build/80754af9/toolz_1636545406491/work\n",
      "tornado @ file:///C:/ci/tornado_1606924294691/work\n",
      "tqdm @ file:///C:/b/abs_0axbz66qik/croots/recipe/tqdm_1664392691071/work\n",
      "traitlets @ file:///tmp/build/80754af9/traitlets_1636710298902/work\n",
      "Twisted @ file:///C:/Windows/Temp/abs_ccblv2rzfa/croots/recipe/twisted_1659592764512/work\n",
      "twisted-iocpsupport @ file:///C:/ci/twisted-iocpsupport_1646798932792/work\n",
      "typeguard==2.13.3\n",
      "typer==0.4.2\n",
      "typing_extensions @ file:///C:/Windows/TEMP/abs_dd2d0moa85/croots/recipe/typing_extensions_1659638831135/work\n",
      "ujson @ file:///C:/ci/ujson_1657525944442/work\n",
      "Unidecode @ file:///tmp/build/80754af9/unidecode_1614712377438/work\n",
      "uritemplate==4.1.1\n",
      "urllib3 @ file:///C:/Windows/TEMP/abs_65ynz4fdmi/croots/recipe/urllib3_1659110473919/work\n",
      "visions==0.7.5\n",
      "w3lib @ file:///Users/ktietz/demo/mc3/conda-bld/w3lib_1629359764703/work\n",
      "watchdog @ file:///C:/ci/watchdog_1638367441841/work\n",
      "wcwidth @ file:///Users/ktietz/demo/mc3/conda-bld/wcwidth_1629357192024/work\n",
      "webencodings==0.5.1\n",
      "websocket-client @ file:///C:/ci/websocket-client_1614804375980/work\n",
      "Werkzeug @ file:///opt/conda/conda-bld/werkzeug_1645628268370/work\n",
      "widgetsnbextension @ file:///C:/ci/widgetsnbextension_1644991377168/work\n",
      "win-inet-pton @ file:///C:/ci/win_inet_pton_1605306162074/work\n",
      "win-unicode-console==0.5\n",
      "wincertstore==0.2\n",
      "wordcloud==1.8.2.2\n",
      "wrapt @ file:///C:/Windows/Temp/abs_7c3dd407-1390-477a-b542-fd15df6a24085_diwiza/croots/recipe/wrapt_1657814452175/work\n",
      "xarray @ file:///opt/conda/conda-bld/xarray_1639166117697/work\n",
      "xgboost==1.7.3\n",
      "xlrd @ file:///tmp/build/80754af9/xlrd_1608072521494/work\n",
      "XlsxWriter @ file:///opt/conda/conda-bld/xlsxwriter_1649073856329/work\n",
      "xlwings @ file:///C:/b/abs_41rmpiyy58/croots/recipe/xlwings_1664932818417/work\n",
      "yapf @ file:///tmp/build/80754af9/yapf_1615749224965/work\n",
      "ydata-profiling==4.0.0\n",
      "zict==2.1.0\n",
      "zipp @ file:///C:/ci/zipp_1652273994994/work\n",
      "zope.interface @ file:///C:/ci/zope.interface_1625036252485/work\n",
      "Note: you may need to restart the kernel to use updated packages.\n"
     ]
    }
   ],
   "source": [
    "pip freeze"
   ]
  },
  {
   "cell_type": "code",
   "execution_count": 3,
   "id": "daffbc7f",
   "metadata": {},
   "outputs": [
    {
     "name": "stdout",
     "output_type": "stream",
     "text": [
      "Note: you may need to restart the kernel to use updated packages.\n"
     ]
    }
   ],
   "source": [
    "pip freeze > requirements.txt"
   ]
  },
  {
   "cell_type": "markdown",
   "id": "6386abe3",
   "metadata": {},
   "source": [
    "Версии"
   ]
  },
  {
   "cell_type": "code",
   "execution_count": 4,
   "id": "97adb49f",
   "metadata": {},
   "outputs": [
    {
     "data": {
      "text/plain": [
       "'2.11.0'"
      ]
     },
     "execution_count": 4,
     "metadata": {},
     "output_type": "execute_result"
    }
   ],
   "source": [
    "tf.__version__"
   ]
  },
  {
   "cell_type": "code",
   "execution_count": 5,
   "id": "46070f52",
   "metadata": {},
   "outputs": [
    {
     "data": {
      "text/plain": [
       "'1.21.5'"
      ]
     },
     "execution_count": 5,
     "metadata": {},
     "output_type": "execute_result"
    }
   ],
   "source": [
    "np.__version__"
   ]
  },
  {
   "cell_type": "code",
   "execution_count": 6,
   "id": "efb01da0",
   "metadata": {},
   "outputs": [
    {
     "data": {
      "text/plain": [
       "'3.9.13 (main, Aug 25 2022, 23:51:50) [MSC v.1916 64 bit (AMD64)]'"
      ]
     },
     "execution_count": 6,
     "metadata": {},
     "output_type": "execute_result"
    }
   ],
   "source": [
    "import sys\n",
    "sys.version"
   ]
  },
  {
   "cell_type": "code",
   "execution_count": null,
   "id": "c47e98bf",
   "metadata": {},
   "outputs": [],
   "source": [
    "pip freeze"
   ]
  },
  {
   "cell_type": "code",
   "execution_count": null,
   "id": "45d47f80",
   "metadata": {
    "scrolled": true
   },
   "outputs": [],
   "source": [
    "pip freeze > requirements.txt"
   ]
  },
  {
   "cell_type": "markdown",
   "id": "bc578858",
   "metadata": {},
   "source": [
    "Docker"
   ]
  },
  {
   "cell_type": "markdown",
   "id": "a90776c0",
   "metadata": {},
   "source": [
    "pip install -r requirements.txt"
   ]
  },
  {
   "cell_type": "markdown",
   "id": "c423d529",
   "metadata": {},
   "source": [
    "---"
   ]
  },
  {
   "cell_type": "markdown",
   "id": "816e0711",
   "metadata": {},
   "source": [
    "# Сохранение базовой модели"
   ]
  },
  {
   "cell_type": "markdown",
   "id": "2cd0e8e6",
   "metadata": {},
   "source": [
    "Пример модели"
   ]
  },
  {
   "cell_type": "code",
   "execution_count": 7,
   "id": "3c095da0",
   "metadata": {},
   "outputs": [],
   "source": [
    "def get_model():\n",
    "    inputs = keras.Input(shape=(32,))\n",
    "#     layer1 = keras.layers.Dense(5)(inputs)\n",
    "#     outputs = keras.layers.Dense(1)(layer1)\n",
    "    outputs = keras.layers.Dense(1)(inputs)\n",
    "    \n",
    "    model = keras.Model(inputs, outputs)\n",
    "    model.compile(optimizer=\"adam\", loss=\"mean_squared_error\")\n",
    "    \n",
    "    return model"
   ]
  },
  {
   "cell_type": "code",
   "execution_count": 24,
   "id": "833e3b3c",
   "metadata": {},
   "outputs": [],
   "source": [
    "model = get_model()"
   ]
  },
  {
   "cell_type": "code",
   "execution_count": 25,
   "id": "f706acb0",
   "metadata": {},
   "outputs": [
    {
     "name": "stdout",
     "output_type": "stream",
     "text": [
      "Model: \"model_2\"\n",
      "_________________________________________________________________\n",
      " Layer (type)                Output Shape              Param #   \n",
      "=================================================================\n",
      " input_3 (InputLayer)        [(None, 32)]              0         \n",
      "                                                                 \n",
      " dense_2 (Dense)             (None, 1)                 33        \n",
      "                                                                 \n",
      "=================================================================\n",
      "Total params: 33\n",
      "Trainable params: 33\n",
      "Non-trainable params: 0\n",
      "_________________________________________________________________\n"
     ]
    }
   ],
   "source": [
    "model.summary()"
   ]
  },
  {
   "cell_type": "code",
   "execution_count": 26,
   "id": "7c1eb353",
   "metadata": {},
   "outputs": [],
   "source": [
    "# Имитация набора данных: 2048 примеров\n",
    "tmp_input = np.random.random((2048, 32))\n",
    "tmp_target = np.random.random((2048, 1))"
   ]
  },
  {
   "cell_type": "code",
   "execution_count": 27,
   "id": "c11a15fc",
   "metadata": {},
   "outputs": [
    {
     "data": {
      "text/plain": [
       "(2048, 32)"
      ]
     },
     "execution_count": 27,
     "metadata": {},
     "output_type": "execute_result"
    }
   ],
   "source": [
    "tmp_input.shape"
   ]
  },
  {
   "cell_type": "code",
   "execution_count": 28,
   "id": "6491db2e",
   "metadata": {},
   "outputs": [
    {
     "data": {
      "text/plain": [
       "array([[0.63861921, 0.07184638, 0.69075763, ..., 0.69650238, 0.58579723,\n",
       "        0.22211401],\n",
       "       [0.62685005, 0.49302758, 0.31877969, ..., 0.0156235 , 0.60788035,\n",
       "        0.61767494],\n",
       "       [0.73807751, 0.13266912, 0.41776186, ..., 0.70439825, 0.81391737,\n",
       "        0.68549572],\n",
       "       ...,\n",
       "       [0.43586449, 0.34501931, 0.62202586, ..., 0.7591058 , 0.00660977,\n",
       "        0.56575764],\n",
       "       [0.00625309, 0.14313248, 0.08576439, ..., 0.44052558, 0.93255586,\n",
       "        0.02799844],\n",
       "       [0.75514743, 0.66524905, 0.02627325, ..., 0.1805354 , 0.94515254,\n",
       "        0.60796969]])"
      ]
     },
     "execution_count": 28,
     "metadata": {},
     "output_type": "execute_result"
    }
   ],
   "source": [
    "tmp_input"
   ]
  },
  {
   "cell_type": "code",
   "execution_count": 29,
   "id": "65656bf2",
   "metadata": {},
   "outputs": [
    {
     "name": "stdout",
     "output_type": "stream",
     "text": [
      "Epoch 1/4\n",
      "64/64 [==============================] - 0s 1ms/step - loss: 0.3104\n",
      "Epoch 2/4\n",
      "64/64 [==============================] - 0s 2ms/step - loss: 0.1764\n",
      "Epoch 3/4\n",
      "64/64 [==============================] - 0s 2ms/step - loss: 0.1695\n",
      "Epoch 4/4\n",
      "64/64 [==============================] - 0s 2ms/step - loss: 0.1621\n"
     ]
    },
    {
     "data": {
      "text/plain": [
       "<keras.callbacks.History at 0x2029180d880>"
      ]
     },
     "execution_count": 29,
     "metadata": {},
     "output_type": "execute_result"
    }
   ],
   "source": [
    "model.fit(tmp_input, tmp_target, epochs=4)"
   ]
  },
  {
   "cell_type": "code",
   "execution_count": 30,
   "id": "e81039e7",
   "metadata": {},
   "outputs": [],
   "source": [
    "?model.fit"
   ]
  },
  {
   "cell_type": "code",
   "execution_count": 16,
   "id": "eb66e332",
   "metadata": {},
   "outputs": [
    {
     "name": "stdout",
     "output_type": "stream",
     "text": [
      "Epoch 1/10\n",
      "64/64 [==============================] - 0s 2ms/step - loss: 0.2454\n",
      "Epoch 2/10\n",
      "64/64 [==============================] - 0s 2ms/step - loss: 0.2330\n",
      "Epoch 3/10\n",
      "64/64 [==============================] - 0s 1ms/step - loss: 0.2207\n",
      "Epoch 4/10\n",
      "64/64 [==============================] - 0s 1ms/step - loss: 0.2088\n",
      "Epoch 5/10\n",
      "64/64 [==============================] - 0s 2ms/step - loss: 0.1969\n",
      "Epoch 6/10\n",
      "64/64 [==============================] - 0s 3ms/step - loss: 0.1857\n",
      "Epoch 7/10\n",
      "64/64 [==============================] - 0s 1ms/step - loss: 0.1749\n",
      "Epoch 8/10\n",
      "64/64 [==============================] - 0s 2ms/step - loss: 0.1653\n",
      "Epoch 9/10\n",
      "64/64 [==============================] - 0s 2ms/step - loss: 0.1563\n",
      "Epoch 10/10\n",
      "64/64 [==============================] - 0s 1ms/step - loss: 0.1481\n"
     ]
    },
    {
     "data": {
      "text/plain": [
       "<keras.callbacks.History at 0x2029159a880>"
      ]
     },
     "execution_count": 16,
     "metadata": {},
     "output_type": "execute_result"
    }
   ],
   "source": [
    "model.fit(tmp_input, tmp_target, epochs=10)"
   ]
  },
  {
   "cell_type": "code",
   "execution_count": 31,
   "id": "60f3b523",
   "metadata": {},
   "outputs": [],
   "source": [
    "a = get_model()"
   ]
  },
  {
   "cell_type": "code",
   "execution_count": 32,
   "id": "7c9d5a99",
   "metadata": {},
   "outputs": [
    {
     "name": "stdout",
     "output_type": "stream",
     "text": [
      "Model: \"model_3\"\n",
      "_________________________________________________________________\n",
      " Layer (type)                Output Shape              Param #   \n",
      "=================================================================\n",
      " input_4 (InputLayer)        [(None, 32)]              0         \n",
      "                                                                 \n",
      " dense_3 (Dense)             (None, 1)                 33        \n",
      "                                                                 \n",
      "=================================================================\n",
      "Total params: 33\n",
      "Trainable params: 33\n",
      "Non-trainable params: 0\n",
      "_________________________________________________________________\n"
     ]
    }
   ],
   "source": [
    "a.summary()"
   ]
  },
  {
   "cell_type": "code",
   "execution_count": 19,
   "id": "859d35a6",
   "metadata": {},
   "outputs": [],
   "source": [
    "model = 1"
   ]
  },
  {
   "cell_type": "code",
   "execution_count": 33,
   "id": "76f2449f",
   "metadata": {},
   "outputs": [
    {
     "name": "stdout",
     "output_type": "stream",
     "text": [
      "Model: \"model_2\"\n",
      "_________________________________________________________________\n",
      " Layer (type)                Output Shape              Param #   \n",
      "=================================================================\n",
      " input_3 (InputLayer)        [(None, 32)]              0         \n",
      "                                                                 \n",
      " dense_2 (Dense)             (None, 1)                 33        \n",
      "                                                                 \n",
      "=================================================================\n",
      "Total params: 33\n",
      "Trainable params: 33\n",
      "Non-trainable params: 0\n",
      "_________________________________________________________________\n"
     ]
    }
   ],
   "source": [
    "model.summary()"
   ]
  },
  {
   "cell_type": "code",
   "execution_count": 34,
   "id": "2955d12d",
   "metadata": {
    "scrolled": true
   },
   "outputs": [
    {
     "name": "stdout",
     "output_type": "stream",
     "text": [
      "Epoch 1/10\n",
      "64/64 [==============================] - 0s 2ms/step - loss: 0.1545\n",
      "Epoch 2/10\n",
      "64/64 [==============================] - 0s 1ms/step - loss: 0.1468\n",
      "Epoch 3/10\n",
      "64/64 [==============================] - 0s 1ms/step - loss: 0.1395\n",
      "Epoch 4/10\n",
      "64/64 [==============================] - 0s 1ms/step - loss: 0.1328\n",
      "Epoch 5/10\n",
      "64/64 [==============================] - 0s 1ms/step - loss: 0.1262\n",
      "Epoch 6/10\n",
      "64/64 [==============================] - 0s 1ms/step - loss: 0.1204\n",
      "Epoch 7/10\n",
      "64/64 [==============================] - 0s 2ms/step - loss: 0.1151\n",
      "Epoch 8/10\n",
      "64/64 [==============================] - 0s 3ms/step - loss: 0.1104\n",
      "Epoch 9/10\n",
      "64/64 [==============================] - 0s 2ms/step - loss: 0.1064\n",
      "Epoch 10/10\n",
      "64/64 [==============================] - 0s 2ms/step - loss: 0.1028\n"
     ]
    },
    {
     "data": {
      "text/plain": [
       "<keras.callbacks.History at 0x20291897370>"
      ]
     },
     "execution_count": 34,
     "metadata": {},
     "output_type": "execute_result"
    }
   ],
   "source": [
    "model.fit(tmp_input, tmp_target, epochs=10)"
   ]
  },
  {
   "cell_type": "code",
   "execution_count": 23,
   "id": "91d8fc40",
   "metadata": {},
   "outputs": [
    {
     "ename": "AttributeError",
     "evalue": "'int' object has no attribute 'type'",
     "output_type": "error",
     "traceback": [
      "\u001b[1;31m---------------------------------------------------------------------------\u001b[0m",
      "\u001b[1;31mAttributeError\u001b[0m                            Traceback (most recent call last)",
      "\u001b[1;32m~\\AppData\\Local\\Temp\\ipykernel_19224\\3827040910.py\u001b[0m in \u001b[0;36m<module>\u001b[1;34m\u001b[0m\n\u001b[1;32m----> 1\u001b[1;33m \u001b[0mmodel\u001b[0m\u001b[1;33m.\u001b[0m\u001b[0mtype\u001b[0m\u001b[1;33m\u001b[0m\u001b[1;33m\u001b[0m\u001b[0m\n\u001b[0m",
      "\u001b[1;31mAttributeError\u001b[0m: 'int' object has no attribute 'type'"
     ]
    }
   ],
   "source": []
  },
  {
   "cell_type": "code",
   "execution_count": 35,
   "id": "bbbd5bc4",
   "metadata": {},
   "outputs": [],
   "source": [
    "model = get_model()"
   ]
  },
  {
   "cell_type": "code",
   "execution_count": 36,
   "id": "34843cff",
   "metadata": {},
   "outputs": [
    {
     "name": "stdout",
     "output_type": "stream",
     "text": [
      "Model: \"model_4\"\n",
      "_________________________________________________________________\n",
      " Layer (type)                Output Shape              Param #   \n",
      "=================================================================\n",
      " input_5 (InputLayer)        [(None, 32)]              0         \n",
      "                                                                 \n",
      " dense_4 (Dense)             (None, 1)                 33        \n",
      "                                                                 \n",
      "=================================================================\n",
      "Total params: 33\n",
      "Trainable params: 33\n",
      "Non-trainable params: 0\n",
      "_________________________________________________________________\n"
     ]
    }
   ],
   "source": [
    "model.summary()"
   ]
  },
  {
   "cell_type": "code",
   "execution_count": 37,
   "id": "1df9d7ae",
   "metadata": {
    "scrolled": true
   },
   "outputs": [
    {
     "name": "stdout",
     "output_type": "stream",
     "text": [
      "Epoch 1/5\n",
      "64/64 [==============================] - 0s 1ms/step - loss: 0.5436\n",
      "Epoch 2/5\n",
      "64/64 [==============================] - 0s 2ms/step - loss: 0.2308\n",
      "Epoch 3/5\n",
      "64/64 [==============================] - 0s 2ms/step - loss: 0.2200\n",
      "Epoch 4/5\n",
      "64/64 [==============================] - 0s 1ms/step - loss: 0.2111\n",
      "Epoch 5/5\n",
      "64/64 [==============================] - 0s 1ms/step - loss: 0.2017\n"
     ]
    },
    {
     "data": {
      "text/plain": [
       "<keras.callbacks.History at 0x202918b7dc0>"
      ]
     },
     "execution_count": 37,
     "metadata": {},
     "output_type": "execute_result"
    }
   ],
   "source": [
    "model.fit(tmp_input, tmp_target, epochs=5)"
   ]
  },
  {
   "cell_type": "markdown",
   "id": "f20df27b",
   "metadata": {},
   "source": [
    "Сохранение"
   ]
  },
  {
   "cell_type": "code",
   "execution_count": 44,
   "id": "05fc8420",
   "metadata": {},
   "outputs": [],
   "source": [
    "model_path = \"my_model_1\""
   ]
  },
  {
   "cell_type": "markdown",
   "id": "41fd9456",
   "metadata": {},
   "source": [
    "model_path = \"D:/work/project1/my_model_1\"  \n",
    "model_path = \"C:/eugenia/project1/my_model_1\"  \n",
    "не рекомендуется абсолютный  путь"
   ]
  },
  {
   "cell_type": "code",
   "execution_count": 45,
   "id": "fbc2ebe9",
   "metadata": {},
   "outputs": [
    {
     "name": "stderr",
     "output_type": "stream",
     "text": [
      "WARNING:absl:Found untraced functions such as _update_step_xla while saving (showing 1 of 1). These functions will not be directly callable after loading.\n"
     ]
    },
    {
     "name": "stdout",
     "output_type": "stream",
     "text": [
      "INFO:tensorflow:Assets written to: my_model_1\\assets\n"
     ]
    },
    {
     "name": "stderr",
     "output_type": "stream",
     "text": [
      "INFO:tensorflow:Assets written to: my_model_1\\assets\n"
     ]
    }
   ],
   "source": [
    "model.save(model_path)"
   ]
  },
  {
   "cell_type": "markdown",
   "id": "1dda1f4a",
   "metadata": {},
   "source": [
    "Загрузка модели"
   ]
  },
  {
   "cell_type": "code",
   "execution_count": 46,
   "id": "6ef69142",
   "metadata": {},
   "outputs": [],
   "source": [
    "reconstructed_model = keras.models.load_model(model_path)"
   ]
  },
  {
   "cell_type": "code",
   "execution_count": 47,
   "id": "49331f8a",
   "metadata": {},
   "outputs": [
    {
     "name": "stdout",
     "output_type": "stream",
     "text": [
      "Model: \"model_4\"\n",
      "_________________________________________________________________\n",
      " Layer (type)                Output Shape              Param #   \n",
      "=================================================================\n",
      " input_5 (InputLayer)        [(None, 32)]              0         \n",
      "                                                                 \n",
      " dense_4 (Dense)             (None, 1)                 33        \n",
      "                                                                 \n",
      "=================================================================\n",
      "Total params: 33\n",
      "Trainable params: 33\n",
      "Non-trainable params: 0\n",
      "_________________________________________________________________\n"
     ]
    }
   ],
   "source": [
    "reconstructed_model.summary()"
   ]
  },
  {
   "cell_type": "code",
   "execution_count": 48,
   "id": "174984b2",
   "metadata": {},
   "outputs": [
    {
     "name": "stdout",
     "output_type": "stream",
     "text": [
      "Model: \"model_4\"\n",
      "_________________________________________________________________\n",
      " Layer (type)                Output Shape              Param #   \n",
      "=================================================================\n",
      " input_5 (InputLayer)        [(None, 32)]              0         \n",
      "                                                                 \n",
      " dense_4 (Dense)             (None, 1)                 33        \n",
      "                                                                 \n",
      "=================================================================\n",
      "Total params: 33\n",
      "Trainable params: 33\n",
      "Non-trainable params: 0\n",
      "_________________________________________________________________\n"
     ]
    }
   ],
   "source": [
    "model.summary()"
   ]
  },
  {
   "cell_type": "code",
   "execution_count": 49,
   "id": "e5cf9441",
   "metadata": {},
   "outputs": [
    {
     "data": {
      "text/plain": [
       "[<tf.Variable 'dense_4/kernel:0' shape=(32, 1) dtype=float32, numpy=\n",
       " array([[ 0.08514459],\n",
       "        [-0.10109646],\n",
       "        [ 0.01877539],\n",
       "        [ 0.00563872],\n",
       "        [ 0.31376886],\n",
       "        [-0.22132404],\n",
       "        [-0.13791648],\n",
       "        [-0.01779721],\n",
       "        [-0.23778038],\n",
       "        [ 0.33365735],\n",
       "        [-0.30234456],\n",
       "        [ 0.02102913],\n",
       "        [ 0.13429612],\n",
       "        [ 0.08012009],\n",
       "        [ 0.01181314],\n",
       "        [ 0.118499  ],\n",
       "        [ 0.24817105],\n",
       "        [ 0.07466882],\n",
       "        [ 0.19132245],\n",
       "        [ 0.358819  ],\n",
       "        [ 0.31965876],\n",
       "        [ 0.14399889],\n",
       "        [-0.10243303],\n",
       "        [-0.21835056],\n",
       "        [ 0.01463337],\n",
       "        [-0.12632428],\n",
       "        [-0.04070312],\n",
       "        [-0.03949545],\n",
       "        [-0.31820065],\n",
       "        [-0.27572954],\n",
       "        [ 0.07404938],\n",
       "        [ 0.4147861 ]], dtype=float32)>,\n",
       " <tf.Variable 'dense_4/bias:0' shape=(1,) dtype=float32, numpy=array([0.06133759], dtype=float32)>]"
      ]
     },
     "execution_count": 49,
     "metadata": {},
     "output_type": "execute_result"
    }
   ],
   "source": [
    "model.weights"
   ]
  },
  {
   "cell_type": "code",
   "execution_count": 50,
   "id": "ec7c56dd",
   "metadata": {},
   "outputs": [
    {
     "data": {
      "text/plain": [
       "[<tf.Variable 'dense_4/kernel:0' shape=(32, 1) dtype=float32, numpy=\n",
       " array([[ 0.08514459],\n",
       "        [-0.10109646],\n",
       "        [ 0.01877539],\n",
       "        [ 0.00563872],\n",
       "        [ 0.31376886],\n",
       "        [-0.22132404],\n",
       "        [-0.13791648],\n",
       "        [-0.01779721],\n",
       "        [-0.23778038],\n",
       "        [ 0.33365735],\n",
       "        [-0.30234456],\n",
       "        [ 0.02102913],\n",
       "        [ 0.13429612],\n",
       "        [ 0.08012009],\n",
       "        [ 0.01181314],\n",
       "        [ 0.118499  ],\n",
       "        [ 0.24817105],\n",
       "        [ 0.07466882],\n",
       "        [ 0.19132245],\n",
       "        [ 0.358819  ],\n",
       "        [ 0.31965876],\n",
       "        [ 0.14399889],\n",
       "        [-0.10243303],\n",
       "        [-0.21835056],\n",
       "        [ 0.01463337],\n",
       "        [-0.12632428],\n",
       "        [-0.04070312],\n",
       "        [-0.03949545],\n",
       "        [-0.31820065],\n",
       "        [-0.27572954],\n",
       "        [ 0.07404938],\n",
       "        [ 0.4147861 ]], dtype=float32)>,\n",
       " <tf.Variable 'dense_4/bias:0' shape=(1,) dtype=float32, numpy=array([0.06133759], dtype=float32)>]"
      ]
     },
     "execution_count": 50,
     "metadata": {},
     "output_type": "execute_result"
    }
   ],
   "source": [
    "reconstructed_model.weights"
   ]
  },
  {
   "cell_type": "markdown",
   "id": "032f0716",
   "metadata": {},
   "source": [
    "Сравнение моделей"
   ]
  },
  {
   "cell_type": "code",
   "execution_count": 51,
   "id": "363ad754",
   "metadata": {},
   "outputs": [],
   "source": [
    "?np.testing.assert_allclose"
   ]
  },
  {
   "cell_type": "code",
   "execution_count": 52,
   "id": "d8a5e0ed",
   "metadata": {},
   "outputs": [
    {
     "name": "stdout",
     "output_type": "stream",
     "text": [
      "Help on function assert_allclose in module numpy.testing._private.utils:\n",
      "\n",
      "assert_allclose(actual, desired, rtol=1e-07, atol=0, equal_nan=True, err_msg='', verbose=True)\n",
      "    Raises an AssertionError if two objects are not equal up to desired\n",
      "    tolerance.\n",
      "    \n",
      "    The test is equivalent to ``allclose(actual, desired, rtol, atol)`` (note\n",
      "    that ``allclose`` has different default values). It compares the difference\n",
      "    between `actual` and `desired` to ``atol + rtol * abs(desired)``.\n",
      "    \n",
      "    .. versionadded:: 1.5.0\n",
      "    \n",
      "    Parameters\n",
      "    ----------\n",
      "    actual : array_like\n",
      "        Array obtained.\n",
      "    desired : array_like\n",
      "        Array desired.\n",
      "    rtol : float, optional\n",
      "        Relative tolerance.\n",
      "    atol : float, optional\n",
      "        Absolute tolerance.\n",
      "    equal_nan : bool, optional.\n",
      "        If True, NaNs will compare equal.\n",
      "    err_msg : str, optional\n",
      "        The error message to be printed in case of failure.\n",
      "    verbose : bool, optional\n",
      "        If True, the conflicting values are appended to the error message.\n",
      "    \n",
      "    Raises\n",
      "    ------\n",
      "    AssertionError\n",
      "        If actual and desired are not equal up to specified precision.\n",
      "    \n",
      "    See Also\n",
      "    --------\n",
      "    assert_array_almost_equal_nulp, assert_array_max_ulp\n",
      "    \n",
      "    Examples\n",
      "    --------\n",
      "    >>> x = [1e-5, 1e-3, 1e-1]\n",
      "    >>> y = np.arccos(np.cos(x))\n",
      "    >>> np.testing.assert_allclose(x, y, rtol=1e-5, atol=0)\n",
      "\n"
     ]
    }
   ],
   "source": [
    "help(np.testing.assert_allclose)"
   ]
  },
  {
   "cell_type": "code",
   "execution_count": 53,
   "id": "3a9fdf36",
   "metadata": {},
   "outputs": [
    {
     "data": {
      "text/plain": [
       "array([[ 0.08514459],\n",
       "       [-0.10109646],\n",
       "       [ 0.01877539],\n",
       "       [ 0.00563872],\n",
       "       [ 0.31376886],\n",
       "       [-0.22132404],\n",
       "       [-0.13791648],\n",
       "       [-0.01779721],\n",
       "       [-0.23778038],\n",
       "       [ 0.33365735],\n",
       "       [-0.30234456],\n",
       "       [ 0.02102913],\n",
       "       [ 0.13429612],\n",
       "       [ 0.08012009],\n",
       "       [ 0.01181314],\n",
       "       [ 0.118499  ],\n",
       "       [ 0.24817105],\n",
       "       [ 0.07466882],\n",
       "       [ 0.19132245],\n",
       "       [ 0.358819  ],\n",
       "       [ 0.31965876],\n",
       "       [ 0.14399889],\n",
       "       [-0.10243303],\n",
       "       [-0.21835056],\n",
       "       [ 0.01463337],\n",
       "       [-0.12632428],\n",
       "       [-0.04070312],\n",
       "       [-0.03949545],\n",
       "       [-0.31820065],\n",
       "       [-0.27572954],\n",
       "       [ 0.07404938],\n",
       "       [ 0.4147861 ]], dtype=float32)"
      ]
     },
     "execution_count": 53,
     "metadata": {},
     "output_type": "execute_result"
    }
   ],
   "source": [
    "reconstructed_model.get_weights()[0]"
   ]
  },
  {
   "cell_type": "code",
   "execution_count": 54,
   "id": "8dfbc5a3",
   "metadata": {},
   "outputs": [],
   "source": [
    "np.testing.assert_allclose(model.get_weights()[0], \n",
    "                           reconstructed_model.get_weights()[0], \n",
    "                           rtol=0.0000001)"
   ]
  },
  {
   "cell_type": "code",
   "execution_count": 55,
   "id": "8e5451c8",
   "metadata": {},
   "outputs": [
    {
     "ename": "AssertionError",
     "evalue": "\nNot equal to tolerance rtol=1e-07, atol=0\n\nMismatched elements: 3 / 3 (100%)\nMax absolute difference: 21\nMax relative difference: 0.95454545\n x: array([1, 2, 3])\n y: array([22, 22, 22])",
     "output_type": "error",
     "traceback": [
      "\u001b[1;31m---------------------------------------------------------------------------\u001b[0m",
      "\u001b[1;31mAssertionError\u001b[0m                            Traceback (most recent call last)",
      "\u001b[1;32m~\\AppData\\Local\\Temp\\ipykernel_19224\\3802212147.py\u001b[0m in \u001b[0;36m<module>\u001b[1;34m\u001b[0m\n\u001b[1;32m----> 1\u001b[1;33m np.testing.assert_allclose([1, 2, 3], \n\u001b[0m\u001b[0;32m      2\u001b[0m                            [22, 22, 22])\n",
      "    \u001b[1;31m[... skipping hidden 1 frame]\u001b[0m\n",
      "\u001b[1;32m~\\anaconda3\\lib\\site-packages\\numpy\\testing\\_private\\utils.py\u001b[0m in \u001b[0;36massert_array_compare\u001b[1;34m(comparison, x, y, err_msg, verbose, header, precision, equal_nan, equal_inf)\u001b[0m\n\u001b[0;32m    842\u001b[0m                                 \u001b[0mverbose\u001b[0m\u001b[1;33m=\u001b[0m\u001b[0mverbose\u001b[0m\u001b[1;33m,\u001b[0m \u001b[0mheader\u001b[0m\u001b[1;33m=\u001b[0m\u001b[0mheader\u001b[0m\u001b[1;33m,\u001b[0m\u001b[1;33m\u001b[0m\u001b[1;33m\u001b[0m\u001b[0m\n\u001b[0;32m    843\u001b[0m                                 names=('x', 'y'), precision=precision)\n\u001b[1;32m--> 844\u001b[1;33m             \u001b[1;32mraise\u001b[0m \u001b[0mAssertionError\u001b[0m\u001b[1;33m(\u001b[0m\u001b[0mmsg\u001b[0m\u001b[1;33m)\u001b[0m\u001b[1;33m\u001b[0m\u001b[1;33m\u001b[0m\u001b[0m\n\u001b[0m\u001b[0;32m    845\u001b[0m     \u001b[1;32mexcept\u001b[0m \u001b[0mValueError\u001b[0m\u001b[1;33m:\u001b[0m\u001b[1;33m\u001b[0m\u001b[1;33m\u001b[0m\u001b[0m\n\u001b[0;32m    846\u001b[0m         \u001b[1;32mimport\u001b[0m \u001b[0mtraceback\u001b[0m\u001b[1;33m\u001b[0m\u001b[1;33m\u001b[0m\u001b[0m\n",
      "\u001b[1;31mAssertionError\u001b[0m: \nNot equal to tolerance rtol=1e-07, atol=0\n\nMismatched elements: 3 / 3 (100%)\nMax absolute difference: 21\nMax relative difference: 0.95454545\n x: array([1, 2, 3])\n y: array([22, 22, 22])"
     ]
    }
   ],
   "source": [
    "np.testing.assert_allclose([1, 2, 3], \n",
    "                           [22, 22, 22])"
   ]
  },
  {
   "cell_type": "code",
   "execution_count": 56,
   "id": "2be1dd27",
   "metadata": {},
   "outputs": [
    {
     "data": {
      "text/plain": [
       "False"
      ]
     },
     "execution_count": 56,
     "metadata": {},
     "output_type": "execute_result"
    }
   ],
   "source": [
    "model == reconstructed_model"
   ]
  },
  {
   "cell_type": "code",
   "execution_count": 57,
   "id": "3261a844",
   "metadata": {},
   "outputs": [
    {
     "data": {
      "text/plain": [
       "<keras.engine.functional.Functional at 0x202918975e0>"
      ]
     },
     "execution_count": 57,
     "metadata": {},
     "output_type": "execute_result"
    }
   ],
   "source": [
    "model"
   ]
  },
  {
   "cell_type": "code",
   "execution_count": 58,
   "id": "9c78252b",
   "metadata": {},
   "outputs": [
    {
     "data": {
      "text/plain": [
       "<keras.engine.functional.Functional at 0x202918b07f0>"
      ]
     },
     "execution_count": 58,
     "metadata": {},
     "output_type": "execute_result"
    }
   ],
   "source": [
    "reconstructed_model"
   ]
  },
  {
   "cell_type": "markdown",
   "id": "df67b438",
   "metadata": {},
   "source": [
    "Продолжение обучения"
   ]
  },
  {
   "cell_type": "code",
   "execution_count": 59,
   "id": "79026bc5",
   "metadata": {},
   "outputs": [
    {
     "name": "stdout",
     "output_type": "stream",
     "text": [
      "Epoch 1/20\n",
      "64/64 [==============================] - 1s 3ms/step - loss: 0.1869\n",
      "Epoch 2/20\n",
      "64/64 [==============================] - 0s 2ms/step - loss: 0.1664\n",
      "Epoch 3/20\n",
      "64/64 [==============================] - 0s 2ms/step - loss: 0.1498\n",
      "Epoch 4/20\n",
      "64/64 [==============================] - 0s 3ms/step - loss: 0.1362\n",
      "Epoch 5/20\n",
      "64/64 [==============================] - 0s 3ms/step - loss: 0.1252\n",
      "Epoch 6/20\n",
      "64/64 [==============================] - 0s 3ms/step - loss: 0.1167\n",
      "Epoch 7/20\n",
      "64/64 [==============================] - 0s 3ms/step - loss: 0.1093\n",
      "Epoch 8/20\n",
      "64/64 [==============================] - 0s 3ms/step - loss: 0.1041\n",
      "Epoch 9/20\n",
      "64/64 [==============================] - 0s 4ms/step - loss: 0.0992\n",
      "Epoch 10/20\n",
      "64/64 [==============================] - 0s 3ms/step - loss: 0.0956\n",
      "Epoch 11/20\n",
      "64/64 [==============================] - 0s 3ms/step - loss: 0.0928\n",
      "Epoch 12/20\n",
      "64/64 [==============================] - 0s 3ms/step - loss: 0.0909\n",
      "Epoch 13/20\n",
      "64/64 [==============================] - 0s 2ms/step - loss: 0.0890\n",
      "Epoch 14/20\n",
      "64/64 [==============================] - 0s 2ms/step - loss: 0.0880\n",
      "Epoch 15/20\n",
      "64/64 [==============================] - 0s 2ms/step - loss: 0.0869\n",
      "Epoch 16/20\n",
      "64/64 [==============================] - 0s 2ms/step - loss: 0.0860\n",
      "Epoch 17/20\n",
      "64/64 [==============================] - 0s 3ms/step - loss: 0.0861\n",
      "Epoch 18/20\n",
      "64/64 [==============================] - 0s 3ms/step - loss: 0.0849\n",
      "Epoch 19/20\n",
      "64/64 [==============================] - 0s 2ms/step - loss: 0.0847\n",
      "Epoch 20/20\n",
      "64/64 [==============================] - 0s 3ms/step - loss: 0.0845\n"
     ]
    },
    {
     "data": {
      "text/plain": [
       "<keras.callbacks.History at 0x202929c87c0>"
      ]
     },
     "execution_count": 59,
     "metadata": {},
     "output_type": "execute_result"
    }
   ],
   "source": [
    "reconstructed_model.fit(tmp_input, tmp_target, epochs=20)"
   ]
  },
  {
   "cell_type": "code",
   "execution_count": 60,
   "id": "5e144237",
   "metadata": {},
   "outputs": [
    {
     "ename": "AssertionError",
     "evalue": "\nNot equal to tolerance rtol=1e-07, atol=0\n\nMismatched elements: 32 / 32 (100%)\nMax absolute difference: 0.39436132\nMax relative difference: 52.43441\n x: array([[ 0.085145],\n       [-0.101096],\n       [ 0.018775],...\n y: array([[ 0.06372 ],\n       [ 0.017928],\n       [ 0.044709],...",
     "output_type": "error",
     "traceback": [
      "\u001b[1;31m---------------------------------------------------------------------------\u001b[0m",
      "\u001b[1;31mAssertionError\u001b[0m                            Traceback (most recent call last)",
      "\u001b[1;32m~\\AppData\\Local\\Temp\\ipykernel_19224\\2973277383.py\u001b[0m in \u001b[0;36m<module>\u001b[1;34m\u001b[0m\n\u001b[1;32m----> 1\u001b[1;33m np.testing.assert_allclose(model.get_weights()[0], \n\u001b[0m\u001b[0;32m      2\u001b[0m                            \u001b[0mreconstructed_model\u001b[0m\u001b[1;33m.\u001b[0m\u001b[0mget_weights\u001b[0m\u001b[1;33m(\u001b[0m\u001b[1;33m)\u001b[0m\u001b[1;33m[\u001b[0m\u001b[1;36m0\u001b[0m\u001b[1;33m]\u001b[0m\u001b[1;33m,\u001b[0m\u001b[1;33m\u001b[0m\u001b[1;33m\u001b[0m\u001b[0m\n\u001b[0;32m      3\u001b[0m                            rtol=0.0000001)\n",
      "    \u001b[1;31m[... skipping hidden 1 frame]\u001b[0m\n",
      "\u001b[1;32m~\\anaconda3\\lib\\site-packages\\numpy\\testing\\_private\\utils.py\u001b[0m in \u001b[0;36massert_array_compare\u001b[1;34m(comparison, x, y, err_msg, verbose, header, precision, equal_nan, equal_inf)\u001b[0m\n\u001b[0;32m    842\u001b[0m                                 \u001b[0mverbose\u001b[0m\u001b[1;33m=\u001b[0m\u001b[0mverbose\u001b[0m\u001b[1;33m,\u001b[0m \u001b[0mheader\u001b[0m\u001b[1;33m=\u001b[0m\u001b[0mheader\u001b[0m\u001b[1;33m,\u001b[0m\u001b[1;33m\u001b[0m\u001b[1;33m\u001b[0m\u001b[0m\n\u001b[0;32m    843\u001b[0m                                 names=('x', 'y'), precision=precision)\n\u001b[1;32m--> 844\u001b[1;33m             \u001b[1;32mraise\u001b[0m \u001b[0mAssertionError\u001b[0m\u001b[1;33m(\u001b[0m\u001b[0mmsg\u001b[0m\u001b[1;33m)\u001b[0m\u001b[1;33m\u001b[0m\u001b[1;33m\u001b[0m\u001b[0m\n\u001b[0m\u001b[0;32m    845\u001b[0m     \u001b[1;32mexcept\u001b[0m \u001b[0mValueError\u001b[0m\u001b[1;33m:\u001b[0m\u001b[1;33m\u001b[0m\u001b[1;33m\u001b[0m\u001b[0m\n\u001b[0;32m    846\u001b[0m         \u001b[1;32mimport\u001b[0m \u001b[0mtraceback\u001b[0m\u001b[1;33m\u001b[0m\u001b[1;33m\u001b[0m\u001b[0m\n",
      "\u001b[1;31mAssertionError\u001b[0m: \nNot equal to tolerance rtol=1e-07, atol=0\n\nMismatched elements: 32 / 32 (100%)\nMax absolute difference: 0.39436132\nMax relative difference: 52.43441\n x: array([[ 0.085145],\n       [-0.101096],\n       [ 0.018775],...\n y: array([[ 0.06372 ],\n       [ 0.017928],\n       [ 0.044709],..."
     ]
    }
   ],
   "source": [
    "np.testing.assert_allclose(model.get_weights()[0], \n",
    "                           reconstructed_model.get_weights()[0], \n",
    "                           rtol=0.0000001)"
   ]
  },
  {
   "cell_type": "code",
   "execution_count": 61,
   "id": "3a129690",
   "metadata": {},
   "outputs": [
    {
     "data": {
      "text/plain": [
       "array([[ 0.08514459],\n",
       "       [-0.10109646],\n",
       "       [ 0.01877539],\n",
       "       [ 0.00563872],\n",
       "       [ 0.31376886],\n",
       "       [-0.22132404],\n",
       "       [-0.13791648],\n",
       "       [-0.01779721],\n",
       "       [-0.23778038],\n",
       "       [ 0.33365735],\n",
       "       [-0.30234456],\n",
       "       [ 0.02102913],\n",
       "       [ 0.13429612],\n",
       "       [ 0.08012009],\n",
       "       [ 0.01181314],\n",
       "       [ 0.118499  ],\n",
       "       [ 0.24817105],\n",
       "       [ 0.07466882],\n",
       "       [ 0.19132245],\n",
       "       [ 0.358819  ],\n",
       "       [ 0.31965876],\n",
       "       [ 0.14399889],\n",
       "       [-0.10243303],\n",
       "       [-0.21835056],\n",
       "       [ 0.01463337],\n",
       "       [-0.12632428],\n",
       "       [-0.04070312],\n",
       "       [-0.03949545],\n",
       "       [-0.31820065],\n",
       "       [-0.27572954],\n",
       "       [ 0.07404938],\n",
       "       [ 0.4147861 ]], dtype=float32)"
      ]
     },
     "execution_count": 61,
     "metadata": {},
     "output_type": "execute_result"
    }
   ],
   "source": [
    "model.get_weights()[0]"
   ]
  },
  {
   "cell_type": "code",
   "execution_count": 62,
   "id": "68d2d66a",
   "metadata": {},
   "outputs": [
    {
     "data": {
      "text/plain": [
       "array([[ 0.06372016],\n",
       "       [ 0.01792771],\n",
       "       [ 0.04470944],\n",
       "       [ 0.02292729],\n",
       "       [ 0.0503382 ],\n",
       "       [-0.01125977],\n",
       "       [ 0.02684504],\n",
       "       [ 0.01445989],\n",
       "       [-0.02791958],\n",
       "       [ 0.02947246],\n",
       "       [-0.01158235],\n",
       "       [ 0.05327379],\n",
       "       [ 0.01703331],\n",
       "       [-0.01007107],\n",
       "       [ 0.04734327],\n",
       "       [ 0.04907845],\n",
       "       [ 0.05834931],\n",
       "       [ 0.02800754],\n",
       "       [ 0.00707706],\n",
       "       [ 0.03122703],\n",
       "       [ 0.02749745],\n",
       "       [ 0.03330447],\n",
       "       [ 0.06468357],\n",
       "       [ 0.01555483],\n",
       "       [-0.02076233],\n",
       "       [ 0.03046733],\n",
       "       [ 0.03795574],\n",
       "       [ 0.02407753],\n",
       "       [-0.00595498],\n",
       "       [ 0.01274641],\n",
       "       [ 0.00399664],\n",
       "       [ 0.02042477]], dtype=float32)"
      ]
     },
     "execution_count": 62,
     "metadata": {},
     "output_type": "execute_result"
    }
   ],
   "source": [
    "reconstructed_model.get_weights()[0]"
   ]
  },
  {
   "cell_type": "code",
   "execution_count": null,
   "id": "e8f9f3ec",
   "metadata": {},
   "outputs": [],
   "source": []
  },
  {
   "cell_type": "code",
   "execution_count": 63,
   "id": "4bfae6ad",
   "metadata": {},
   "outputs": [
    {
     "name": "stdout",
     "output_type": "stream",
     "text": [
      "64/64 [==============================] - 0s 2ms/step - loss: 0.1965\n"
     ]
    },
    {
     "data": {
      "text/plain": [
       "0.19645555317401886"
      ]
     },
     "execution_count": 63,
     "metadata": {},
     "output_type": "execute_result"
    }
   ],
   "source": [
    "model.evaluate(tmp_input, tmp_target)"
   ]
  },
  {
   "cell_type": "code",
   "execution_count": 64,
   "id": "d18a279a",
   "metadata": {
    "scrolled": true
   },
   "outputs": [
    {
     "name": "stdout",
     "output_type": "stream",
     "text": [
      "64/64 [==============================] - 0s 3ms/step - loss: 0.0841\n"
     ]
    },
    {
     "data": {
      "text/plain": [
       "0.08405298739671707"
      ]
     },
     "execution_count": 64,
     "metadata": {},
     "output_type": "execute_result"
    }
   ],
   "source": [
    "reconstructed_model.evaluate(tmp_input, tmp_target)"
   ]
  },
  {
   "cell_type": "code",
   "execution_count": null,
   "id": "3329d861",
   "metadata": {},
   "outputs": [],
   "source": []
  },
  {
   "cell_type": "code",
   "execution_count": 65,
   "id": "1d59b61a",
   "metadata": {},
   "outputs": [],
   "source": [
    "reconstructed_model = keras.models.load_model(model_path)"
   ]
  },
  {
   "cell_type": "code",
   "execution_count": 66,
   "id": "45100a64",
   "metadata": {},
   "outputs": [
    {
     "name": "stdout",
     "output_type": "stream",
     "text": [
      "64/64 [==============================] - 0s 3ms/step - loss: 0.1965\n"
     ]
    },
    {
     "data": {
      "text/plain": [
       "0.19645555317401886"
      ]
     },
     "execution_count": 66,
     "metadata": {},
     "output_type": "execute_result"
    }
   ],
   "source": [
    "reconstructed_model.evaluate(tmp_input, tmp_target)"
   ]
  },
  {
   "cell_type": "code",
   "execution_count": 67,
   "id": "c69c6f47",
   "metadata": {},
   "outputs": [],
   "source": [
    "np.testing.assert_allclose(model.get_weights()[0], \n",
    "                           reconstructed_model.get_weights()[0], \n",
    "                           rtol=0.0000001)"
   ]
  },
  {
   "cell_type": "code",
   "execution_count": null,
   "id": "4b1b146a",
   "metadata": {},
   "outputs": [],
   "source": []
  },
  {
   "cell_type": "code",
   "execution_count": 68,
   "id": "52c56e69",
   "metadata": {},
   "outputs": [
    {
     "name": "stdout",
     "output_type": "stream",
     "text": [
      "Epoch 1/5\n",
      "64/64 [==============================] - 1s 2ms/step - loss: 0.1866\n",
      "Epoch 2/5\n",
      "64/64 [==============================] - 0s 3ms/step - loss: 0.1670\n",
      "Epoch 3/5\n",
      "64/64 [==============================] - 0s 3ms/step - loss: 0.1502\n",
      "Epoch 4/5\n",
      "64/64 [==============================] - 0s 3ms/step - loss: 0.1363\n",
      "Epoch 5/5\n",
      "64/64 [==============================] - 0s 3ms/step - loss: 0.1253\n"
     ]
    },
    {
     "data": {
      "text/plain": [
       "<keras.callbacks.History at 0x20293ce69a0>"
      ]
     },
     "execution_count": 68,
     "metadata": {},
     "output_type": "execute_result"
    }
   ],
   "source": [
    "reconstructed_model.fit(tmp_input, tmp_target, epochs=5)"
   ]
  },
  {
   "cell_type": "code",
   "execution_count": 69,
   "id": "bf9ce16d",
   "metadata": {},
   "outputs": [
    {
     "name": "stderr",
     "output_type": "stream",
     "text": [
      "WARNING:absl:Found untraced functions such as _update_step_xla while saving (showing 1 of 1). These functions will not be directly callable after loading.\n"
     ]
    },
    {
     "name": "stdout",
     "output_type": "stream",
     "text": [
      "INFO:tensorflow:Assets written to: my_model_2\\assets\n"
     ]
    },
    {
     "name": "stderr",
     "output_type": "stream",
     "text": [
      "INFO:tensorflow:Assets written to: my_model_2\\assets\n"
     ]
    }
   ],
   "source": [
    "path_2 = \"my_model_2\"\n",
    "reconstructed_model.save(path_2)"
   ]
  },
  {
   "cell_type": "markdown",
   "id": "719c7f33",
   "metadata": {},
   "source": [
    "Лучше избегать названия \"model\", \"model_new\", model_final"
   ]
  },
  {
   "cell_type": "markdown",
   "id": "0c59d236",
   "metadata": {},
   "source": [
    "Лучше - осмысленные \"yolo_v5_416\", \"resnet18_epoch100\", unet256, unet512"
   ]
  },
  {
   "cell_type": "markdown",
   "id": "9dc467e2",
   "metadata": {},
   "source": [
    "yolo - то то тототото"
   ]
  },
  {
   "cell_type": "markdown",
   "id": "5ceb6b4b",
   "metadata": {},
   "source": [
    "model_pw_epoch230"
   ]
  },
  {
   "cell_type": "code",
   "execution_count": null,
   "id": "2a06a99a",
   "metadata": {},
   "outputs": [],
   "source": []
  },
  {
   "cell_type": "code",
   "execution_count": null,
   "id": "85a470f6",
   "metadata": {},
   "outputs": [],
   "source": []
  },
  {
   "cell_type": "code",
   "execution_count": 70,
   "id": "10f76417",
   "metadata": {},
   "outputs": [
    {
     "data": {
      "text/plain": [
       "(32, 1)"
      ]
     },
     "execution_count": 70,
     "metadata": {},
     "output_type": "execute_result"
    }
   ],
   "source": [
    "model.get_weights()[0].shape"
   ]
  },
  {
   "cell_type": "code",
   "execution_count": 71,
   "id": "df37397e",
   "metadata": {},
   "outputs": [
    {
     "data": {
      "text/plain": [
       "(32, 1)"
      ]
     },
     "execution_count": 71,
     "metadata": {},
     "output_type": "execute_result"
    }
   ],
   "source": [
    "reconstructed_model.get_weights()[0].shape"
   ]
  },
  {
   "cell_type": "code",
   "execution_count": 72,
   "id": "b0207b0f",
   "metadata": {},
   "outputs": [
    {
     "ename": "AssertionError",
     "evalue": "\nNot equal to tolerance rtol=1e-07, atol=0\n\nMismatched elements: 32 / 32 (100%)\nMax absolute difference: 0.17047672\nMax relative difference: 9.558846\n x: array([[ 0.085145],\n       [-0.101096],\n       [ 0.018775],...\n y: array([[ 0.075164],\n       [-0.036714],\n       [ 0.038167],...",
     "output_type": "error",
     "traceback": [
      "\u001b[1;31m---------------------------------------------------------------------------\u001b[0m",
      "\u001b[1;31mAssertionError\u001b[0m                            Traceback (most recent call last)",
      "\u001b[1;32m~\\AppData\\Local\\Temp\\ipykernel_19224\\2973277383.py\u001b[0m in \u001b[0;36m<module>\u001b[1;34m\u001b[0m\n\u001b[1;32m----> 1\u001b[1;33m np.testing.assert_allclose(model.get_weights()[0], \n\u001b[0m\u001b[0;32m      2\u001b[0m                            \u001b[0mreconstructed_model\u001b[0m\u001b[1;33m.\u001b[0m\u001b[0mget_weights\u001b[0m\u001b[1;33m(\u001b[0m\u001b[1;33m)\u001b[0m\u001b[1;33m[\u001b[0m\u001b[1;36m0\u001b[0m\u001b[1;33m]\u001b[0m\u001b[1;33m,\u001b[0m\u001b[1;33m\u001b[0m\u001b[1;33m\u001b[0m\u001b[0m\n\u001b[0;32m      3\u001b[0m                            rtol=0.0000001)\n",
      "    \u001b[1;31m[... skipping hidden 1 frame]\u001b[0m\n",
      "\u001b[1;32m~\\anaconda3\\lib\\site-packages\\numpy\\testing\\_private\\utils.py\u001b[0m in \u001b[0;36massert_array_compare\u001b[1;34m(comparison, x, y, err_msg, verbose, header, precision, equal_nan, equal_inf)\u001b[0m\n\u001b[0;32m    842\u001b[0m                                 \u001b[0mverbose\u001b[0m\u001b[1;33m=\u001b[0m\u001b[0mverbose\u001b[0m\u001b[1;33m,\u001b[0m \u001b[0mheader\u001b[0m\u001b[1;33m=\u001b[0m\u001b[0mheader\u001b[0m\u001b[1;33m,\u001b[0m\u001b[1;33m\u001b[0m\u001b[1;33m\u001b[0m\u001b[0m\n\u001b[0;32m    843\u001b[0m                                 names=('x', 'y'), precision=precision)\n\u001b[1;32m--> 844\u001b[1;33m             \u001b[1;32mraise\u001b[0m \u001b[0mAssertionError\u001b[0m\u001b[1;33m(\u001b[0m\u001b[0mmsg\u001b[0m\u001b[1;33m)\u001b[0m\u001b[1;33m\u001b[0m\u001b[1;33m\u001b[0m\u001b[0m\n\u001b[0m\u001b[0;32m    845\u001b[0m     \u001b[1;32mexcept\u001b[0m \u001b[0mValueError\u001b[0m\u001b[1;33m:\u001b[0m\u001b[1;33m\u001b[0m\u001b[1;33m\u001b[0m\u001b[0m\n\u001b[0;32m    846\u001b[0m         \u001b[1;32mimport\u001b[0m \u001b[0mtraceback\u001b[0m\u001b[1;33m\u001b[0m\u001b[1;33m\u001b[0m\u001b[0m\n",
      "\u001b[1;31mAssertionError\u001b[0m: \nNot equal to tolerance rtol=1e-07, atol=0\n\nMismatched elements: 32 / 32 (100%)\nMax absolute difference: 0.17047672\nMax relative difference: 9.558846\n x: array([[ 0.085145],\n       [-0.101096],\n       [ 0.018775],...\n y: array([[ 0.075164],\n       [-0.036714],\n       [ 0.038167],..."
     ]
    }
   ],
   "source": [
    "np.testing.assert_allclose(model.get_weights()[0], \n",
    "                           reconstructed_model.get_weights()[0], \n",
    "                           rtol=0.0000001)"
   ]
  },
  {
   "cell_type": "markdown",
   "id": "35b429ec",
   "metadata": {},
   "source": [
    "# Сохранение в формате keras h5"
   ]
  },
  {
   "cell_type": "markdown",
   "id": "6ed4747d",
   "metadata": {},
   "source": [
    "## Базовая модель"
   ]
  },
  {
   "cell_type": "code",
   "execution_count": 73,
   "id": "973f20ff",
   "metadata": {},
   "outputs": [],
   "source": [
    "def get_model():\n",
    "    inputs = keras.Input(shape=(32,))\n",
    "    outputs = keras.layers.Dense(1)(inputs)\n",
    "    model = keras.Model(inputs, outputs)\n",
    "    \n",
    "    model.compile(optimizer=\"adam\", loss=\"mean_squared_error\")\n",
    "    \n",
    "    return model"
   ]
  },
  {
   "cell_type": "code",
   "execution_count": 74,
   "id": "ecda0edf",
   "metadata": {},
   "outputs": [],
   "source": [
    "model = get_model()"
   ]
  },
  {
   "cell_type": "code",
   "execution_count": 75,
   "id": "1de50b7e",
   "metadata": {},
   "outputs": [
    {
     "name": "stdout",
     "output_type": "stream",
     "text": [
      "Model: \"model_5\"\n",
      "_________________________________________________________________\n",
      " Layer (type)                Output Shape              Param #   \n",
      "=================================================================\n",
      " input_6 (InputLayer)        [(None, 32)]              0         \n",
      "                                                                 \n",
      " dense_5 (Dense)             (None, 1)                 33        \n",
      "                                                                 \n",
      "=================================================================\n",
      "Total params: 33\n",
      "Trainable params: 33\n",
      "Non-trainable params: 0\n",
      "_________________________________________________________________\n"
     ]
    }
   ],
   "source": [
    "model.summary()"
   ]
  },
  {
   "cell_type": "code",
   "execution_count": 76,
   "id": "a8c3f842",
   "metadata": {},
   "outputs": [
    {
     "name": "stdout",
     "output_type": "stream",
     "text": [
      "Epoch 1/4\n",
      "64/64 [==============================] - 1s 2ms/step - loss: 0.4869\n",
      "Epoch 2/4\n",
      "64/64 [==============================] - 0s 2ms/step - loss: 0.2885\n",
      "Epoch 3/4\n",
      "64/64 [==============================] - 0s 2ms/step - loss: 0.2748\n",
      "Epoch 4/4\n",
      "64/64 [==============================] - 0s 3ms/step - loss: 0.2595\n"
     ]
    },
    {
     "data": {
      "text/plain": [
       "<keras.callbacks.History at 0x20293d7b760>"
      ]
     },
     "execution_count": 76,
     "metadata": {},
     "output_type": "execute_result"
    }
   ],
   "source": [
    "test_input = np.random.random((2048, 32))\n",
    "test_target = np.random.random((2048, 1))\n",
    "\n",
    "model.fit(test_input, test_target, epochs=4)"
   ]
  },
  {
   "cell_type": "markdown",
   "id": "72781df3",
   "metadata": {},
   "source": [
    "Сохранение"
   ]
  },
  {
   "cell_type": "code",
   "execution_count": 77,
   "id": "eff569e5",
   "metadata": {},
   "outputs": [],
   "source": [
    "keras_model_path_1 = \"my_keras_model.h5\""
   ]
  },
  {
   "cell_type": "code",
   "execution_count": 78,
   "id": "e999a1b9",
   "metadata": {},
   "outputs": [],
   "source": [
    "model.save(keras_model_path_1, save_format=\"h5\")"
   ]
  },
  {
   "cell_type": "markdown",
   "id": "0154d383",
   "metadata": {},
   "source": [
    "Загрузка модели"
   ]
  },
  {
   "cell_type": "code",
   "execution_count": 79,
   "id": "0c3a9810",
   "metadata": {},
   "outputs": [],
   "source": [
    "reconstructed_model = keras.models.load_model(keras_model_path_1)"
   ]
  },
  {
   "cell_type": "code",
   "execution_count": 80,
   "id": "60024727",
   "metadata": {},
   "outputs": [
    {
     "name": "stdout",
     "output_type": "stream",
     "text": [
      "Model: \"model_5\"\n",
      "_________________________________________________________________\n",
      " Layer (type)                Output Shape              Param #   \n",
      "=================================================================\n",
      " input_6 (InputLayer)        [(None, 32)]              0         \n",
      "                                                                 \n",
      " dense_5 (Dense)             (None, 1)                 33        \n",
      "                                                                 \n",
      "=================================================================\n",
      "Total params: 33\n",
      "Trainable params: 33\n",
      "Non-trainable params: 0\n",
      "_________________________________________________________________\n"
     ]
    }
   ],
   "source": [
    "reconstructed_model.summary()"
   ]
  },
  {
   "cell_type": "markdown",
   "id": "d425c2d6",
   "metadata": {},
   "source": [
    "Сравнение моделей"
   ]
  },
  {
   "cell_type": "code",
   "execution_count": 81,
   "id": "6dd7408f",
   "metadata": {},
   "outputs": [
    {
     "name": "stdout",
     "output_type": "stream",
     "text": [
      "64/64 [==============================] - 0s 3ms/step\n",
      "64/64 [==============================] - 0s 2ms/step\n"
     ]
    }
   ],
   "source": [
    "np.testing.assert_allclose(model.predict(test_input), \n",
    "                           reconstructed_model.predict(test_input))"
   ]
  },
  {
   "cell_type": "markdown",
   "id": "17fab60f",
   "metadata": {},
   "source": [
    "Продолжение обучения"
   ]
  },
  {
   "cell_type": "code",
   "execution_count": 82,
   "id": "31cb6d7d",
   "metadata": {},
   "outputs": [
    {
     "name": "stdout",
     "output_type": "stream",
     "text": [
      "Epoch 1/3\n",
      "64/64 [==============================] - 0s 2ms/step - loss: 0.2438\n",
      "Epoch 2/3\n",
      "64/64 [==============================] - 0s 3ms/step - loss: 0.2287\n",
      "Epoch 3/3\n",
      "64/64 [==============================] - 0s 3ms/step - loss: 0.2127\n"
     ]
    },
    {
     "data": {
      "text/plain": [
       "<keras.callbacks.History at 0x20292a6a280>"
      ]
     },
     "execution_count": 82,
     "metadata": {},
     "output_type": "execute_result"
    }
   ],
   "source": [
    "reconstructed_model.fit(test_input, test_target, epochs=3)"
   ]
  },
  {
   "cell_type": "code",
   "execution_count": 83,
   "id": "318691c1",
   "metadata": {},
   "outputs": [
    {
     "name": "stdout",
     "output_type": "stream",
     "text": [
      "64/64 [==============================] - 0s 3ms/step\n",
      "64/64 [==============================] - 0s 2ms/step\n"
     ]
    },
    {
     "ename": "AssertionError",
     "evalue": "\nNot equal to tolerance rtol=1e-07, atol=0\n\nMismatched elements: 2048 / 2048 (100%)\nMax absolute difference: 0.26125163\nMax relative difference: 59.81042\n x: array([[ 0.895511],\n       [ 0.196325],\n       [ 1.197542],...\n y: array([[ 0.855859],\n       [ 0.260312],\n       [ 1.141557],...",
     "output_type": "error",
     "traceback": [
      "\u001b[1;31m---------------------------------------------------------------------------\u001b[0m",
      "\u001b[1;31mAssertionError\u001b[0m                            Traceback (most recent call last)",
      "\u001b[1;32m~\\AppData\\Local\\Temp\\ipykernel_19224\\2555475027.py\u001b[0m in \u001b[0;36m<module>\u001b[1;34m\u001b[0m\n\u001b[1;32m----> 1\u001b[1;33m np.testing.assert_allclose(model.predict(test_input), \n\u001b[0m\u001b[0;32m      2\u001b[0m                            reconstructed_model.predict(test_input))\n",
      "    \u001b[1;31m[... skipping hidden 1 frame]\u001b[0m\n",
      "\u001b[1;32m~\\anaconda3\\lib\\site-packages\\numpy\\testing\\_private\\utils.py\u001b[0m in \u001b[0;36massert_array_compare\u001b[1;34m(comparison, x, y, err_msg, verbose, header, precision, equal_nan, equal_inf)\u001b[0m\n\u001b[0;32m    842\u001b[0m                                 \u001b[0mverbose\u001b[0m\u001b[1;33m=\u001b[0m\u001b[0mverbose\u001b[0m\u001b[1;33m,\u001b[0m \u001b[0mheader\u001b[0m\u001b[1;33m=\u001b[0m\u001b[0mheader\u001b[0m\u001b[1;33m,\u001b[0m\u001b[1;33m\u001b[0m\u001b[1;33m\u001b[0m\u001b[0m\n\u001b[0;32m    843\u001b[0m                                 names=('x', 'y'), precision=precision)\n\u001b[1;32m--> 844\u001b[1;33m             \u001b[1;32mraise\u001b[0m \u001b[0mAssertionError\u001b[0m\u001b[1;33m(\u001b[0m\u001b[0mmsg\u001b[0m\u001b[1;33m)\u001b[0m\u001b[1;33m\u001b[0m\u001b[1;33m\u001b[0m\u001b[0m\n\u001b[0m\u001b[0;32m    845\u001b[0m     \u001b[1;32mexcept\u001b[0m \u001b[0mValueError\u001b[0m\u001b[1;33m:\u001b[0m\u001b[1;33m\u001b[0m\u001b[1;33m\u001b[0m\u001b[0m\n\u001b[0;32m    846\u001b[0m         \u001b[1;32mimport\u001b[0m \u001b[0mtraceback\u001b[0m\u001b[1;33m\u001b[0m\u001b[1;33m\u001b[0m\u001b[0m\n",
      "\u001b[1;31mAssertionError\u001b[0m: \nNot equal to tolerance rtol=1e-07, atol=0\n\nMismatched elements: 2048 / 2048 (100%)\nMax absolute difference: 0.26125163\nMax relative difference: 59.81042\n x: array([[ 0.895511],\n       [ 0.196325],\n       [ 1.197542],...\n y: array([[ 0.855859],\n       [ 0.260312],\n       [ 1.141557],..."
     ]
    }
   ],
   "source": [
    "np.testing.assert_allclose(model.predict(test_input), \n",
    "                           reconstructed_model.predict(test_input))"
   ]
  },
  {
   "cell_type": "code",
   "execution_count": 84,
   "id": "e9564dcb",
   "metadata": {},
   "outputs": [],
   "source": [
    "reconstructed_model.save(\"my_keras_model_retrained_epoch_3.h5\", save_format=\"h5\")"
   ]
  },
  {
   "cell_type": "markdown",
   "id": "38516742",
   "metadata": {},
   "source": [
    "---"
   ]
  },
  {
   "cell_type": "code",
   "execution_count": null,
   "id": "a15cb17a",
   "metadata": {},
   "outputs": [],
   "source": []
  },
  {
   "cell_type": "code",
   "execution_count": 85,
   "id": "fe102fa8",
   "metadata": {},
   "outputs": [
    {
     "name": "stdout",
     "output_type": "stream",
     "text": [
      "64/64 [==============================] - 0s 3ms/step - loss: 0.2487\n"
     ]
    },
    {
     "data": {
      "text/plain": [
       "0.2486688196659088"
      ]
     },
     "execution_count": 85,
     "metadata": {},
     "output_type": "execute_result"
    }
   ],
   "source": [
    "model.evaluate(tmp_input, tmp_target)"
   ]
  },
  {
   "cell_type": "code",
   "execution_count": null,
   "id": "dfcfdb95",
   "metadata": {},
   "outputs": [],
   "source": []
  }
 ],
 "metadata": {
  "kernelspec": {
   "display_name": "Python 3 (ipykernel)",
   "language": "python",
   "name": "python3"
  },
  "language_info": {
   "codemirror_mode": {
    "name": "ipython",
    "version": 3
   },
   "file_extension": ".py",
   "mimetype": "text/x-python",
   "name": "python",
   "nbconvert_exporter": "python",
   "pygments_lexer": "ipython3",
   "version": "3.9.13"
  }
 },
 "nbformat": 4,
 "nbformat_minor": 5
}
