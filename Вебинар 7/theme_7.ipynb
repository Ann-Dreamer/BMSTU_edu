{
 "cells": [
  {
   "cell_type": "markdown",
   "metadata": {
    "id": "4Xjy5hy4Tsiv"
   },
   "source": [
    "# Генерация случайных чисел"
   ]
  },
  {
   "cell_type": "code",
   "execution_count": 1,
   "metadata": {
    "id": "1mc-JxJUTlEE"
   },
   "outputs": [],
   "source": [
    "import numpy as np\n",
    "import matplotlib.pyplot as plt"
   ]
  },
  {
   "cell_type": "markdown",
   "metadata": {
    "id": "VXKTsXAYUTJ7"
   },
   "source": [
    "### Генерация одного числа"
   ]
  },
  {
   "cell_type": "code",
   "execution_count": null,
   "metadata": {
    "colab": {
     "base_uri": "https://localhost:8080/"
    },
    "id": "nA_H33OLT5Zt",
    "outputId": "4bb36141-c340-4db7-e5f0-5b33de0634b7"
   },
   "outputs": [
    {
     "name": "stdout",
     "output_type": "stream",
     "text": [
      "a = 0.6196856655543249\n"
     ]
    }
   ],
   "source": [
    "a = np.random.uniform()\n",
    "print(f'{a = }')"
   ]
  },
  {
   "cell_type": "code",
   "execution_count": null,
   "metadata": {
    "id": "u4wDLw_bUEq1"
   },
   "outputs": [],
   "source": [
    "import random"
   ]
  },
  {
   "cell_type": "code",
   "execution_count": null,
   "metadata": {
    "colab": {
     "base_uri": "https://localhost:8080/"
    },
    "id": "TbTDhsblUH4G",
    "outputId": "1c7508b6-b6f3-489e-ec1f-952ac1dc6ce6"
   },
   "outputs": [
    {
     "name": "stdout",
     "output_type": "stream",
     "text": [
      "a = 0.6416396486688866\n"
     ]
    }
   ],
   "source": [
    "a = random.uniform(0, 1)\n",
    "print(f'{a = }')"
   ]
  },
  {
   "cell_type": "markdown",
   "metadata": {
    "id": "CQ2JzIokUXJr"
   },
   "source": [
    "### Генерация массива (равномерное распределение)"
   ]
  },
  {
   "cell_type": "code",
   "execution_count": null,
   "metadata": {
    "colab": {
     "base_uri": "https://localhost:8080/"
    },
    "id": "R3wdr--7UaYK",
    "outputId": "8c7682db-242d-481c-fa6e-7ee6e0a1eb07"
   },
   "outputs": [
    {
     "name": "stdout",
     "output_type": "stream",
     "text": [
      "a = array([0.54008461, 0.72858452, 0.32650818, 0.42054919, 0.96262874,\n",
      "       0.99851069, 0.72369768, 0.92995058, 0.90517699, 0.51964267])\n",
      "a.shape = (10,)\n"
     ]
    }
   ],
   "source": [
    "a = np.random.uniform(size=(10, ))\n",
    "print(f'{a = }')\n",
    "print(f'{a.shape = }')"
   ]
  },
  {
   "cell_type": "code",
   "execution_count": null,
   "metadata": {
    "colab": {
     "base_uri": "https://localhost:8080/"
    },
    "id": "7k007ZEGUroL",
    "outputId": "e66b7f9e-4f76-4c3d-ccb1-e3394e905ab8"
   },
   "outputs": [
    {
     "name": "stdout",
     "output_type": "stream",
     "text": [
      "a = array([[0.11291397, 0.62701525, 0.16453372],\n",
      "       [0.37536836, 0.90862406, 0.4066512 ],\n",
      "       [0.14677312, 0.30699373, 0.05347878],\n",
      "       [0.85479802, 0.77086791, 0.30603587]])\n",
      "a.shape = (4, 3)\n"
     ]
    }
   ],
   "source": [
    "a = np.random.uniform(size=(4, 3))\n",
    "print(f'{a = }')\n",
    "print(f'{a.shape = }')"
   ]
  },
  {
   "cell_type": "code",
   "execution_count": null,
   "metadata": {
    "colab": {
     "base_uri": "https://localhost:8080/"
    },
    "id": "eXmEZ5cbU6zZ",
    "outputId": "abca0f9e-4370-45bd-f9a7-905b0d6f1381"
   },
   "outputs": [
    {
     "name": "stdout",
     "output_type": "stream",
     "text": [
      "a = array([[6.2447283 , 5.87309138, 7.73098713],\n",
      "       [8.15584908, 8.7183734 , 8.07707642],\n",
      "       [7.39962553, 6.47374417, 9.31374114],\n",
      "       [7.79456231, 5.06948255, 5.92715562]])\n",
      "a.shape = (4, 3)\n"
     ]
    }
   ],
   "source": [
    "a = np.random.uniform(low=5, high=10, size=(4, 3))\n",
    "print(f'{a = }')\n",
    "print(f'{a.shape = }')"
   ]
  },
  {
   "cell_type": "code",
   "execution_count": null,
   "metadata": {
    "colab": {
     "base_uri": "https://localhost:8080/"
    },
    "id": "18ecdCxY54ZQ",
    "outputId": "9c2995f5-d8b0-435b-d801-ce9cb70d9360"
   },
   "outputs": [
    {
     "name": "stdout",
     "output_type": "stream",
     "text": [
      "a = [0.2635282036104448, 0.5579349431377457, 0.2406077910431993, 0.6205237843267701, 0.9549917796519194]\n"
     ]
    }
   ],
   "source": [
    "a = [random.uniform(0, 1) for _ in range(5)]\n",
    "print(f'{a = }')"
   ]
  },
  {
   "cell_type": "markdown",
   "metadata": {
    "id": "_zxUeBjrRUMF"
   },
   "source": [
    "### Генерация массива (нормальное распределение)"
   ]
  },
  {
   "cell_type": "code",
   "execution_count": null,
   "metadata": {
    "colab": {
     "base_uri": "https://localhost:8080/"
    },
    "id": "0uPt4RakRTKf",
    "outputId": "6197b5d3-9d25-49bf-8de7-b48a18a96876"
   },
   "outputs": [
    {
     "name": "stdout",
     "output_type": "stream",
     "text": [
      "a = array([[ 0.04303687, -1.33433612,  1.42545253],\n",
      "       [ 0.82336848,  0.23930765,  0.31453946],\n",
      "       [ 0.66926354,  0.65835986, -0.8343309 ],\n",
      "       [-0.4776908 ,  1.25792725, -0.71469433]])\n",
      "a.shape = (4, 3)\n"
     ]
    }
   ],
   "source": [
    "a = np.random.normal(loc=0, scale=1, size=(4, 3))\n",
    "print(f'{a = }')\n",
    "print(f'{a.shape = }')"
   ]
  },
  {
   "cell_type": "markdown",
   "metadata": {
    "id": "Nt0JhsZy5ix_"
   },
   "source": [
    "# Статистика"
   ]
  },
  {
   "cell_type": "code",
   "execution_count": null,
   "metadata": {
    "colab": {
     "base_uri": "https://localhost:8080/"
    },
    "id": "J7xT-Eku5gWg",
    "outputId": "a362ffc1-7472-433d-c2aa-95863c35b81c"
   },
   "outputs": [
    {
     "name": "stdout",
     "output_type": "stream",
     "text": [
      "Для 10 бросков вероятность орла 0.3\n",
      "Для 20 бросков вероятность орла 0.55\n",
      "Для 30 бросков вероятность орла 0.4\n",
      "Для 40 бросков вероятность орла 0.525\n",
      "Для 50 бросков вероятность орла 0.42\n",
      "Для 60 бросков вероятность орла 0.55\n",
      "Для 70 бросков вероятность орла 0.5285714285714286\n",
      "Для 80 бросков вероятность орла 0.5375\n",
      "Для 90 бросков вероятность орла 0.4666666666666667\n",
      "Для 100 бросков вероятность орла 0.39\n",
      "Для 110 бросков вероятность орла 0.4909090909090909\n",
      "Для 120 бросков вероятность орла 0.475\n",
      "Для 130 бросков вероятность орла 0.5153846153846153\n",
      "Для 140 бросков вероятность орла 0.4642857142857143\n",
      "Для 150 бросков вероятность орла 0.49333333333333335\n",
      "Для 160 бросков вероятность орла 0.5125\n",
      "Для 170 бросков вероятность орла 0.5\n",
      "Для 180 бросков вероятность орла 0.4777777777777778\n",
      "Для 190 бросков вероятность орла 0.5210526315789473\n",
      "Для 200 бросков вероятность орла 0.49\n",
      "Для 210 бросков вероятность орла 0.4380952380952381\n",
      "Для 220 бросков вероятность орла 0.4727272727272727\n",
      "Для 230 бросков вероятность орла 0.5304347826086957\n",
      "Для 240 бросков вероятность орла 0.55\n",
      "Для 250 бросков вероятность орла 0.456\n",
      "Для 260 бросков вероятность орла 0.46153846153846156\n",
      "Для 270 бросков вероятность орла 0.5111111111111111\n",
      "Для 280 бросков вероятность орла 0.49642857142857144\n",
      "Для 290 бросков вероятность орла 0.506896551724138\n",
      "Для 300 бросков вероятность орла 0.4633333333333333\n",
      "Для 310 бросков вероятность орла 0.5645161290322581\n"
     ]
    }
   ],
   "source": [
    "for i in range(1, 32):\n",
    "    b = np.random.randint(0, 2, 10 * i)\n",
    "    p = np.count_nonzero(b == 1) / len(b)\n",
    "    print(f'Для {len(b)} бросков вероятность орла {p}')"
   ]
  },
  {
   "cell_type": "code",
   "execution_count": null,
   "metadata": {
    "colab": {
     "base_uri": "https://localhost:8080/"
    },
    "id": "aAibUNP58ALh",
    "outputId": "cc5e4805-c83e-4093-9efd-cea2680dc1d7"
   },
   "outputs": [
    {
     "name": "stdout",
     "output_type": "stream",
     "text": [
      "b.mean() = 0.5334234029935788\n",
      "b.std() = 0.2844724733999958\n",
      "b.var() = 0.08092458812231133\n"
     ]
    }
   ],
   "source": [
    "b = np.random.uniform(size=(100))\n",
    "print(f'{b.mean() = }')\n",
    "print(f'{b.std() = }')\n",
    "print(f'{b.var() = }')"
   ]
  },
  {
   "cell_type": "code",
   "execution_count": null,
   "metadata": {
    "id": "yhMv3Oaq8idX"
   },
   "outputs": [],
   "source": [
    "import statistics"
   ]
  },
  {
   "cell_type": "code",
   "execution_count": null,
   "metadata": {
    "colab": {
     "base_uri": "https://localhost:8080/"
    },
    "id": "j37PCJO38mMF",
    "outputId": "24e9294d-ff0e-468e-ac23-9baeff31e629"
   },
   "outputs": [
    {
     "name": "stdout",
     "output_type": "stream",
     "text": [
      "statistics.mean(b) = 0.5334234029935789\n",
      "statistics.stdev(b) = 0.2859055931673161\n",
      "statistics.variance(b) = 0.08174200820435489\n"
     ]
    }
   ],
   "source": [
    "print(f'{statistics.mean(b) = }')\n",
    "print(f'{statistics.stdev(b) = }')\n",
    "print(f'{statistics.variance(b) = }')"
   ]
  },
  {
   "cell_type": "markdown",
   "metadata": {
    "id": "C5-46aV-_-c-"
   },
   "source": [
    "### Гистограмма"
   ]
  },
  {
   "cell_type": "code",
   "execution_count": null,
   "metadata": {
    "id": "Lpi4enPZABVb"
   },
   "outputs": [],
   "source": [
    "import matplotlib.pyplot as plt"
   ]
  },
  {
   "cell_type": "code",
   "execution_count": null,
   "metadata": {
    "id": "urgHx8gyAG6d"
   },
   "outputs": [],
   "source": [
    "b = np.random.uniform(size=(100))"
   ]
  },
  {
   "cell_type": "code",
   "execution_count": null,
   "metadata": {
    "colab": {
     "base_uri": "https://localhost:8080/",
     "height": 265
    },
    "id": "q7miTUbzAIBl",
    "outputId": "6124248b-45a8-4f72-c9e2-ca3678c76368"
   },
   "outputs": [
    {
     "data": {
      "image/png": "[encoded data removed]",
      "text/plain": [
       "<Figure size 432x288 with 1 Axes>"
      ]
     },
     "metadata": {
      "needs_background": "light"
     },
     "output_type": "display_data"
    }
   ],
   "source": [
    "_ = plt.hist(b, 8)"
   ]
  },
  {
   "cell_type": "code",
   "execution_count": null,
   "metadata": {
    "id": "ac9wbex2AfD8"
   },
   "outputs": [],
   "source": [
    "import seaborn as sns"
   ]
  },
  {
   "cell_type": "code",
   "execution_count": null,
   "metadata": {
    "colab": {
     "base_uri": "https://localhost:8080/",
     "height": 369
    },
    "id": "1t3f7EXJAisJ",
    "outputId": "a5096a7d-16b8-4f89-e5a4-587b5711f06a"
   },
   "outputs": [
    {
     "data": {
      "image/png": "[encoded data removed]",
      "text/plain": [
       "<Figure size 360x360 with 1 Axes>"
      ]
     },
     "metadata": {
      "needs_background": "light"
     },
     "output_type": "display_data"
    }
   ],
   "source": [
    "fig = sns.displot(b, kde=True)"
   ]
  },
  {
   "cell_type": "code",
   "execution_count": null,
   "metadata": {
    "id": "jt5GyvzpCFOd"
   },
   "outputs": [],
   "source": [
    "import pandas as pd"
   ]
  },
  {
   "cell_type": "code",
   "execution_count": null,
   "metadata": {
    "colab": {
     "base_uri": "https://localhost:8080/",
     "height": 281
    },
    "id": "QO3XdBtZBuWp",
    "outputId": "241bc216-86ed-4c75-ac6e-6c34c5d41fff"
   },
   "outputs": [
    {
     "data": {
      "image/png": "[encoded data removed]",
      "text/plain": [
       "<Figure size 432x288 with 1 Axes>"
      ]
     },
     "metadata": {
      "needs_background": "light"
     },
     "output_type": "display_data"
    }
   ],
   "source": [
    "df = pd.DataFrame({'b': b})\n",
    "\n",
    "hist = df.hist(bins=8)"
   ]
  },
  {
   "cell_type": "code",
   "execution_count": null,
   "metadata": {
    "id": "r2eqAskDRmn9"
   },
   "outputs": [],
   "source": [
    "c = np.random.normal(loc=0, scale=1, size=(1_000_000, ))"
   ]
  },
  {
   "cell_type": "code",
   "execution_count": null,
   "metadata": {
    "colab": {
     "base_uri": "https://localhost:8080/",
     "height": 369
    },
    "id": "biow9LVkRrR8",
    "outputId": "1e243ba4-fed0-461b-de59-7eba67f65812"
   },
   "outputs": [
    {
     "data": {
      "image/png": "[encoded data removed]",
      "text/plain": [
       "<Figure size 360x360 with 1 Axes>"
      ]
     },
     "metadata": {
      "needs_background": "light"
     },
     "output_type": "display_data"
    }
   ],
   "source": [
    "fig = sns.displot(c, kde=True)"
   ]
  },
  {
   "cell_type": "markdown",
   "metadata": {
    "id": "ZmDGIFjcSLxr"
   },
   "source": [
    "# Байесовский классификатор"
   ]
  },
  {
   "cell_type": "code",
   "execution_count": null,
   "metadata": {
    "id": "dNJz--fWSOvq"
   },
   "outputs": [],
   "source": [
    "from sklearn.datasets import load_iris\n",
    "from sklearn.model_selection import train_test_split\n",
    "from sklearn.naive_bayes import GaussianNB"
   ]
  },
  {
   "cell_type": "markdown",
   "metadata": {
    "id": "793QuaI2YJQq"
   },
   "source": [
    "https://en.wikipedia.org/wiki/Iris_flower_data_set"
   ]
  },
  {
   "cell_type": "code",
   "execution_count": null,
   "metadata": {
    "id": "GO_nBQ1ySV1q"
   },
   "outputs": [],
   "source": [
    "iris = load_iris()\n",
    "x, y = load_iris(return_X_y=True)\n",
    "\n",
    "x_train, x_test, y_train, y_test = train_test_split(x, y, test_size=0.5, random_state=0)"
   ]
  },
  {
   "cell_type": "code",
   "execution_count": null,
   "metadata": {
    "colab": {
     "base_uri": "https://localhost:8080/",
     "height": 295
    },
    "id": "lp7saNLSYVzv",
    "outputId": "0db56253-1556-4229-d482-85d415dc2a51"
   },
   "outputs": [
    {
     "data": {
      "image/png": "[encoded data removed]",
      "text/plain": [
       "<Figure size 432x288 with 1 Axes>"
      ]
     },
     "metadata": {
      "needs_background": "light"
     },
     "output_type": "display_data"
    }
   ],
   "source": [
    "for i, color in zip(range(3), 'ryb'):\n",
    "    idx = np.where(y == i)\n",
    "    fig = plt.scatter(\n",
    "        x[idx, 0],\n",
    "        x[idx, 1],\n",
    "        c=color,\n",
    "        label=iris.target_names[i],\n",
    "        cmap=plt.cm.RdYlBu,\n",
    "        edgecolor=\"black\",\n",
    "        s=15,\n",
    "    )\n",
    "    plt.title(\"Ирисы\")\n",
    "    plt.xlabel(iris.feature_names[0])\n",
    "    plt.ylabel(iris.feature_names[1])"
   ]
  },
  {
   "cell_type": "code",
   "execution_count": null,
   "metadata": {
    "id": "OBqLOcurSgwy"
   },
   "outputs": [],
   "source": [
    "gnb = GaussianNB()"
   ]
  },
  {
   "cell_type": "code",
   "execution_count": null,
   "metadata": {
    "colab": {
     "base_uri": "https://localhost:8080/"
    },
    "id": "eKgWvSd8SRoL",
    "outputId": "fc4a4109-58ae-4273-e368-feb276bcbff2"
   },
   "outputs": [
    {
     "name": "stdout",
     "output_type": "stream",
     "text": [
      "Количество неправильно предсказаний 4 из общего числа объектов 75\n"
     ]
    }
   ],
   "source": [
    "y_pred = gnb.fit(x_train, y_train).predict(x_test)\n",
    "\n",
    "print(\n",
    "    f\"Количество неправильно предсказаний {(y_test != y_pred).sum()} из общего числа объектов {x_test.shape[0]}\"\n",
    ")"
   ]
  },
  {
   "cell_type": "markdown",
   "metadata": {
    "id": "r6PIOT61TClI"
   },
   "source": [
    "# Вероятностные классификаторы"
   ]
  },
  {
   "cell_type": "code",
   "execution_count": null,
   "metadata": {
    "colab": {
     "base_uri": "https://localhost:8080/"
    },
    "id": "vGCetXSKTCTw",
    "outputId": "7cb4ec89-8c77-41ba-c8d6-bd2a7e2c2825"
   },
   "outputs": [
    {
     "data": {
      "text/plain": [
       "array([[5.02810309e-298, 9.91792245e-006, 9.99990082e-001]])"
      ]
     },
     "execution_count": 28,
     "metadata": {},
     "output_type": "execute_result"
    }
   ],
   "source": [
    "gnb.predict_proba([x_test[0]])"
   ]
  },
  {
   "cell_type": "markdown",
   "metadata": {
    "id": "AsZnR5XTdet8"
   },
   "source": [
    "# Классификация заявок в техническую поддержку\n",
    "\n",
    "https://github.com/karolzak/support-tickets-classification\n",
    "\n",
    "Скачать можно с kaggle\n",
    "\n",
    "https://www.kaggle.com/datasets/aniketg11/supportticketsclassification?resource=download"
   ]
  },
  {
   "cell_type": "code",
   "execution_count": 2,
   "metadata": {
    "id": "5rYNT5s2bgFm"
   },
   "outputs": [],
   "source": [
    "import pandas as pd\n",
    "import numpy as np\n",
    "\n",
    "from sklearn.feature_extraction.text import CountVectorizer\n",
    "from sklearn.model_selection import train_test_split\n",
    "from sklearn.naive_bayes import MultinomialNB\n",
    "from sklearn.metrics import accuracy_score\n",
    "from sklearn.metrics import classification_report\n",
    "from sklearn.metrics import f1_score"
   ]
  },
  {
   "cell_type": "code",
   "execution_count": 3,
   "metadata": {
    "id": "n0yxUuzFbi4t"
   },
   "outputs": [],
   "source": [
    "pd.set_option('max_colwidth', 1000)"
   ]
  },
  {
   "cell_type": "code",
   "execution_count": 5,
   "metadata": {
    "id": "qU3O_7DEd0V-"
   },
   "outputs": [
    {
     "ename": "ParserError",
     "evalue": "Error tokenizing data. C error: Expected 1 fields in line 12, saw 2\n",
     "output_type": "error",
     "traceback": [
      "\u001b[1;31m---------------------------------------------------------------------------\u001b[0m",
      "\u001b[1;31mParserError\u001b[0m                               Traceback (most recent call last)",
      "\u001b[1;32m~\\AppData\\Local\\Temp\\ipykernel_18828\\1339865696.py\u001b[0m in \u001b[0;36m<module>\u001b[1;34m\u001b[0m\n\u001b[1;32m----> 1\u001b[1;33m \u001b[0mdf\u001b[0m \u001b[1;33m=\u001b[0m \u001b[0mpd\u001b[0m\u001b[1;33m.\u001b[0m\u001b[0mread_csv\u001b[0m\u001b[1;33m(\u001b[0m\u001b[1;34m'http://localhost:8888/edit/Downloads/all_tickets.csv'\u001b[0m\u001b[1;33m)\u001b[0m\u001b[1;33m\u001b[0m\u001b[1;33m\u001b[0m\u001b[0m\n\u001b[0m",
      "\u001b[1;32m~\\anaconda3\\lib\\site-packages\\pandas\\util\\_decorators.py\u001b[0m in \u001b[0;36mwrapper\u001b[1;34m(*args, **kwargs)\u001b[0m\n\u001b[0;32m    309\u001b[0m                     \u001b[0mstacklevel\u001b[0m\u001b[1;33m=\u001b[0m\u001b[0mstacklevel\u001b[0m\u001b[1;33m,\u001b[0m\u001b[1;33m\u001b[0m\u001b[1;33m\u001b[0m\u001b[0m\n\u001b[0;32m    310\u001b[0m                 )\n\u001b[1;32m--> 311\u001b[1;33m             \u001b[1;32mreturn\u001b[0m \u001b[0mfunc\u001b[0m\u001b[1;33m(\u001b[0m\u001b[1;33m*\u001b[0m\u001b[0margs\u001b[0m\u001b[1;33m,\u001b[0m \u001b[1;33m**\u001b[0m\u001b[0mkwargs\u001b[0m\u001b[1;33m)\u001b[0m\u001b[1;33m\u001b[0m\u001b[1;33m\u001b[0m\u001b[0m\n\u001b[0m\u001b[0;32m    312\u001b[0m \u001b[1;33m\u001b[0m\u001b[0m\n\u001b[0;32m    313\u001b[0m         \u001b[1;32mreturn\u001b[0m \u001b[0mwrapper\u001b[0m\u001b[1;33m\u001b[0m\u001b[1;33m\u001b[0m\u001b[0m\n",
      "\u001b[1;32m~\\anaconda3\\lib\\site-packages\\pandas\\io\\parsers\\readers.py\u001b[0m in \u001b[0;36mread_csv\u001b[1;34m(filepath_or_buffer, sep, delimiter, header, names, index_col, usecols, squeeze, prefix, mangle_dupe_cols, dtype, engine, converters, true_values, false_values, skipinitialspace, skiprows, skipfooter, nrows, na_values, keep_default_na, na_filter, verbose, skip_blank_lines, parse_dates, infer_datetime_format, keep_date_col, date_parser, dayfirst, cache_dates, iterator, chunksize, compression, thousands, decimal, lineterminator, quotechar, quoting, doublequote, escapechar, comment, encoding, encoding_errors, dialect, error_bad_lines, warn_bad_lines, on_bad_lines, delim_whitespace, low_memory, memory_map, float_precision, storage_options)\u001b[0m\n\u001b[0;32m    676\u001b[0m     \u001b[0mkwds\u001b[0m\u001b[1;33m.\u001b[0m\u001b[0mupdate\u001b[0m\u001b[1;33m(\u001b[0m\u001b[0mkwds_defaults\u001b[0m\u001b[1;33m)\u001b[0m\u001b[1;33m\u001b[0m\u001b[1;33m\u001b[0m\u001b[0m\n\u001b[0;32m    677\u001b[0m \u001b[1;33m\u001b[0m\u001b[0m\n\u001b[1;32m--> 678\u001b[1;33m     \u001b[1;32mreturn\u001b[0m \u001b[0m_read\u001b[0m\u001b[1;33m(\u001b[0m\u001b[0mfilepath_or_buffer\u001b[0m\u001b[1;33m,\u001b[0m \u001b[0mkwds\u001b[0m\u001b[1;33m)\u001b[0m\u001b[1;33m\u001b[0m\u001b[1;33m\u001b[0m\u001b[0m\n\u001b[0m\u001b[0;32m    679\u001b[0m \u001b[1;33m\u001b[0m\u001b[0m\n\u001b[0;32m    680\u001b[0m \u001b[1;33m\u001b[0m\u001b[0m\n",
      "\u001b[1;32m~\\anaconda3\\lib\\site-packages\\pandas\\io\\parsers\\readers.py\u001b[0m in \u001b[0;36m_read\u001b[1;34m(filepath_or_buffer, kwds)\u001b[0m\n\u001b[0;32m    579\u001b[0m \u001b[1;33m\u001b[0m\u001b[0m\n\u001b[0;32m    580\u001b[0m     \u001b[1;32mwith\u001b[0m \u001b[0mparser\u001b[0m\u001b[1;33m:\u001b[0m\u001b[1;33m\u001b[0m\u001b[1;33m\u001b[0m\u001b[0m\n\u001b[1;32m--> 581\u001b[1;33m         \u001b[1;32mreturn\u001b[0m \u001b[0mparser\u001b[0m\u001b[1;33m.\u001b[0m\u001b[0mread\u001b[0m\u001b[1;33m(\u001b[0m\u001b[0mnrows\u001b[0m\u001b[1;33m)\u001b[0m\u001b[1;33m\u001b[0m\u001b[1;33m\u001b[0m\u001b[0m\n\u001b[0m\u001b[0;32m    582\u001b[0m \u001b[1;33m\u001b[0m\u001b[0m\n\u001b[0;32m    583\u001b[0m \u001b[1;33m\u001b[0m\u001b[0m\n",
      "\u001b[1;32m~\\anaconda3\\lib\\site-packages\\pandas\\io\\parsers\\readers.py\u001b[0m in \u001b[0;36mread\u001b[1;34m(self, nrows)\u001b[0m\n\u001b[0;32m   1251\u001b[0m             \u001b[0mnrows\u001b[0m \u001b[1;33m=\u001b[0m \u001b[0mvalidate_integer\u001b[0m\u001b[1;33m(\u001b[0m\u001b[1;34m\"nrows\"\u001b[0m\u001b[1;33m,\u001b[0m \u001b[0mnrows\u001b[0m\u001b[1;33m)\u001b[0m\u001b[1;33m\u001b[0m\u001b[1;33m\u001b[0m\u001b[0m\n\u001b[0;32m   1252\u001b[0m             \u001b[1;32mtry\u001b[0m\u001b[1;33m:\u001b[0m\u001b[1;33m\u001b[0m\u001b[1;33m\u001b[0m\u001b[0m\n\u001b[1;32m-> 1253\u001b[1;33m                 \u001b[0mindex\u001b[0m\u001b[1;33m,\u001b[0m \u001b[0mcolumns\u001b[0m\u001b[1;33m,\u001b[0m \u001b[0mcol_dict\u001b[0m \u001b[1;33m=\u001b[0m \u001b[0mself\u001b[0m\u001b[1;33m.\u001b[0m\u001b[0m_engine\u001b[0m\u001b[1;33m.\u001b[0m\u001b[0mread\u001b[0m\u001b[1;33m(\u001b[0m\u001b[0mnrows\u001b[0m\u001b[1;33m)\u001b[0m\u001b[1;33m\u001b[0m\u001b[1;33m\u001b[0m\u001b[0m\n\u001b[0m\u001b[0;32m   1254\u001b[0m             \u001b[1;32mexcept\u001b[0m \u001b[0mException\u001b[0m\u001b[1;33m:\u001b[0m\u001b[1;33m\u001b[0m\u001b[1;33m\u001b[0m\u001b[0m\n\u001b[0;32m   1255\u001b[0m                 \u001b[0mself\u001b[0m\u001b[1;33m.\u001b[0m\u001b[0mclose\u001b[0m\u001b[1;33m(\u001b[0m\u001b[1;33m)\u001b[0m\u001b[1;33m\u001b[0m\u001b[1;33m\u001b[0m\u001b[0m\n",
      "\u001b[1;32m~\\anaconda3\\lib\\site-packages\\pandas\\io\\parsers\\c_parser_wrapper.py\u001b[0m in \u001b[0;36mread\u001b[1;34m(self, nrows)\u001b[0m\n\u001b[0;32m    223\u001b[0m         \u001b[1;32mtry\u001b[0m\u001b[1;33m:\u001b[0m\u001b[1;33m\u001b[0m\u001b[1;33m\u001b[0m\u001b[0m\n\u001b[0;32m    224\u001b[0m             \u001b[1;32mif\u001b[0m \u001b[0mself\u001b[0m\u001b[1;33m.\u001b[0m\u001b[0mlow_memory\u001b[0m\u001b[1;33m:\u001b[0m\u001b[1;33m\u001b[0m\u001b[1;33m\u001b[0m\u001b[0m\n\u001b[1;32m--> 225\u001b[1;33m                 \u001b[0mchunks\u001b[0m \u001b[1;33m=\u001b[0m \u001b[0mself\u001b[0m\u001b[1;33m.\u001b[0m\u001b[0m_reader\u001b[0m\u001b[1;33m.\u001b[0m\u001b[0mread_low_memory\u001b[0m\u001b[1;33m(\u001b[0m\u001b[0mnrows\u001b[0m\u001b[1;33m)\u001b[0m\u001b[1;33m\u001b[0m\u001b[1;33m\u001b[0m\u001b[0m\n\u001b[0m\u001b[0;32m    226\u001b[0m                 \u001b[1;31m# destructive to chunks\u001b[0m\u001b[1;33m\u001b[0m\u001b[1;33m\u001b[0m\u001b[0m\n\u001b[0;32m    227\u001b[0m                 \u001b[0mdata\u001b[0m \u001b[1;33m=\u001b[0m \u001b[0m_concatenate_chunks\u001b[0m\u001b[1;33m(\u001b[0m\u001b[0mchunks\u001b[0m\u001b[1;33m)\u001b[0m\u001b[1;33m\u001b[0m\u001b[1;33m\u001b[0m\u001b[0m\n",
      "\u001b[1;32m~\\anaconda3\\lib\\site-packages\\pandas\\_libs\\parsers.pyx\u001b[0m in \u001b[0;36mpandas._libs.parsers.TextReader.read_low_memory\u001b[1;34m()\u001b[0m\n",
      "\u001b[1;32m~\\anaconda3\\lib\\site-packages\\pandas\\_libs\\parsers.pyx\u001b[0m in \u001b[0;36mpandas._libs.parsers.TextReader._read_rows\u001b[1;34m()\u001b[0m\n",
      "\u001b[1;32m~\\anaconda3\\lib\\site-packages\\pandas\\_libs\\parsers.pyx\u001b[0m in \u001b[0;36mpandas._libs.parsers.TextReader._tokenize_rows\u001b[1;34m()\u001b[0m\n",
      "\u001b[1;32m~\\anaconda3\\lib\\site-packages\\pandas\\_libs\\parsers.pyx\u001b[0m in \u001b[0;36mpandas._libs.parsers.raise_parser_error\u001b[1;34m()\u001b[0m\n",
      "\u001b[1;31mParserError\u001b[0m: Error tokenizing data. C error: Expected 1 fields in line 12, saw 2\n"
     ]
    }
   ],
   "source": [
    "df = pd.read_csv('http://localhost:8888/edit/Downloads/all_tickets.csv')"
   ]
  },
  {
   "cell_type": "code",
   "execution_count": null,
   "metadata": {
    "colab": {
     "base_uri": "https://localhost:8080/"
    },
    "id": "p_wsV7e0fotF",
    "outputId": "d45783f4-15c0-4a07-ca64-c85ceaf0320d"
   },
   "outputs": [
    {
     "data": {
      "text/plain": [
       "(48549, 9)"
      ]
     },
     "execution_count": 32,
     "metadata": {},
     "output_type": "execute_result"
    }
   ],
   "source": [
    "df.shape"
   ]
  },
  {
   "cell_type": "code",
   "execution_count": null,
   "metadata": {
    "id": "kgz8ohJsd7i_"
   },
   "outputs": [],
   "source": [
    "df = df.sample(df.shape[0] // 2)"
   ]
  },
  {
   "cell_type": "code",
   "execution_count": null,
   "metadata": {
    "colab": {
     "base_uri": "https://localhost:8080/"
    },
    "id": "Nv7AXEq3hqLD",
    "outputId": "848efbdf-2ead-40f3-9ecd-f48c3d4c98cb"
   },
   "outputs": [
    {
     "data": {
      "text/plain": [
       "(24274, 9)"
      ]
     },
     "execution_count": 34,
     "metadata": {},
     "output_type": "execute_result"
    }
   ],
   "source": [
    "df.shape"
   ]
  },
  {
   "cell_type": "code",
   "execution_count": null,
   "metadata": {
    "colab": {
     "base_uri": "https://localhost:8080/",
     "height": 393
    },
    "id": "tqzUJG1hht4d",
    "outputId": "4228028a-8db7-4e75-b2b9-b384d1352bc7"
   },
   "outputs": [
    {
     "data": {
      "text/html": [
       "\n",
       "  <div id=\"df-a398ea24-52b1-418e-904f-65c1f4c57ae9\">\n",
       "    <div class=\"colab-df-container\">\n",
       "      <div>\n",
       "<style scoped>\n",
       "    .dataframe tbody tr th:only-of-type {\n",
       "        vertical-align: middle;\n",
       "    }\n",
       "\n",
       "    .dataframe tbody tr th {\n",
       "        vertical-align: top;\n",
       "    }\n",
       "\n",
       "    .dataframe thead th {\n",
       "        text-align: right;\n",
       "    }\n",
       "</style>\n",
       "<table border=\"1\" class=\"dataframe\">\n",
       "  <thead>\n",
       "    <tr style=\"text-align: right;\">\n",
       "      <th></th>\n",
       "      <th>37704</th>\n",
       "      <th>4759</th>\n",
       "      <th>22869</th>\n",
       "    </tr>\n",
       "  </thead>\n",
       "  <tbody>\n",
       "    <tr>\n",
       "      <th>title</th>\n",
       "      <td>old is not working please check</td>\n",
       "      <td>adding a new address</td>\n",
       "      <td>add to location</td>\n",
       "    </tr>\n",
       "    <tr>\n",
       "      <th>body</th>\n",
       "      <td>old working please check forms infrastructure view ribbon</td>\n",
       "      <td>issue dear colleagues hello please help addresses leader running traditional way thank specialist</td>\n",
       "      <td>friday wants accept decline</td>\n",
       "    </tr>\n",
       "    <tr>\n",
       "      <th>ticket_type</th>\n",
       "      <td>0</td>\n",
       "      <td>1</td>\n",
       "      <td>1</td>\n",
       "    </tr>\n",
       "    <tr>\n",
       "      <th>category</th>\n",
       "      <td>4</td>\n",
       "      <td>4</td>\n",
       "      <td>4</td>\n",
       "    </tr>\n",
       "    <tr>\n",
       "      <th>sub_category1</th>\n",
       "      <td>21</td>\n",
       "      <td>3</td>\n",
       "      <td>1</td>\n",
       "    </tr>\n",
       "    <tr>\n",
       "      <th>sub_category2</th>\n",
       "      <td>77</td>\n",
       "      <td>105</td>\n",
       "      <td>7</td>\n",
       "    </tr>\n",
       "    <tr>\n",
       "      <th>business_service</th>\n",
       "      <td>46</td>\n",
       "      <td>36</td>\n",
       "      <td>36</td>\n",
       "    </tr>\n",
       "    <tr>\n",
       "      <th>urgency</th>\n",
       "      <td>0</td>\n",
       "      <td>3</td>\n",
       "      <td>3</td>\n",
       "    </tr>\n",
       "    <tr>\n",
       "      <th>impact</th>\n",
       "      <td>3</td>\n",
       "      <td>4</td>\n",
       "      <td>4</td>\n",
       "    </tr>\n",
       "  </tbody>\n",
       "</table>\n",
       "</div>\n",
       "      <button class=\"colab-df-convert\" onclick=\"convertToInteractive('df-a398ea24-52b1-418e-904f-65c1f4c57ae9')\"\n",
       "              title=\"Convert this dataframe to an interactive table.\"\n",
       "              style=\"display:none;\">\n",
       "        \n",
       "  <svg xmlns=\"http://www.w3.org/2000/svg\" height=\"24px\"viewBox=\"0 0 24 24\"\n",
       "       width=\"24px\">\n",
       "    <path d=\"M0 0h24v24H0V0z\" fill=\"none\"/>\n",
       "    <path d=\"M18.56 5.44l.94 2.06.94-2.06 2.06-.94-2.06-.94-.94-2.06-.94 2.06-2.06.94zm-11 1L8.5 8.5l.94-2.06 2.06-.94-2.06-.94L8.5 2.5l-.94 2.06-2.06.94zm10 10l.94 2.06.94-2.06 2.06-.94-2.06-.94-.94-2.06-.94 2.06-2.06.94z\"/><path d=\"M17.41 7.96l-1.37-1.37c-.4-.4-.92-.59-1.43-.59-.52 0-1.04.2-1.43.59L10.3 9.45l-7.72 7.72c-.78.78-.78 2.05 0 2.83L4 21.41c.39.39.9.59 1.41.59.51 0 1.02-.2 1.41-.59l7.78-7.78 2.81-2.81c.8-.78.8-2.07 0-2.86zM5.41 20L4 18.59l7.72-7.72 1.47 1.35L5.41 20z\"/>\n",
       "  </svg>\n",
       "      </button>\n",
       "      \n",
       "  <style>\n",
       "    .colab-df-container {\n",
       "      display:flex;\n",
       "      flex-wrap:wrap;\n",
       "      gap: 12px;\n",
       "    }\n",
       "\n",
       "    .colab-df-convert {\n",
       "      background-color: #E8F0FE;\n",
       "      border: none;\n",
       "      border-radius: 50%;\n",
       "      cursor: pointer;\n",
       "      display: none;\n",
       "      fill: #1967D2;\n",
       "      height: 32px;\n",
       "      padding: 0 0 0 0;\n",
       "      width: 32px;\n",
       "    }\n",
       "\n",
       "    .colab-df-convert:hover {\n",
       "      background-color: #E2EBFA;\n",
       "      box-shadow: 0px 1px 2px rgba(60, 64, 67, 0.3), 0px 1px 3px 1px rgba(60, 64, 67, 0.15);\n",
       "      fill: #174EA6;\n",
       "    }\n",
       "\n",
       "    [theme=dark] .colab-df-convert {\n",
       "      background-color: #3B4455;\n",
       "      fill: #D2E3FC;\n",
       "    }\n",
       "\n",
       "    [theme=dark] .colab-df-convert:hover {\n",
       "      background-color: #434B5C;\n",
       "      box-shadow: 0px 1px 3px 1px rgba(0, 0, 0, 0.15);\n",
       "      filter: drop-shadow(0px 1px 2px rgba(0, 0, 0, 0.3));\n",
       "      fill: #FFFFFF;\n",
       "    }\n",
       "  </style>\n",
       "\n",
       "      <script>\n",
       "        const buttonEl =\n",
       "          document.querySelector('#df-a398ea24-52b1-418e-904f-65c1f4c57ae9 button.colab-df-convert');\n",
       "        buttonEl.style.display =\n",
       "          google.colab.kernel.accessAllowed ? 'block' : 'none';\n",
       "\n",
       "        async function convertToInteractive(key) {\n",
       "          const element = document.querySelector('#df-a398ea24-52b1-418e-904f-65c1f4c57ae9');\n",
       "          const dataTable =\n",
       "            await google.colab.kernel.invokeFunction('convertToInteractive',\n",
       "                                                     [key], {});\n",
       "          if (!dataTable) return;\n",
       "\n",
       "          const docLinkHtml = 'Like what you see? Visit the ' +\n",
       "            '<a target=\"_blank\" href=https://colab.research.google.com/notebooks/data_table.ipynb>data table notebook</a>'\n",
       "            + ' to learn more about interactive tables.';\n",
       "          element.innerHTML = '';\n",
       "          dataTable['output_type'] = 'display_data';\n",
       "          await google.colab.output.renderOutput(dataTable, element);\n",
       "          const docLink = document.createElement('div');\n",
       "          docLink.innerHTML = docLinkHtml;\n",
       "          element.appendChild(docLink);\n",
       "        }\n",
       "      </script>\n",
       "    </div>\n",
       "  </div>\n",
       "  "
      ],
      "text/plain": [
       "                                                                      37704  \\\n",
       "title                                       old is not working please check   \n",
       "body              old working please check forms infrastructure view ribbon   \n",
       "ticket_type                                                               0   \n",
       "category                                                                  4   \n",
       "sub_category1                                                            21   \n",
       "sub_category2                                                            77   \n",
       "business_service                                                         46   \n",
       "urgency                                                                   0   \n",
       "impact                                                                    3   \n",
       "\n",
       "                                                                                                              4759   \\\n",
       "title                                                                                          adding a new address   \n",
       "body              issue dear colleagues hello please help addresses leader running traditional way thank specialist   \n",
       "ticket_type                                                                                                       1   \n",
       "category                                                                                                          4   \n",
       "sub_category1                                                                                                     3   \n",
       "sub_category2                                                                                                   105   \n",
       "business_service                                                                                                 36   \n",
       "urgency                                                                                                           3   \n",
       "impact                                                                                                            4   \n",
       "\n",
       "                                        22869  \n",
       "title                         add to location  \n",
       "body              friday wants accept decline  \n",
       "ticket_type                                 1  \n",
       "category                                    4  \n",
       "sub_category1                               1  \n",
       "sub_category2                               7  \n",
       "business_service                           36  \n",
       "urgency                                     3  \n",
       "impact                                      4  "
      ]
     },
     "execution_count": 35,
     "metadata": {},
     "output_type": "execute_result"
    }
   ],
   "source": [
    "df.sample(3).T"
   ]
  },
  {
   "cell_type": "code",
   "execution_count": null,
   "metadata": {
    "colab": {
     "base_uri": "https://localhost:8080/"
    },
    "id": "B-jSvxK5eJTu",
    "outputId": "40d6bd23-7c56-4d1d-b6d0-d257570d2d0e"
   },
   "outputs": [
    {
     "data": {
      "text/plain": [
       "1    17356\n",
       "0     6918\n",
       "Name: ticket_type, dtype: int64"
      ]
     },
     "execution_count": 36,
     "metadata": {},
     "output_type": "execute_result"
    }
   ],
   "source": [
    "df.ticket_type.value_counts()"
   ]
  },
  {
   "cell_type": "code",
   "execution_count": null,
   "metadata": {
    "colab": {
     "base_uri": "https://localhost:8080/"
    },
    "id": "Sd5UksyVeOAV",
    "outputId": "a541fe89-839c-4342-a5e4-ed386d965431"
   },
   "outputs": [
    {
     "data": {
      "text/plain": [
       "4     17043\n",
       "5      4792\n",
       "6      1333\n",
       "7       468\n",
       "11      305\n",
       "8       107\n",
       "9        95\n",
       "3        70\n",
       "1        36\n",
       "12       22\n",
       "2         2\n",
       "0         1\n",
       "Name: category, dtype: int64"
      ]
     },
     "execution_count": 37,
     "metadata": {},
     "output_type": "execute_result"
    }
   ],
   "source": [
    "df.category.value_counts()"
   ]
  },
  {
   "cell_type": "markdown",
   "metadata": {
    "id": "4RmGbgiWelq4"
   },
   "source": [
    "Возьмем тип заявки - бинарная переменная.\n",
    "\n",
    "Для всех остальных параметров действия будут аналогичны.\n",
    "\n",
    "## Предварительная обработка текста\n",
    "\n",
    "Будем использовать простой подход - векторизацию (CountVectorizer) - подсчет количества слов"
   ]
  },
  {
   "cell_type": "code",
   "execution_count": null,
   "metadata": {
    "id": "xBmyzjLOeynD"
   },
   "outputs": [],
   "source": [
    "count_vec = CountVectorizer()\n",
    "\n",
    "bow = count_vec.fit_transform(df['body'])\n",
    "bow = np.array(bow.todense())"
   ]
  },
  {
   "cell_type": "code",
   "execution_count": null,
   "metadata": {
    "colab": {
     "base_uri": "https://localhost:8080/"
    },
    "id": "ogeVvuYnffTv",
    "outputId": "ed17f60e-a6cb-4171-e8ea-8541b4b0d47b"
   },
   "outputs": [
    {
     "data": {
      "text/plain": [
       "(24274, 10202)"
      ]
     },
     "execution_count": 39,
     "metadata": {},
     "output_type": "execute_result"
    }
   ],
   "source": [
    "bow.shape"
   ]
  },
  {
   "cell_type": "code",
   "execution_count": null,
   "metadata": {
    "id": "t4UDDeYHfsQf"
   },
   "outputs": [],
   "source": [
    "x = bow\n",
    "y = df['ticket_type']"
   ]
  },
  {
   "cell_type": "code",
   "execution_count": null,
   "metadata": {
    "id": "D80czGlif2zi"
   },
   "outputs": [],
   "source": [
    "x_train, x_test, y_train, y_test = train_test_split(\n",
    "    x, y, test_size=0.3, stratify=y\n",
    ")"
   ]
  },
  {
   "cell_type": "markdown",
   "metadata": {
    "id": "VvkYTtHMgMl5"
   },
   "source": [
    "Используем ```sklearn.naive_bayes.MultinomialNB``` т.к. работаем с текстом"
   ]
  },
  {
   "cell_type": "code",
   "execution_count": null,
   "metadata": {
    "id": "KzlZT1bFgKGY"
   },
   "outputs": [],
   "source": [
    "model = MultinomialNB().fit(x_train, y_train)"
   ]
  },
  {
   "cell_type": "markdown",
   "metadata": {
    "id": "CC5ED2dFgfJz"
   },
   "source": [
    "Предскажем результат на тестовой выборке"
   ]
  },
  {
   "cell_type": "code",
   "execution_count": null,
   "metadata": {
    "id": "NhGryzgugi4G"
   },
   "outputs": [],
   "source": [
    "y_pred = model.predict(x_test)"
   ]
  },
  {
   "cell_type": "markdown",
   "metadata": {
    "id": "VNsVdCvsgk8P"
   },
   "source": [
    "Определим сколько правильных ответов дала модель"
   ]
  },
  {
   "cell_type": "code",
   "execution_count": null,
   "metadata": {
    "colab": {
     "base_uri": "https://localhost:8080/"
    },
    "id": "-VfHD4H8gxEQ",
    "outputId": "db5a2e88-fce7-4d52-f2bc-ea77a639bee7"
   },
   "outputs": [
    {
     "name": "stdout",
     "output_type": "stream",
     "text": [
      "Точность: 0.9931346972401482\n"
     ]
    }
   ],
   "source": [
    "print(f'Точность: {accuracy_score(y_test, y_pred)}')"
   ]
  },
  {
   "cell_type": "code",
   "execution_count": null,
   "metadata": {
    "colab": {
     "base_uri": "https://localhost:8080/"
    },
    "id": "BOltHXZUg2R1",
    "outputId": "073d1f90-de64-4a37-fcd0-e64b620f4eec"
   },
   "outputs": [
    {
     "name": "stdout",
     "output_type": "stream",
     "text": [
      "              precision    recall  f1-score   support\n",
      "\n",
      "           0       0.98      0.99      0.99      2076\n",
      "           1       1.00      0.99      1.00      5207\n",
      "\n",
      "    accuracy                           0.99      7283\n",
      "   macro avg       0.99      0.99      0.99      7283\n",
      "weighted avg       0.99      0.99      0.99      7283\n",
      "\n"
     ]
    }
   ],
   "source": [
    "print(classification_report(y_test, y_pred))"
   ]
  }
 ],
 "metadata": {
  "colab": {
   "provenance": []
  },
  "kernelspec": {
   "display_name": "Python 3 (ipykernel)",
   "language": "python",
   "name": "python3"
  },
  "language_info": {
   "codemirror_mode": {
    "name": "ipython",
    "version": 3
   },
   "file_extension": ".py",
   "mimetype": "text/x-python",
   "name": "python",
   "nbconvert_exporter": "python",
   "pygments_lexer": "ipython3",
   "version": "3.9.13"
  }
 },
 "nbformat": 4,
 "nbformat_minor": 1
}
