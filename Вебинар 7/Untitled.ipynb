{
 "cells": [
  {
   "cell_type": "code",
   "execution_count": 1,
   "id": "7a80e037",
   "metadata": {},
   "outputs": [],
   "source": [
    "import numpy as np"
   ]
  },
  {
   "cell_type": "code",
   "execution_count": 2,
   "id": "4c65857f",
   "metadata": {},
   "outputs": [],
   "source": [
    "a = list (range (1_000_000))"
   ]
  },
  {
   "cell_type": "code",
   "execution_count": 3,
   "id": "dea5f825",
   "metadata": {},
   "outputs": [
    {
     "name": "stdout",
     "output_type": "stream",
     "text": [
      "179 ms ± 13.1 ms per loop (mean ± std. dev. of 7 runs, 1 loop each)\n"
     ]
    }
   ],
   "source": [
    "%%timeit \n",
    "\n",
    "[e * e for e in a]"
   ]
  },
  {
   "cell_type": "code",
   "execution_count": 6,
   "id": "4005809b",
   "metadata": {},
   "outputs": [],
   "source": [
    "a = np.arange (1_000_000)"
   ]
  },
  {
   "cell_type": "code",
   "execution_count": 7,
   "id": "dae0edc3",
   "metadata": {},
   "outputs": [
    {
     "name": "stdout",
     "output_type": "stream",
     "text": [
      "2.95 ms ± 616 µs per loop (mean ± std. dev. of 7 runs, 100 loops each)\n"
     ]
    }
   ],
   "source": [
    "%%timeit \n",
    "\n",
    "a * a"
   ]
  },
  {
   "cell_type": "code",
   "execution_count": 8,
   "id": "625317b3",
   "metadata": {},
   "outputs": [],
   "source": [
    "rows, cols = 1_000, 1_000\n",
    "\n",
    "a = [list(range(i, i + cols)) for i in range (rows)]\n",
    "b = [[0 for j in range(cols)] for i in range (rows)]"
   ]
  },
  {
   "cell_type": "code",
   "execution_count": 9,
   "id": "cc246fd5",
   "metadata": {},
   "outputs": [
    {
     "name": "stdout",
     "output_type": "stream",
     "text": [
      "306 ms ± 59.9 ms per loop (mean ± std. dev. of 7 runs, 1 loop each)\n"
     ]
    }
   ],
   "source": [
    "%%timeit\n",
    "\n",
    "for i in range(rows):\n",
    "    for j in range(cols):\n",
    "        b[i][j] = 2 * a[i][j]"
   ]
  },
  {
   "cell_type": "code",
   "execution_count": 10,
   "id": "af7deef2",
   "metadata": {},
   "outputs": [],
   "source": [
    "a = np.asarray(a)"
   ]
  },
  {
   "cell_type": "code",
   "execution_count": 11,
   "id": "28852018",
   "metadata": {},
   "outputs": [
    {
     "name": "stdout",
     "output_type": "stream",
     "text": [
      "3.47 ms ± 283 µs per loop (mean ± std. dev. of 7 runs, 100 loops each)\n"
     ]
    }
   ],
   "source": [
    "%%timeit\n",
    "\n",
    "b = 2 * a "
   ]
  },
  {
   "cell_type": "code",
   "execution_count": 19,
   "id": "b5f9c232",
   "metadata": {},
   "outputs": [
    {
     "data": {
      "text/plain": [
       "(array([1, 2, 3, 4, 5]), numpy.ndarray)"
      ]
     },
     "execution_count": 19,
     "metadata": {},
     "output_type": "execute_result"
    }
   ],
   "source": [
    "a = np.array([1,2,3,4,5])\n",
    "a, type(a)"
   ]
  },
  {
   "cell_type": "code",
   "execution_count": 13,
   "id": "abe8d868",
   "metadata": {},
   "outputs": [
    {
     "data": {
      "text/plain": [
       "(5,)"
      ]
     },
     "execution_count": 13,
     "metadata": {},
     "output_type": "execute_result"
    }
   ],
   "source": [
    "a.shape"
   ]
  },
  {
   "cell_type": "code",
   "execution_count": 20,
   "id": "a05bb623",
   "metadata": {},
   "outputs": [
    {
     "name": "stdout",
     "output_type": "stream",
     "text": [
      "Hello\n"
     ]
    }
   ],
   "source": [
    "tuple_1 = ('Hello'); print (tuple_1)"
   ]
  },
  {
   "cell_type": "code",
   "execution_count": 21,
   "id": "29a06298",
   "metadata": {},
   "outputs": [
    {
     "name": "stdout",
     "output_type": "stream",
     "text": [
      "('Hello',)\n"
     ]
    }
   ],
   "source": [
    "tuple_1 = ('Hello', ); print (tuple_1)"
   ]
  },
  {
   "cell_type": "code",
   "execution_count": 22,
   "id": "ad2759c2",
   "metadata": {},
   "outputs": [
    {
     "data": {
      "text/plain": [
       "dtype('int32')"
      ]
     },
     "execution_count": 22,
     "metadata": {},
     "output_type": "execute_result"
    }
   ],
   "source": [
    "a.dtype"
   ]
  },
  {
   "cell_type": "code",
   "execution_count": 24,
   "id": "f30f1721",
   "metadata": {},
   "outputs": [
    {
     "data": {
      "text/plain": [
       "(array([1., 2., 3., 4., 5.]), numpy.ndarray, dtype('float64'))"
      ]
     },
     "execution_count": 24,
     "metadata": {},
     "output_type": "execute_result"
    }
   ],
   "source": [
    "a = np.array([1.,2.,3.,4.,5.])\n",
    "a, type(a), a.dtype"
   ]
  },
  {
   "cell_type": "code",
   "execution_count": 26,
   "id": "2b77c972",
   "metadata": {},
   "outputs": [
    {
     "data": {
      "text/plain": [
       "(array([1., 2., 3., 4., 5.], dtype=float32), numpy.ndarray, dtype('float32'))"
      ]
     },
     "execution_count": 26,
     "metadata": {},
     "output_type": "execute_result"
    }
   ],
   "source": [
    "a = np.array([1,2,3,4,5], dtype=np.float32)\n",
    "a, type(a), a.dtype"
   ]
  },
  {
   "cell_type": "code",
   "execution_count": 27,
   "id": "a952ab9d",
   "metadata": {},
   "outputs": [
    {
     "data": {
      "text/plain": [
       "array([1., 2., 3., 4., 5.], dtype=float32)"
      ]
     },
     "execution_count": 27,
     "metadata": {},
     "output_type": "execute_result"
    }
   ],
   "source": [
    "a"
   ]
  },
  {
   "cell_type": "code",
   "execution_count": 29,
   "id": "cdc6be6b",
   "metadata": {},
   "outputs": [
    {
     "name": "stderr",
     "output_type": "stream",
     "text": [
      "C:\\Users\\User\\AppData\\Local\\Temp\\ipykernel_2352\\3012408652.py:1: DeprecationWarning: `np.complex` is a deprecated alias for the builtin `complex`. To silence this warning, use `complex` by itself. Doing this will not modify any behavior and is safe. If you specifically wanted the numpy scalar type, use `np.complex128` here.\n",
      "Deprecated in NumPy 1.20; for more details and guidance: https://numpy.org/devdocs/release/1.20.0-notes.html#deprecations\n",
      "  a, a.astype(np.complex), a.astype(np.int64)\n"
     ]
    },
    {
     "data": {
      "text/plain": [
       "(array([1., 2., 3., 4., 5.], dtype=float32),\n",
       " array([1.+0.j, 2.+0.j, 3.+0.j, 4.+0.j, 5.+0.j]),\n",
       " array([1, 2, 3, 4, 5], dtype=int64))"
      ]
     },
     "execution_count": 29,
     "metadata": {},
     "output_type": "execute_result"
    }
   ],
   "source": [
    "a, a.astype(np.complex), a.astype(np.int64)"
   ]
  },
  {
   "cell_type": "code",
   "execution_count": 30,
   "id": "34ccb2e9",
   "metadata": {},
   "outputs": [
    {
     "data": {
      "text/plain": [
       "array([  0,   1,   2,   3,   4,   5,   6,   7,   8,   9, 100,  11,  12,\n",
       "        13,  14])"
      ]
     },
     "execution_count": 30,
     "metadata": {},
     "output_type": "execute_result"
    }
   ],
   "source": [
    "a = np.arange (15)\n",
    "a[10]=100\n",
    "a"
   ]
  },
  {
   "cell_type": "code",
   "execution_count": 32,
   "id": "11ae31e4",
   "metadata": {},
   "outputs": [
    {
     "data": {
      "text/plain": [
       "(0, 5, 14, 14)"
      ]
     },
     "execution_count": 32,
     "metadata": {},
     "output_type": "execute_result"
    }
   ],
   "source": [
    "a[0], a[5], a[len(a)-1], a[-1]"
   ]
  },
  {
   "cell_type": "code",
   "execution_count": 33,
   "id": "2de5abc6",
   "metadata": {},
   "outputs": [
    {
     "ename": "SyntaxError",
     "evalue": "invalid syntax (3079450452.py, line 1)",
     "output_type": "error",
     "traceback": [
      "\u001b[1;36m  File \u001b[1;32m\"C:\\Users\\User\\AppData\\Local\\Temp\\ipykernel_2352\\3079450452.py\"\u001b[1;36m, line \u001b[1;32m1\u001b[0m\n\u001b[1;33m    array[start=0:stop=len(array)-1:step=1]\u001b[0m\n\u001b[1;37m               ^\u001b[0m\n\u001b[1;31mSyntaxError\u001b[0m\u001b[1;31m:\u001b[0m invalid syntax\n"
     ]
    }
   ],
   "source": [
    "array[start=0:stop=len(array)-1:step=1]"
   ]
  },
  {
   "cell_type": "code",
   "execution_count": 35,
   "id": "9c447359",
   "metadata": {},
   "outputs": [
    {
     "data": {
      "text/plain": [
       "array([ 0,  1,  2,  3,  4,  5,  6,  7,  8,  9, 10, 11, 12, 13, 14])"
      ]
     },
     "execution_count": 35,
     "metadata": {},
     "output_type": "execute_result"
    }
   ],
   "source": [
    "a = np.arange (15)\n",
    "a"
   ]
  },
  {
   "cell_type": "code",
   "execution_count": 37,
   "id": "6da895ff",
   "metadata": {},
   "outputs": [
    {
     "data": {
      "text/plain": [
       "[array([0, 1, 2, 3, 4]), array([0, 1, 2, 3, 4]), array([0, 1, 2, 3, 4])]"
      ]
     },
     "execution_count": 37,
     "metadata": {},
     "output_type": "execute_result"
    }
   ],
   "source": [
    "variants = [ a[0:5:1], a[0:5], a[:5]]\n",
    "variants"
   ]
  },
  {
   "cell_type": "code",
   "execution_count": 38,
   "id": "4a8c0b1c",
   "metadata": {},
   "outputs": [
    {
     "ename": "SyntaxError",
     "evalue": "invalid syntax (2877692536.py, line 1)",
     "output_type": "error",
     "traceback": [
      "\u001b[1;36m  File \u001b[1;32m\"C:\\Users\\User\\AppData\\Local\\Temp\\ipykernel_2352\\2877692536.py\"\u001b[1;36m, line \u001b[1;32m1\u001b[0m\n\u001b[1;33m    slice(stop), slice(start, stop[, step])\u001b[0m\n\u001b[1;37m                                   ^\u001b[0m\n\u001b[1;31mSyntaxError\u001b[0m\u001b[1;31m:\u001b[0m invalid syntax\n"
     ]
    }
   ],
   "source": [
    "slice(stop), slice(start, stop[, step])"
   ]
  },
  {
   "cell_type": "code",
   "execution_count": 40,
   "id": "c8fd25f3",
   "metadata": {},
   "outputs": [
    {
     "data": {
      "text/plain": [
       "[array([0, 1, 2, 3, 4]), array([0, 1, 2, 3, 4]), array([0, 1, 2, 3, 4])]"
      ]
     },
     "execution_count": 40,
     "metadata": {},
     "output_type": "execute_result"
    }
   ],
   "source": [
    "variants = [ a[slice(0,5,1)], a[slice(0,5)], a[slice(5)]]\n",
    "variants"
   ]
  },
  {
   "cell_type": "code",
   "execution_count": 41,
   "id": "309befac",
   "metadata": {},
   "outputs": [
    {
     "data": {
      "text/plain": [
       "[array([ 0,  2,  4,  6,  8, 10, 12, 14]),\n",
       " array([ 0,  2,  4,  6,  8, 10, 12, 14]),\n",
       " array([ 0,  2,  4,  6,  8, 10, 12, 14])]"
      ]
     },
     "execution_count": 41,
     "metadata": {},
     "output_type": "execute_result"
    }
   ],
   "source": [
    "variants = [ a[0:len(a):2], a[0::2], a[::2]]\n",
    "variants"
   ]
  },
  {
   "cell_type": "code",
   "execution_count": 42,
   "id": "913caf97",
   "metadata": {},
   "outputs": [
    {
     "data": {
      "text/plain": [
       "[array([ 1,  3,  5,  7,  9, 11, 13]), array([ 1,  3,  5,  7,  9, 11, 13])]"
      ]
     },
     "execution_count": 42,
     "metadata": {},
     "output_type": "execute_result"
    }
   ],
   "source": [
    "variants = [ a[1:len(a):2], a[1::2]]\n",
    "variants"
   ]
  },
  {
   "cell_type": "code",
   "execution_count": 43,
   "id": "4827e1ea",
   "metadata": {},
   "outputs": [
    {
     "data": {
      "text/plain": [
       "[array([3, 6, 9]), array([3, 6, 9])]"
      ]
     },
     "execution_count": 43,
     "metadata": {},
     "output_type": "execute_result"
    }
   ],
   "source": [
    "variants = [ a[3:12:3], a[3:-3:3]]\n",
    "variants"
   ]
  },
  {
   "cell_type": "code",
   "execution_count": 44,
   "id": "9bed0b1c",
   "metadata": {},
   "outputs": [
    {
     "data": {
      "text/plain": [
       "[array([12,  9,  6,  3]), array([12,  9,  6,  3]), array([12,  9,  6,  3])]"
      ]
     },
     "execution_count": 44,
     "metadata": {},
     "output_type": "execute_result"
    }
   ],
   "source": [
    "variants = [ a[3:13:3][::-1], a[12:2:-3], a[-3:2:-3]]\n",
    "variants"
   ]
  },
  {
   "cell_type": "code",
   "execution_count": 45,
   "id": "2f655fe9",
   "metadata": {},
   "outputs": [
    {
     "data": {
      "text/plain": [
       "(array([False,  True,  True, False,  True]),\n",
       " array([1, 2, 3, 4, 5]),\n",
       " array([2, 3, 5]))"
      ]
     },
     "execution_count": 45,
     "metadata": {},
     "output_type": "execute_result"
    }
   ],
   "source": [
    "a = np.array([1,2,3,4,5])\n",
    "mask = np.array([False, True, True, False, True])\n",
    "mask, a, a[mask]"
   ]
  },
  {
   "cell_type": "code",
   "execution_count": 46,
   "id": "5db03beb",
   "metadata": {},
   "outputs": [
    {
     "data": {
      "text/plain": [
       "array([-1, -1,  3, -1, -2, -2,  1,  0, -2,  5,  6,  5, -1,  0,  1,  3, -2,\n",
       "        3,  3,  1, -2,  4,  4,  3,  4,  2,  2, -1, -2, -1,  6,  5, -2, -1])"
      ]
     },
     "execution_count": 46,
     "metadata": {},
     "output_type": "execute_result"
    }
   ],
   "source": [
    "np.random.seed(1024)\n",
    "a = np.random.randint(-2,7,34)\n",
    "a"
   ]
  },
  {
   "cell_type": "code",
   "execution_count": 47,
   "id": "ded63426",
   "metadata": {},
   "outputs": [
    {
     "data": {
      "text/plain": [
       "array([-1, -1, -1, -2, -2, -2, -1, -2, -2, -1, -2, -1, -2, -1])"
      ]
     },
     "execution_count": 47,
     "metadata": {},
     "output_type": "execute_result"
    }
   ],
   "source": [
    "a[a<0]"
   ]
  },
  {
   "cell_type": "code",
   "execution_count": 48,
   "id": "2c772e78",
   "metadata": {},
   "outputs": [
    {
     "data": {
      "text/plain": [
       "[array([3, 0, 6, 0, 3, 3, 3, 3, 6]),\n",
       " array([3, 0, 6, 0, 3, 3, 3, 3, 6]),\n",
       " array([3, 0, 6, 0, 3, 3, 3, 3, 6])]"
      ]
     },
     "execution_count": 48,
     "metadata": {},
     "output_type": "execute_result"
    }
   ],
   "source": [
    "variants = [ a[a%3==0], a[np.logical_not(a%3)], a[~((a%3).astype(bool))]]\n",
    "variants"
   ]
  },
  {
   "cell_type": "code",
   "execution_count": 49,
   "id": "23820502",
   "metadata": {},
   "outputs": [
    {
     "data": {
      "text/plain": [
       "array([3, 6, 5, 4, 8, 1, 7, 6, 8, 0, 5, 0, 6, 2, 0, 5, 2, 6, 3, 7, 0, 0,\n",
       "       3])"
      ]
     },
     "execution_count": 49,
     "metadata": {},
     "output_type": "execute_result"
    }
   ],
   "source": [
    "np.random.seed(1234)\n",
    "a = np.random.randint(0,9,23)\n",
    "a"
   ]
  },
  {
   "cell_type": "code",
   "execution_count": 50,
   "id": "6f4b552f",
   "metadata": {},
   "outputs": [
    {
     "data": {
      "text/plain": [
       "(array([ True,  True, False, False, False, False, False,  True, False,\n",
       "         True, False,  True,  True, False,  True, False, False,  True,\n",
       "         True, False,  True,  True,  True]),\n",
       " array([False, False,  True, False, False, False, False, False, False,\n",
       "         True,  True,  True, False, False,  True,  True, False, False,\n",
       "        False, False,  True,  True, False]),\n",
       " array([3, 6, 5, 4, 8, 1, 7, 6, 8, 0, 5, 0, 6, 2, 0, 5, 2, 6, 3, 7, 0, 0,\n",
       "        3]),\n",
       " [array([3, 6, 5, 6, 0, 5, 0, 6, 0, 5, 6, 3, 0, 0, 3]),\n",
       "  array([3, 6, 5, 6, 0, 5, 0, 6, 0, 5, 6, 3, 0, 0, 3])])"
      ]
     },
     "execution_count": 50,
     "metadata": {},
     "output_type": "execute_result"
    }
   ],
   "source": [
    "mask_3 = a % 3 == 0\n",
    "mask_5 = a % 5 == 0\n",
    "\n",
    "variants = [ a [np.logical_or(mask_3, mask_5)], a[mask_3|mask_5] ]\n",
    "\n",
    "mask_3, mask_5, a, variants"
   ]
  },
  {
   "cell_type": "code",
   "execution_count": 51,
   "id": "10791d1f",
   "metadata": {},
   "outputs": [
    {
     "data": {
      "text/plain": [
       "(array([ True,  True, False,  True, False]), (array([0, 1, 3], dtype=int64),))"
      ]
     },
     "execution_count": 51,
     "metadata": {},
     "output_type": "execute_result"
    }
   ],
   "source": [
    "mask = np.array([True, True, False, True, False])\n",
    "mask, np.where(mask)"
   ]
  },
  {
   "cell_type": "code",
   "execution_count": 52,
   "id": "994597cf",
   "metadata": {},
   "outputs": [
    {
     "data": {
      "text/plain": [
       "(array([ 0,  1,  2,  3,  4,  5,  6,  7,  8, 10, 12, 13, 15, 16, 17, 18, 19,\n",
       "        22], dtype=int64),)"
      ]
     },
     "execution_count": 52,
     "metadata": {},
     "output_type": "execute_result"
    }
   ],
   "source": [
    "np.where(a>0)"
   ]
  },
  {
   "cell_type": "code",
   "execution_count": 53,
   "id": "5f5d3080",
   "metadata": {},
   "outputs": [
    {
     "data": {
      "text/plain": [
       "array([3, 6, 5, 4, 8, 1, 7, 6, 8, 5, 6, 2, 5, 2, 6, 3, 7, 3])"
      ]
     },
     "execution_count": 53,
     "metadata": {},
     "output_type": "execute_result"
    }
   ],
   "source": [
    "a[np.where(a>0)]"
   ]
  },
  {
   "cell_type": "code",
   "execution_count": 54,
   "id": "cb346edf",
   "metadata": {},
   "outputs": [
    {
     "data": {
      "text/plain": [
       "(array([[1., 2., 3., 4., 5.],\n",
       "        [6., 7., 8., 9., 0.]], dtype=float32),\n",
       " (2, 5),\n",
       " dtype('float32'))"
      ]
     },
     "execution_count": 54,
     "metadata": {},
     "output_type": "execute_result"
    }
   ],
   "source": [
    "a = np.array([[1,2,3,4,5],\n",
    "              [6,7,8,9,0]], dtype=np.float32)\n",
    "a, a.shape, a.dtype"
   ]
  },
  {
   "cell_type": "code",
   "execution_count": 55,
   "id": "2938c05d",
   "metadata": {},
   "outputs": [
    {
     "data": {
      "text/plain": [
       "2"
      ]
     },
     "execution_count": 55,
     "metadata": {},
     "output_type": "execute_result"
    }
   ],
   "source": [
    "a.ndim"
   ]
  },
  {
   "cell_type": "code",
   "execution_count": 56,
   "id": "c3d09c92",
   "metadata": {},
   "outputs": [
    {
     "data": {
      "text/plain": [
       "2"
      ]
     },
     "execution_count": 56,
     "metadata": {},
     "output_type": "execute_result"
    }
   ],
   "source": [
    "len(a.shape)"
   ]
  },
  {
   "cell_type": "code",
   "execution_count": 57,
   "id": "7c57dcb4",
   "metadata": {},
   "outputs": [
    {
     "data": {
      "text/plain": [
       "(array([[[ 0,  1,  2,  3],\n",
       "         [ 4,  5,  6,  7],\n",
       "         [ 8,  9, 10, 11]],\n",
       " \n",
       "        [[12, 13, 14, 15],\n",
       "         [16, 17, 18, 19],\n",
       "         [20, 21, 22, 23]],\n",
       " \n",
       "        [[24, 25, 26, 27],\n",
       "         [28, 29, 30, 31],\n",
       "         [32, 33, 34, 35]],\n",
       " \n",
       "        [[36, 37, 38, 39],\n",
       "         [40, 41, 42, 43],\n",
       "         [44, 45, 46, 47]]]),\n",
       " (4, 3, 4),\n",
       " 3,\n",
       " dtype('int32'))"
      ]
     },
     "execution_count": 57,
     "metadata": {},
     "output_type": "execute_result"
    }
   ],
   "source": [
    "a = np.array (\n",
    "    [\n",
    "        [\n",
    "            [0, 1, 2, 3],\n",
    "            [4, 5, 6, 7],\n",
    "            [8, 9, 10, 11]\n",
    "        ],\n",
    "        [\n",
    "            [12, 13, 14, 15],\n",
    "            [16, 17, 18, 19],\n",
    "            [20, 21, 22, 23]\n",
    "        ],\n",
    "        [\n",
    "            [24, 25, 26, 27],\n",
    "            [28, 29, 30, 31],\n",
    "            [32, 33, 34, 35]\n",
    "        ],\n",
    "        [\n",
    "            [36, 37, 38, 39],\n",
    "            [40, 41, 42, 43],\n",
    "            [44, 45, 46, 47]\n",
    "        ]\n",
    "    ])\n",
    "a, a.shape, a.ndim, a.dtype"
   ]
  },
  {
   "cell_type": "code",
   "execution_count": 58,
   "id": "a95bd9cf",
   "metadata": {},
   "outputs": [
    {
     "data": {
      "text/plain": [
       "array([[ 0,  1,  2,  3,  4,  5],\n",
       "       [ 6,  7,  8,  9, 10, 11],\n",
       "       [12, 13, 14, 15, 16, 17],\n",
       "       [18, 19, 20, 21, 22, 23],\n",
       "       [24, 25, 26, 27, 28, 29]])"
      ]
     },
     "execution_count": 58,
     "metadata": {},
     "output_type": "execute_result"
    }
   ],
   "source": [
    "a = np. arange(30). reshape(5, -1)\n",
    "a"
   ]
  },
  {
   "cell_type": "code",
   "execution_count": 59,
   "id": "95de45f5",
   "metadata": {},
   "outputs": [
    {
     "data": {
      "text/plain": [
       "(0, 2, 7, 28)"
      ]
     },
     "execution_count": 59,
     "metadata": {},
     "output_type": "execute_result"
    }
   ],
   "source": [
    "a[0][0], a[0][2], a[1][1], a[-1][-2]"
   ]
  },
  {
   "cell_type": "code",
   "execution_count": 60,
   "id": "378ca7f6",
   "metadata": {},
   "outputs": [
    {
     "data": {
      "text/plain": [
       "(0, 2, 7, 28)"
      ]
     },
     "execution_count": 60,
     "metadata": {},
     "output_type": "execute_result"
    }
   ],
   "source": [
    "a[0,0], a[0,2], a[1,1], a[-1,-2]"
   ]
  },
  {
   "cell_type": "code",
   "execution_count": 61,
   "id": "fe71cbef",
   "metadata": {},
   "outputs": [
    {
     "data": {
      "text/plain": [
       "[array([12, 13, 14, 15, 16, 17]), array([12, 13, 14, 15, 16, 17])]"
      ]
     },
     "execution_count": 61,
     "metadata": {},
     "output_type": "execute_result"
    }
   ],
   "source": [
    "variants = [ a[2], a[2,:]]\n",
    "variants"
   ]
  },
  {
   "cell_type": "code",
   "execution_count": 62,
   "id": "6d6aea20",
   "metadata": {},
   "outputs": [
    {
     "data": {
      "text/plain": [
       "array([ 3,  9, 15, 21, 27])"
      ]
     },
     "execution_count": 62,
     "metadata": {},
     "output_type": "execute_result"
    }
   ],
   "source": [
    "a[:,3]"
   ]
  },
  {
   "cell_type": "code",
   "execution_count": 63,
   "id": "8b8dcfe5",
   "metadata": {},
   "outputs": [
    {
     "data": {
      "text/plain": [
       "array([[ 0,  2,  4],\n",
       "       [ 6,  8, 10],\n",
       "       [12, 14, 16],\n",
       "       [18, 20, 22],\n",
       "       [24, 26, 28]])"
      ]
     },
     "execution_count": 63,
     "metadata": {},
     "output_type": "execute_result"
    }
   ],
   "source": [
    "a[:,::2]"
   ]
  },
  {
   "cell_type": "code",
   "execution_count": 64,
   "id": "55737bd9",
   "metadata": {},
   "outputs": [
    {
     "data": {
      "text/plain": [
       "array([1, 3, 5])"
      ]
     },
     "execution_count": 64,
     "metadata": {},
     "output_type": "execute_result"
    }
   ],
   "source": [
    "a[0,1::2]"
   ]
  },
  {
   "cell_type": "code",
   "execution_count": 65,
   "id": "7c833763",
   "metadata": {},
   "outputs": [
    {
     "data": {
      "text/plain": [
       "(array([[ 0,  1,  2,  3,  4,  5],\n",
       "        [ 6,  7,  8,  9, 10, 11],\n",
       "        [12, 13, 14, 15, 16, 17],\n",
       "        [18, 19, 20, 21, 22, 23],\n",
       "        [24, 25, 26, 27, 28, 29]]),\n",
       " array([[20, 23],\n",
       "        [ 8, 11]]))"
      ]
     },
     "execution_count": 65,
     "metadata": {},
     "output_type": "execute_result"
    }
   ],
   "source": [
    "a,a[1::2,2::3][::-1]"
   ]
  },
  {
   "cell_type": "code",
   "execution_count": 66,
   "id": "93d3298b",
   "metadata": {},
   "outputs": [
    {
     "data": {
      "text/plain": [
       "(array([[ 0,  1,  2,  3,  4,  5],\n",
       "        [ 6,  7,  8,  9, 10, 11],\n",
       "        [12, 13, 14, 15, 16, 17],\n",
       "        [18, 19, 20, 21, 22, 23],\n",
       "        [24, 25, 26, 27, 28, 29]]),\n",
       " array([[12, 13, 14, 15, 16, 17],\n",
       "        [24, 25, 26, 27, 28, 29],\n",
       "        [18, 19, 20, 21, 22, 23]]))"
      ]
     },
     "execution_count": 66,
     "metadata": {},
     "output_type": "execute_result"
    }
   ],
   "source": [
    "a = np. arange(30). reshape(5, -1)\n",
    "a, a[[2,4,3]]"
   ]
  },
  {
   "cell_type": "code",
   "execution_count": 67,
   "id": "ac9642d5",
   "metadata": {},
   "outputs": [
    {
     "data": {
      "text/plain": [
       "(array([[ 0,  1,  2,  3,  4,  5],\n",
       "        [ 6,  7,  8,  9, 10, 11],\n",
       "        [12, 13, 14, 15, 16, 17],\n",
       "        [18, 19, 20, 21, 22, 23],\n",
       "        [24, 25, 26, 27, 28, 29]]),\n",
       " array([[ 0,  5],\n",
       "        [ 6, 11],\n",
       "        [12, 17],\n",
       "        [18, 23],\n",
       "        [24, 29]]))"
      ]
     },
     "execution_count": 67,
     "metadata": {},
     "output_type": "execute_result"
    }
   ],
   "source": [
    "a, a[:,[0,-1]]"
   ]
  },
  {
   "cell_type": "code",
   "execution_count": 68,
   "id": "60055739",
   "metadata": {},
   "outputs": [
    {
     "data": {
      "text/plain": [
       "array([[12, 17],\n",
       "       [24, 29],\n",
       "       [18, 23]])"
      ]
     },
     "execution_count": 68,
     "metadata": {},
     "output_type": "execute_result"
    }
   ],
   "source": [
    "a[[2,4,3]][:,[0,-1]]"
   ]
  },
  {
   "cell_type": "code",
   "execution_count": 69,
   "id": "840eb628",
   "metadata": {},
   "outputs": [
    {
     "data": {
      "text/plain": [
       "(array([[[ 0,  1,  2,  3],\n",
       "         [ 4,  5,  6,  7],\n",
       "         [ 8,  9, 10, 11]],\n",
       " \n",
       "        [[12, 13, 14, 15],\n",
       "         [16, 17, 18, 19],\n",
       "         [20, 21, 22, 23]]]),\n",
       " array([[ 0,  4,  8],\n",
       "        [12, 16, 20]]))"
      ]
     },
     "execution_count": 69,
     "metadata": {},
     "output_type": "execute_result"
    }
   ],
   "source": [
    "a = np.arange(24).reshape(2,3,4)\n",
    "a, a[...,0]"
   ]
  },
  {
   "cell_type": "code",
   "execution_count": 70,
   "id": "975197eb",
   "metadata": {},
   "outputs": [
    {
     "data": {
      "text/plain": [
       "(array([[[ 0,  1,  2,  3],\n",
       "         [ 4,  5,  6,  7],\n",
       "         [ 8,  9, 10, 11]],\n",
       " \n",
       "        [[12, 13, 14, 15],\n",
       "         [16, 17, 18, 19],\n",
       "         [20, 21, 22, 23]]]),\n",
       " array([[12, 13, 14, 15],\n",
       "        [16, 17, 18, 19],\n",
       "        [20, 21, 22, 23]]))"
      ]
     },
     "execution_count": 70,
     "metadata": {},
     "output_type": "execute_result"
    }
   ],
   "source": [
    "a, a[1,...]"
   ]
  },
  {
   "cell_type": "code",
   "execution_count": 71,
   "id": "c6ff6826",
   "metadata": {},
   "outputs": [
    {
     "data": {
      "text/plain": [
       "(array([[[ 0,  1,  2,  3],\n",
       "         [ 4,  5,  6,  7],\n",
       "         [ 8,  9, 10, 11]],\n",
       " \n",
       "        [[12, 13, 14, 15],\n",
       "         [16, 17, 18, 19],\n",
       "         [20, 21, 22, 23]]]),\n",
       " array([[ 0,  1,  2,  3],\n",
       "        [12, 13, 14, 15]]))"
      ]
     },
     "execution_count": 71,
     "metadata": {},
     "output_type": "execute_result"
    }
   ],
   "source": [
    "a, a[...,0,:]"
   ]
  },
  {
   "cell_type": "code",
   "execution_count": null,
   "id": "0092ee7a",
   "metadata": {},
   "outputs": [],
   "source": []
  }
 ],
 "metadata": {
  "kernelspec": {
   "display_name": "Python 3 (ipykernel)",
   "language": "python",
   "name": "python3"
  },
  "language_info": {
   "codemirror_mode": {
    "name": "ipython",
    "version": 3
   },
   "file_extension": ".py",
   "mimetype": "text/x-python",
   "name": "python",
   "nbconvert_exporter": "python",
   "pygments_lexer": "ipython3",
   "version": "3.9.13"
  }
 },
 "nbformat": 4,
 "nbformat_minor": 5
}
