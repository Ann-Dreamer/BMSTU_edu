{
 "cells": [
  {
   "cell_type": "markdown",
   "metadata": {},
   "source": [
    "# 3. Рекомендательная система на основе содержимого\n",
    "\n",
    "Существует еще один тип рекомендательных систем, известный как рекомендатель на основе содержимого (контента). Этот тип рекомендательных систем использует описание элемента, чтобы рекомендовать следующий наиболее похожий продукт. Рекомендаторы, основанные на содержании, также дают «персонализированные» рекомендации. Основное различие между рекомендателем, основанным на корреляции, и рекомендателем, основанным на контенте, заключается в том, что первый учитывает «поведение пользователя», а второй — контент для формирования рекомендации. Рекомендатор на основе содержимого использует функции продукта или ключевые слова, используемые в описании, чтобы найти сходство между элементами. Построим такую систему."
   ]
  },
  {
   "cell_type": "code",
   "execution_count": 1,
   "metadata": {},
   "outputs": [],
   "source": [
    "# Импортируем библиотеки\n",
    "import pandas as pd\n",
    "from sklearn.metrics.pairwise import linear_kernel\n",
    "from sklearn.feature_extraction.text import TfidfVectorizer"
   ]
  },
  {
   "cell_type": "markdown",
   "metadata": {},
   "source": [
    "Функция **linear_kernel** используется для вычисления линейного ядра между двумя переменными. \n",
    "Следует отметить, что \"ядра\" — это меры сходства, т. е **s(a, b) > s(a, c)** если объекты a и b считаются «более похожими», чем объекты **a** и **c**. Ядро также должно быть положительно полуопределенным.\n",
    "Мы используем эту функцию, а не косинусную меру сходства (**cosine_similarities()**) потому, что она быстрее, а также потому, что мы используем **TF-IDF vectorization**, простое скалярное произведение даст нам ту же оценку косинусного сходства. \n",
    "Что такое **TF-IDF vector**? Мы не можем вычислить сходство между описаниями в таком виде, в каком они представлены в нашем датасете. Чтобы решить эту проблему, вычислим **Frequency-Inverse Document Frequency (TF-IDF)** для всех документов датасета.\n",
    "**TF-IDF (от англ. TF — term frequency, IDF — inverse document frequency)** — статистическая мера, используемая для оценки важности слова в контексте документа, являющегося частью коллекции документов или корпуса. Вес некоторого слова пропорционален частоте употребления этого слова в документе и обратно пропорционален частоте употребления слова во всех документах коллекции.\n",
    "\n",
    "Результатом будет матрица, где каждое слово представляет столбец. \n",
    "**sklearn** решает эту задачу за пару строк кода с использованием объекта **TfidfVectorizer**:"
   ]
  },
  {
   "cell_type": "code",
   "execution_count": 2,
   "metadata": {},
   "outputs": [],
   "source": [
    "# reading file\n",
    "book_description = pd.read_csv('description.csv', encoding = 'latin-1')"
   ]
  },
  {
   "cell_type": "code",
   "execution_count": 3,
   "metadata": {},
   "outputs": [
    {
     "data": {
      "text/html": [
       "<div>\n",
       "<style scoped>\n",
       "    .dataframe tbody tr th:only-of-type {\n",
       "        vertical-align: middle;\n",
       "    }\n",
       "\n",
       "    .dataframe tbody tr th {\n",
       "        vertical-align: top;\n",
       "    }\n",
       "\n",
       "    .dataframe thead th {\n",
       "        text-align: right;\n",
       "    }\n",
       "</style>\n",
       "<table border=\"1\" class=\"dataframe\">\n",
       "  <thead>\n",
       "    <tr style=\"text-align: right;\">\n",
       "      <th></th>\n",
       "      <th>book_id</th>\n",
       "      <th>name</th>\n",
       "      <th>description</th>\n",
       "    </tr>\n",
       "  </thead>\n",
       "  <tbody>\n",
       "    <tr>\n",
       "      <th>0</th>\n",
       "      <td>4833.0</td>\n",
       "      <td>The Glass Castle</td>\n",
       "      <td>A tender, moving tale of unconditional love in...</td>\n",
       "    </tr>\n",
       "    <tr>\n",
       "      <th>1</th>\n",
       "      <td>590.0</td>\n",
       "      <td>Night (The Night Trilogy, #1)</td>\n",
       "      <td>Born into a Jewish ghetto in Hungary, as a chi...</td>\n",
       "    </tr>\n",
       "    <tr>\n",
       "      <th>2</th>\n",
       "      <td>4264.0</td>\n",
       "      <td>Angela's Ashes (Frank McCourt, #1)</td>\n",
       "      <td>Imbued on every page with Frank McCourt's asto...</td>\n",
       "    </tr>\n",
       "    <tr>\n",
       "      <th>3</th>\n",
       "      <td>3361.0</td>\n",
       "      <td>Eat, Pray, Love</td>\n",
       "      <td>A celebrated writer's irresistible, candid, an...</td>\n",
       "    </tr>\n",
       "    <tr>\n",
       "      <th>4</th>\n",
       "      <td>4535.0</td>\n",
       "      <td>Into Thin Air: A Personal Account of the Mount...</td>\n",
       "      <td>A bank of clouds was assembling on the not-so-...</td>\n",
       "    </tr>\n",
       "  </tbody>\n",
       "</table>\n",
       "</div>"
      ],
      "text/plain": [
       "   book_id                                               name  \\\n",
       "0   4833.0                                  The Glass Castle    \n",
       "1    590.0                     Night (The Night Trilogy, #1)    \n",
       "2   4264.0                Angela's Ashes (Frank McCourt, #1)    \n",
       "3   3361.0                                   Eat, Pray, Love    \n",
       "4   4535.0  Into Thin Air: A Personal Account of the Mount...   \n",
       "\n",
       "                                         description  \n",
       "0  A tender, moving tale of unconditional love in...  \n",
       "1  Born into a Jewish ghetto in Hungary, as a chi...  \n",
       "2  Imbued on every page with Frank McCourt's asto...  \n",
       "3  A celebrated writer's irresistible, candid, an...  \n",
       "4  A bank of clouds was assembling on the not-so-...  "
      ]
     },
     "execution_count": 3,
     "metadata": {},
     "output_type": "execute_result"
    }
   ],
   "source": [
    "# checking if we have the right data\n",
    "book_description.head()"
   ]
  },
  {
   "cell_type": "code",
   "execution_count": 5,
   "metadata": {},
   "outputs": [],
   "source": [
    "# Удаляем из текста стоп-слова\n",
    "books_tfidf = TfidfVectorizer(stop_words='english')\n",
    "# replace NaN with empty strings\n",
    "book_description['description'] = book_description['description'].fillna('')\n",
    "# Рассчитываем матрицу TF-IDF, требуемую для расчета косинусной меры подобия текстов\n",
    "book_description_matrix = books_tfidf.fit_transform(book_description['description'])\n"
   ]
  },
  {
   "cell_type": "code",
   "execution_count": 7,
   "metadata": {},
   "outputs": [
    {
     "data": {
      "text/plain": [
       "(143, 4186)"
      ]
     },
     "execution_count": 7,
     "metadata": {},
     "output_type": "execute_result"
    }
   ],
   "source": [
    "# Оценим размерность получившейся матрицы\n",
    "book_description_matrix.shape"
   ]
  },
  {
   "cell_type": "markdown",
   "metadata": {},
   "source": [
    "Выведенный результат означает, что в базе для описания 143 книг используется 4186 слов. "
   ]
  },
  {
   "cell_type": "code",
   "execution_count": 8,
   "metadata": {},
   "outputs": [],
   "source": [
    "# рассчитаем косинусную меру подобия с использованием линейного ядра\n",
    "cosine_similarity = linear_kernel(book_description_matrix, book_description_matrix)"
   ]
  },
  {
   "cell_type": "code",
   "execution_count": 9,
   "metadata": {},
   "outputs": [
    {
     "name": "stdout",
     "output_type": "stream",
     "text": [
      "6                                 Running with Scissors \n",
      "29                            The Diary of a Young Girl \n",
      "116    It's St. Patrick's Day (Turtleback School & Li...\n",
      "11     Persepolis: The Story of a Childhood (Persepol...\n",
      "20     Maus I: A Survivor's Tale: My Father Bleeds Hi...\n",
      "Name: name, dtype: object\n"
     ]
    }
   ],
   "source": [
    "# Получим попарные оценки сходства всех книг по сравнению с книгой, переданной по индексу, отсортировав их и получив топ-5\n",
    "# здесь 2 - это индекс книги в наборе данных\n",
    "similarity_scores = list(enumerate(cosine_similarity[2]))\n",
    "similarity_scores = sorted(similarity_scores, key=lambda x: x[1], reverse=True)\n",
    "similarity_scores = similarity_scores[1:6]\n",
    "\n",
    "# Получим индекс похожих книг\n",
    "books_index = [i[0] for i in similarity_scores]\n",
    "\n",
    "# Выведем топ-5 наиболее похожих книг, используя индексацию на основе целочисленного местоположения (iloc)\n",
    "print (book_description['name'].iloc[books_index])\n"
   ]
  },
  {
   "cell_type": "markdown",
   "metadata": {},
   "source": [
    "Мы получили результат, свидетельствующий о том, что для нашей рекомендательной системы книга с индексом 2 аналогична книге с индексом 6. Давайте просмотрим аннотации книг и оценим, как хорошо работает наш рекомендатель.\n",
    "\n",
    "Вот краткое описание книги N2 - «Пепел Анжелы»:\n",
    "**«Когда я оглядываюсь назад на свое детство, я удивляюсь, как мне вообще удалось выжить. Это было, конечно, несчастное детство: счастливое детство вряд ли стоит вашего труда. Хуже обычного несчастного детства несчастное ирландское детство, и что еще хуже, несчастное ирландское католическое детство».**\n",
    "\n",
    "А вот аннотация книги №6 - «Бег с ножницами»:\n",
    "**«Правдивая история о детстве вне закона, где правила были неслыханными, рождественская елка не спала круглый год, валиум потреблялся как конфеты, а если дела становились скучными, мог развлечься электрошоковой терапией».**\n",
    "\n",
    "Мы видим определенное сходство между кратким описанием произведений. Также обе книги относятся к жанру «Биографии и мемуары». Это показывает, что наша рекомендация достаточно хороша при всей ее простоте."
   ]
  }
 ],
 "metadata": {
  "kernelspec": {
   "display_name": "Python 3 (ipykernel)",
   "language": "python",
   "name": "python3"
  },
  "language_info": {
   "codemirror_mode": {
    "name": "ipython",
    "version": 3
   },
   "file_extension": ".py",
   "mimetype": "text/x-python",
   "name": "python",
   "nbconvert_exporter": "python",
   "pygments_lexer": "ipython3",
   "version": "3.9.15"
  }
 },
 "nbformat": 4,
 "nbformat_minor": 2
}
