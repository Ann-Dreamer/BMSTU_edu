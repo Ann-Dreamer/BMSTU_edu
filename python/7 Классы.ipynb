{
 "cells": [
  {
   "cell_type": "markdown",
   "id": "a62acd1c",
   "metadata": {},
   "source": [
    "#### Создание класса Person"
   ]
  },
  {
   "cell_type": "code",
   "execution_count": null,
   "id": "48c3b243",
   "metadata": {},
   "outputs": [],
   "source": [
    "class Person:\n",
    "    def __init__(self, name, age=28):\n",
    "        self.name = name\n",
    "        self.age = age\n",
    "                 \n",
    "    def introduce(self):\n",
    "        print(f\"Мое имя - {self.name}, возраст - {self.age}\")"
   ]
  },
  {
   "cell_type": "code",
   "execution_count": null,
   "id": "c2cccf39",
   "metadata": {},
   "outputs": [],
   "source": [
    "p1 = Person(\"Владимир\", 20)"
   ]
  },
  {
   "cell_type": "code",
   "execution_count": null,
   "id": "7fbba0b6",
   "metadata": {},
   "outputs": [],
   "source": [
    "p1.age"
   ]
  },
  {
   "cell_type": "code",
   "execution_count": null,
   "id": "8aa79251",
   "metadata": {},
   "outputs": [],
   "source": [
    "p1.age = -10\n",
    "p1.age"
   ]
  },
  {
   "cell_type": "markdown",
   "id": "b8c2f98d",
   "metadata": {},
   "source": [
    "#### Можно установить некорректный возраст!"
   ]
  },
  {
   "cell_type": "code",
   "execution_count": null,
   "id": "e1a77e58",
   "metadata": {},
   "outputs": [],
   "source": [
    "class Person:\n",
    "    def __init__(self, name, age=28):\n",
    "        self.__name = name\n",
    "        self.__age = age\n",
    "                 \n",
    "    def introduce(self):\n",
    "        print(f\"Мое имя - {self.__name}, возраст - {self.__age}\")"
   ]
  },
  {
   "cell_type": "code",
   "execution_count": null,
   "id": "5cb6d6ba",
   "metadata": {},
   "outputs": [],
   "source": [
    "p1 = Person(\"Владимир\", 20)\n",
    "p1.__age"
   ]
  },
  {
   "cell_type": "code",
   "execution_count": null,
   "id": "eb7f44c1",
   "metadata": {},
   "outputs": [],
   "source": [
    "p1.__age = -1"
   ]
  },
  {
   "cell_type": "code",
   "execution_count": null,
   "id": "8503612a",
   "metadata": {},
   "outputs": [],
   "source": [
    "p1.introduce()"
   ]
  },
  {
   "cell_type": "code",
   "execution_count": null,
   "id": "450cb718",
   "metadata": {},
   "outputs": [],
   "source": [
    "p1.__age"
   ]
  },
  {
   "cell_type": "markdown",
   "id": "0f873724",
   "metadata": {},
   "source": [
    "#### Создание геттеров и сеттеров"
   ]
  },
  {
   "cell_type": "code",
   "execution_count": null,
   "id": "8a8832c4",
   "metadata": {},
   "outputs": [],
   "source": [
    "class Person:\n",
    "    def __init__(self, name, age=28):\n",
    "        self.__name = name\n",
    "        self.__age = age\n",
    "                 \n",
    "    def introduce(self):\n",
    "        print(f\"Мое имя - {self.__name}, возраст - {self.__age}\")\n",
    "    \n",
    "    def set_age(self, age):\n",
    "        if 1 <= age <= 130:\n",
    "            self.__age = age\n",
    "        else:\n",
    "            raise ValueError('Введен отрицательный возраст')\n",
    "    \n",
    "    def get_age(self):\n",
    "        return self.__age"
   ]
  },
  {
   "cell_type": "code",
   "execution_count": null,
   "id": "b57d109d",
   "metadata": {},
   "outputs": [],
   "source": [
    "p1 = Person(\"Владимир\", 20)\n",
    "p1.set_age(-1)\n",
    "p1.introduce()"
   ]
  },
  {
   "cell_type": "markdown",
   "id": "6faa8bb0",
   "metadata": {},
   "source": [
    "#### Но лучше использовать свойства"
   ]
  },
  {
   "cell_type": "code",
   "execution_count": null,
   "id": "03999e84",
   "metadata": {},
   "outputs": [],
   "source": [
    "class Person:\n",
    "    def __init__(self, name, age=28):\n",
    "        self.__name = name\n",
    "        self.__age = age\n",
    "    \n",
    "    def introduce(self):\n",
    "        print(f\"Мое имя - {self.__name}, возраст - {self.__age}\")\n",
    "    \n",
    "    @property\n",
    "    def age(self):\n",
    "        return self.__age\n",
    "    \n",
    "    @age.setter\n",
    "    def age(self, age):\n",
    "        if 1 <= age <= 130:\n",
    "            self.__age = age\n",
    "        else:\n",
    "            raise ValueError('Введен отрицательный возраст')"
   ]
  },
  {
   "cell_type": "code",
   "execution_count": null,
   "id": "25f9ff54",
   "metadata": {},
   "outputs": [],
   "source": [
    "p1 = Person(\"Владимир\", 20)\n",
    "p1.age = 10\n",
    "p1.age"
   ]
  },
  {
   "cell_type": "code",
   "execution_count": null,
   "id": "6e1eacee",
   "metadata": {},
   "outputs": [],
   "source": [
    "p1 = Person(\"Владимир\", 20)\n",
    "p1.age = -1\n",
    "p1.introduce()"
   ]
  },
  {
   "cell_type": "markdown",
   "id": "e5b61bcd",
   "metadata": {},
   "source": [
    "##### Есть возможность обратиться к приватному полю через конструкцию _класса__атрибут"
   ]
  },
  {
   "cell_type": "code",
   "execution_count": null,
   "id": "65a59143",
   "metadata": {},
   "outputs": [],
   "source": [
    "p1._Person__age = -1\n",
    "p1.introduce()"
   ]
  },
  {
   "cell_type": "markdown",
   "id": "8fb73c7a",
   "metadata": {},
   "source": [
    "Сделаем наследника - класс Student"
   ]
  },
  {
   "cell_type": "code",
   "execution_count": null,
   "id": "5f7c5b40",
   "metadata": {},
   "outputs": [],
   "source": [
    "class Person:\n",
    "    def __init__(self, name, age=28):\n",
    "        self.name = name\n",
    "        self.age = age\n",
    "                 \n",
    "    def introduce(self):\n",
    "        print(f\"Мое имя - {self.name}, возраст - {self.age}\")\n",
    "\n",
    "class Student(Person):\n",
    "    pass\n",
    "\n",
    "s1 = Student(\"Иван\")\n",
    "s1.introduce()"
   ]
  },
  {
   "cell_type": "markdown",
   "id": "d76b8856",
   "metadata": {},
   "source": [
    "Теперь представление другое"
   ]
  },
  {
   "cell_type": "code",
   "execution_count": null,
   "id": "212abdcb",
   "metadata": {},
   "outputs": [],
   "source": [
    "class Student(Person):\n",
    "    def __init__(self, name, age, course):\n",
    "        self.name = name\n",
    "        self.age = age\n",
    "        self.course = course\n",
    "    \n",
    "    def introduce(self):\n",
    "        print(f\"Мое имя - {self.name}, возраст - {self.age}\")\n",
    "        print(f\"Я на {self.course} курсе\")"
   ]
  },
  {
   "cell_type": "code",
   "execution_count": null,
   "id": "eebd12df",
   "metadata": {},
   "outputs": [],
   "source": [
    "s1 = Student(\"Иван\", 20, 2)\n",
    "s1.introduce()"
   ]
  },
  {
   "cell_type": "markdown",
   "id": "696e8497",
   "metadata": {},
   "source": [
    "Уберем дублирование"
   ]
  },
  {
   "cell_type": "code",
   "execution_count": null,
   "id": "4f622c80",
   "metadata": {},
   "outputs": [],
   "source": [
    "class Student(Person):\n",
    "    def __init__(self, name, age, course):\n",
    "        super().__init__(name, age)\n",
    "        self.course = course\n",
    "    \n",
    "    def introduce(self):\n",
    "        print(f\"Мое имя - {self.name}, возраст - {self.age}\")\n",
    "        print(f\"Я на {self.course} курсе\")"
   ]
  },
  {
   "cell_type": "code",
   "execution_count": null,
   "id": "6f891460",
   "metadata": {},
   "outputs": [],
   "source": [
    "s1 = Student(\"Иван\", 20, 2)\n",
    "s1.introduce()"
   ]
  },
  {
   "cell_type": "code",
   "execution_count": null,
   "id": "ed4eac10",
   "metadata": {},
   "outputs": [],
   "source": [
    "class Student(Person):\n",
    "    def __init__(self, name, age, course):\n",
    "        super().__init__(name, age)\n",
    "        self.course = course\n",
    "    \n",
    "    def introduce(self):\n",
    "        super().introduce()\n",
    "        print(f\"Я на {self.course} курсе\")"
   ]
  },
  {
   "cell_type": "code",
   "execution_count": null,
   "id": "d6fff006",
   "metadata": {
    "scrolled": true
   },
   "outputs": [],
   "source": [
    "s1 = Student(\"Иван\", 20, 2)\n",
    "s1.introduce()"
   ]
  },
  {
   "cell_type": "code",
   "execution_count": null,
   "id": "f35f96c3",
   "metadata": {},
   "outputs": [],
   "source": []
  },
  {
   "cell_type": "code",
   "execution_count": null,
   "id": "3e324293",
   "metadata": {},
   "outputs": [],
   "source": []
  },
  {
   "cell_type": "code",
   "execution_count": null,
   "id": "650e1cb5",
   "metadata": {},
   "outputs": [],
   "source": []
  },
  {
   "cell_type": "code",
   "execution_count": null,
   "id": "844367e9",
   "metadata": {},
   "outputs": [],
   "source": []
  }
 ],
 "metadata": {
  "kernelspec": {
   "display_name": "Python 3 (ipykernel)",
   "language": "python",
   "name": "python3"
  },
  "language_info": {
   "codemirror_mode": {
    "name": "ipython",
    "version": 3
   },
   "file_extension": ".py",
   "mimetype": "text/x-python",
   "name": "python",
   "nbconvert_exporter": "python",
   "pygments_lexer": "ipython3",
   "version": "3.9.7"
  }
 },
 "nbformat": 4,
 "nbformat_minor": 5
}
