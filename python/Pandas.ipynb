{
 "cells": [
  {
   "cell_type": "code",
   "execution_count": null,
   "id": "87b45776",
   "metadata": {},
   "outputs": [],
   "source": [
    "import pandas as pd\n",
    "import numpy as np"
   ]
  },
  {
   "cell_type": "markdown",
   "id": "9a5bb286",
   "metadata": {},
   "source": [
    "## Создание датафрейма из np массива"
   ]
  },
  {
   "cell_type": "code",
   "execution_count": null,
   "id": "fd1e536f",
   "metadata": {},
   "outputs": [],
   "source": [
    "a = np.arange(4 * 888).reshape(888, 4) + 1\n",
    "a"
   ]
  },
  {
   "cell_type": "code",
   "execution_count": null,
   "id": "f7ab17d7",
   "metadata": {},
   "outputs": [],
   "source": [
    "list(\"ABCD\")"
   ]
  },
  {
   "cell_type": "code",
   "execution_count": null,
   "id": "2b6af512",
   "metadata": {},
   "outputs": [],
   "source": [
    "df = pd.DataFrame(a, columns=['A', 'B', 'C', 'D'])\n",
    "df"
   ]
  },
  {
   "cell_type": "markdown",
   "id": "c56fb51c",
   "metadata": {},
   "source": [
    "## Просмотр датафрейма"
   ]
  },
  {
   "cell_type": "code",
   "execution_count": null,
   "id": "3ffa36cd",
   "metadata": {},
   "outputs": [],
   "source": [
    "df.head(2)"
   ]
  },
  {
   "cell_type": "code",
   "execution_count": null,
   "id": "de3c03d2",
   "metadata": {},
   "outputs": [],
   "source": [
    "df.tail(3)"
   ]
  },
  {
   "cell_type": "code",
   "execution_count": null,
   "id": "b1b91a99",
   "metadata": {},
   "outputs": [],
   "source": [
    "df.index"
   ]
  },
  {
   "cell_type": "code",
   "execution_count": null,
   "id": "0e1a031b",
   "metadata": {},
   "outputs": [],
   "source": [
    "df.columns"
   ]
  },
  {
   "cell_type": "code",
   "execution_count": null,
   "id": "7da9fab9",
   "metadata": {},
   "outputs": [],
   "source": [
    "df.describe()"
   ]
  },
  {
   "cell_type": "markdown",
   "id": "6fc1ed84",
   "metadata": {},
   "source": [
    "## Сортировка"
   ]
  },
  {
   "cell_type": "code",
   "execution_count": null,
   "id": "cd6eec09",
   "metadata": {},
   "outputs": [],
   "source": [
    "a = np.random.rand(888, 4)\n",
    "df = pd.DataFrame(a, columns=list(\"ABCD\"))\n",
    "df"
   ]
  },
  {
   "cell_type": "code",
   "execution_count": null,
   "id": "327c685d",
   "metadata": {},
   "outputs": [],
   "source": [
    "a"
   ]
  },
  {
   "cell_type": "code",
   "execution_count": null,
   "id": "730688bb",
   "metadata": {
    "scrolled": true
   },
   "outputs": [],
   "source": [
    "df.sort_values(by=\"B\")"
   ]
  },
  {
   "cell_type": "code",
   "execution_count": null,
   "id": "68f5e1af",
   "metadata": {},
   "outputs": [],
   "source": [
    "df.sort_values(by=[\"B\", \"C\"])"
   ]
  },
  {
   "cell_type": "code",
   "execution_count": null,
   "id": "80f1d1b3",
   "metadata": {},
   "outputs": [],
   "source": [
    "df.sort_values(by=\"B\", ascending = False)"
   ]
  },
  {
   "cell_type": "markdown",
   "id": "02af2f88",
   "metadata": {},
   "source": [
    "## Получение значений"
   ]
  },
  {
   "cell_type": "markdown",
   "id": "95e9eb8e",
   "metadata": {},
   "source": [
    "### По метке"
   ]
  },
  {
   "cell_type": "code",
   "execution_count": null,
   "id": "cb1604dd",
   "metadata": {},
   "outputs": [],
   "source": [
    "a = np.arange(4 * 888).reshape(888, 4) + 1\n",
    "df = pd.DataFrame(a, columns=list(\"ABCD\"))\n",
    "df"
   ]
  },
  {
   "cell_type": "code",
   "execution_count": null,
   "id": "083c499c",
   "metadata": {},
   "outputs": [],
   "source": [
    "df.values"
   ]
  },
  {
   "cell_type": "code",
   "execution_count": null,
   "id": "14031ccb",
   "metadata": {},
   "outputs": [],
   "source": [
    "df.to_numpy()"
   ]
  },
  {
   "cell_type": "code",
   "execution_count": null,
   "id": "5adeb45c",
   "metadata": {},
   "outputs": [],
   "source": [
    "df[\"A\"]"
   ]
  },
  {
   "cell_type": "code",
   "execution_count": null,
   "id": "8c6e6e6e",
   "metadata": {},
   "outputs": [],
   "source": [
    "df.A"
   ]
  },
  {
   "cell_type": "code",
   "execution_count": null,
   "id": "c4cb2e38",
   "metadata": {},
   "outputs": [],
   "source": [
    "df.loc[1:2, \"A\":\"C\"]"
   ]
  },
  {
   "cell_type": "code",
   "execution_count": null,
   "id": "dc0c4eec",
   "metadata": {},
   "outputs": [],
   "source": [
    "df.loc[1, \"A\"]"
   ]
  },
  {
   "cell_type": "markdown",
   "id": "505e5279",
   "metadata": {},
   "source": [
    "По индексу"
   ]
  },
  {
   "cell_type": "code",
   "execution_count": null,
   "id": "7ab01262",
   "metadata": {},
   "outputs": [],
   "source": [
    "df.iloc[:]"
   ]
  },
  {
   "cell_type": "code",
   "execution_count": null,
   "id": "7edd2ba8",
   "metadata": {},
   "outputs": [],
   "source": [
    "df.iloc[2]"
   ]
  },
  {
   "cell_type": "code",
   "execution_count": null,
   "id": "a9e44b4d",
   "metadata": {},
   "outputs": [],
   "source": [
    "df.iloc[2, :]"
   ]
  },
  {
   "cell_type": "code",
   "execution_count": null,
   "id": "a674d82f",
   "metadata": {},
   "outputs": [],
   "source": [
    "df.iloc[:, 1]"
   ]
  },
  {
   "cell_type": "code",
   "execution_count": null,
   "id": "3f461366",
   "metadata": {
    "scrolled": true
   },
   "outputs": [],
   "source": [
    "df.values[:, 1]"
   ]
  },
  {
   "cell_type": "code",
   "execution_count": null,
   "id": "9de45006",
   "metadata": {
    "scrolled": true
   },
   "outputs": [],
   "source": [
    "df.iloc[:, 1].values"
   ]
  },
  {
   "cell_type": "code",
   "execution_count": null,
   "id": "a0be27f6",
   "metadata": {},
   "outputs": [],
   "source": [
    "df[\"A\"] > 300"
   ]
  },
  {
   "cell_type": "code",
   "execution_count": null,
   "id": "e6a9c4a9",
   "metadata": {},
   "outputs": [],
   "source": [
    "df[df[\"A\"] > 300]"
   ]
  },
  {
   "cell_type": "markdown",
   "id": "17fb56a7",
   "metadata": {},
   "source": [
    "## Сохранение в файл"
   ]
  },
  {
   "cell_type": "code",
   "execution_count": null,
   "id": "e7261300",
   "metadata": {},
   "outputs": [],
   "source": [
    "df.to_csv(\"lesson_data/generated_data.csv\")"
   ]
  },
  {
   "cell_type": "code",
   "execution_count": null,
   "id": "5a88bf2b",
   "metadata": {},
   "outputs": [],
   "source": [
    "df.to_csv(\"lesson_data/generated_data.csv\", index=False)"
   ]
  },
  {
   "cell_type": "code",
   "execution_count": null,
   "id": "f3b12d9a",
   "metadata": {},
   "outputs": [],
   "source": [
    "df_another = pd.read_csv(\"lesson_data/generated_data.csv\")\n",
    "df_another"
   ]
  },
  {
   "cell_type": "code",
   "execution_count": null,
   "id": "3418b04b",
   "metadata": {},
   "outputs": [],
   "source": [
    "df"
   ]
  },
  {
   "cell_type": "code",
   "execution_count": null,
   "id": "a3fe8fb5",
   "metadata": {},
   "outputs": [],
   "source": []
  },
  {
   "cell_type": "code",
   "execution_count": null,
   "id": "fdb88874",
   "metadata": {},
   "outputs": [],
   "source": []
  },
  {
   "cell_type": "code",
   "execution_count": null,
   "id": "47bf60f8",
   "metadata": {},
   "outputs": [],
   "source": []
  },
  {
   "cell_type": "code",
   "execution_count": null,
   "id": "7cfaaa13",
   "metadata": {},
   "outputs": [],
   "source": []
  },
  {
   "cell_type": "code",
   "execution_count": null,
   "id": "eac09c18",
   "metadata": {},
   "outputs": [],
   "source": []
  },
  {
   "cell_type": "code",
   "execution_count": null,
   "id": "d6733753",
   "metadata": {},
   "outputs": [],
   "source": []
  },
  {
   "cell_type": "code",
   "execution_count": null,
   "id": "f96f5051",
   "metadata": {},
   "outputs": [],
   "source": []
  }
 ],
 "metadata": {
  "kernelspec": {
   "display_name": "Python 3 (ipykernel)",
   "language": "python",
   "name": "python3"
  },
  "language_info": {
   "codemirror_mode": {
    "name": "ipython",
    "version": 3
   },
   "file_extension": ".py",
   "mimetype": "text/x-python",
   "name": "python",
   "nbconvert_exporter": "python",
   "pygments_lexer": "ipython3",
   "version": "3.8.12"
  }
 },
 "nbformat": 4,
 "nbformat_minor": 5
}
