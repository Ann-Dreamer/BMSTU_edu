{
 "cells": [
  {
   "cell_type": "markdown",
   "id": "43d37e86",
   "metadata": {},
   "source": [
    "Напишем функцию приветствия"
   ]
  },
  {
   "cell_type": "code",
   "execution_count": null,
   "id": "3bf8a89b",
   "metadata": {},
   "outputs": [],
   "source": [
    "def print_hello_world():\n",
    "    print(\"Hello, world!\")"
   ]
  },
  {
   "cell_type": "code",
   "execution_count": null,
   "id": "5021cc48",
   "metadata": {},
   "outputs": [],
   "source": [
    "print_hello_world()"
   ]
  },
  {
   "cell_type": "markdown",
   "id": "66cc17e9",
   "metadata": {},
   "source": [
    "Аргументы функции"
   ]
  },
  {
   "cell_type": "code",
   "execution_count": null,
   "id": "33d8b8a6",
   "metadata": {},
   "outputs": [],
   "source": [
    "def print_text(text):\n",
    "    print(text)"
   ]
  },
  {
   "cell_type": "code",
   "execution_count": null,
   "id": "8e5d11a3",
   "metadata": {},
   "outputs": [],
   "source": [
    "print_text(\"Другой текст\")"
   ]
  },
  {
   "cell_type": "markdown",
   "id": "edc9901c",
   "metadata": {},
   "source": [
    "Считывание численного значения"
   ]
  },
  {
   "cell_type": "code",
   "execution_count": null,
   "id": "96809154",
   "metadata": {},
   "outputs": [],
   "source": [
    "temperature_str = input(\"Введите температуру\\n\")\n",
    "try:\n",
    "    temperature = int(temperature_str)\n",
    "except:\n",
    "    print(\"ОШИБКА! Требуется ввести число.\")"
   ]
  },
  {
   "cell_type": "markdown",
   "id": "43be59f8",
   "metadata": {},
   "source": [
    "Обернем это в функцию"
   ]
  },
  {
   "cell_type": "code",
   "execution_count": null,
   "id": "b4c1a094",
   "metadata": {},
   "outputs": [],
   "source": [
    "def get_temperature():\n",
    "    temperature_str = input(\"Введите температуру\\n\")\n",
    "    try:\n",
    "        temperature = int(temperature_str)\n",
    "        return temperature\n",
    "    except:\n",
    "        print(\"ОШИБКА! Требуется ввести число.\")\n",
    "        return None"
   ]
  },
  {
   "cell_type": "code",
   "execution_count": null,
   "id": "09e0648e",
   "metadata": {
    "scrolled": true
   },
   "outputs": [],
   "source": [
    "s = get_temperature()\n",
    "s"
   ]
  },
  {
   "cell_type": "code",
   "execution_count": null,
   "id": "af0460bd",
   "metadata": {},
   "outputs": [],
   "source": [
    "s"
   ]
  },
  {
   "cell_type": "code",
   "execution_count": null,
   "id": "2df0d76f",
   "metadata": {},
   "outputs": [],
   "source": []
  },
  {
   "cell_type": "markdown",
   "id": "b7615d1b",
   "metadata": {},
   "source": [
    "Обобщим функцию"
   ]
  },
  {
   "cell_type": "code",
   "execution_count": null,
   "id": "ca93b0a4",
   "metadata": {},
   "outputs": [],
   "source": [
    "def get_int_value(text):\n",
    "    value_str = input(text)\n",
    "    try:\n",
    "        value = int(value_str)\n",
    "        return value\n",
    "    except:\n",
    "        print(\"ОШИБКА! Требуется ввести целое число.\")\n",
    "        return None"
   ]
  },
  {
   "cell_type": "code",
   "execution_count": null,
   "id": "ce0409e6",
   "metadata": {},
   "outputs": [],
   "source": [
    "s = get_int_value(\"Введите температуру\")\n",
    "s"
   ]
  },
  {
   "cell_type": "code",
   "execution_count": null,
   "id": "b4667994",
   "metadata": {},
   "outputs": [],
   "source": [
    "s = get_int_value(\"Введите осадки\")\n",
    "s"
   ]
  },
  {
   "cell_type": "code",
   "execution_count": null,
   "id": "8ca84633",
   "metadata": {},
   "outputs": [],
   "source": []
  },
  {
   "cell_type": "markdown",
   "id": "ffbf127b",
   "metadata": {},
   "source": [
    "Установим значение по умолчанию"
   ]
  },
  {
   "cell_type": "code",
   "execution_count": null,
   "id": "16c5325c",
   "metadata": {},
   "outputs": [],
   "source": [
    "def get_int_value(text=\"Введите целое число\\n\"):\n",
    "    value_str = input(text)\n",
    "    try:\n",
    "        value = int(value_str)\n",
    "        return value\n",
    "    except:\n",
    "        print(\"ОШИБКА! Требуется ввести целое число.\")\n",
    "        return None"
   ]
  },
  {
   "cell_type": "code",
   "execution_count": null,
   "id": "1009dde0",
   "metadata": {},
   "outputs": [],
   "source": [
    "get_int_value()"
   ]
  },
  {
   "cell_type": "markdown",
   "id": "55d2c342",
   "metadata": {},
   "source": [
    "Продолжим создание \"заботливой\" программы"
   ]
  },
  {
   "cell_type": "code",
   "execution_count": null,
   "id": "a3ebb5a6",
   "metadata": {},
   "outputs": [],
   "source": [
    "home_border = -40\n",
    "head_border = 0\n",
    "temperature = -10\n",
    "\n",
    "if temperature < home_border:\n",
    "    print(f\"Температура за окном {temperature}. А может лучше дома посидим?\")\n",
    "elif temperature < head_border:\n",
    "    print(f\"Температура за окном {temperature}. Вам стоит надеть шапку\")\n",
    "else:\n",
    "    print(f\"Температура за окном {temperature}. Можете отправляться без шапки\")"
   ]
  },
  {
   "cell_type": "markdown",
   "id": "13d8ff23",
   "metadata": {},
   "source": [
    "Напишем функцию для совета"
   ]
  },
  {
   "cell_type": "code",
   "execution_count": null,
   "id": "15f873e1",
   "metadata": {},
   "outputs": [],
   "source": [
    "def print_advice(temperature, home_border=-40, head_border=0):\n",
    "    if temperature < home_border:\n",
    "        print(f\"Температура за окном {temperature}. А может лучше дома посидим?\")\n",
    "    elif temperature < head_border:\n",
    "        print(f\"Температура за окном {temperature}. Вам стоит надеть шапку\")\n",
    "    else:\n",
    "        print(f\"Температура за окном {temperature}. Можете отправляться без шапки\")"
   ]
  },
  {
   "cell_type": "code",
   "execution_count": null,
   "id": "f2123f17",
   "metadata": {},
   "outputs": [],
   "source": [
    "print_advice(-50)"
   ]
  },
  {
   "cell_type": "code",
   "execution_count": null,
   "id": "bbb4c37b",
   "metadata": {},
   "outputs": [],
   "source": [
    "s = get_int_value(\"Введите температуру\")\n",
    "print_advice(s)"
   ]
  },
  {
   "cell_type": "markdown",
   "id": "7e2d6914",
   "metadata": {},
   "source": [
    "Пусть совет будет возвращаться в виде строки"
   ]
  },
  {
   "cell_type": "code",
   "execution_count": null,
   "id": "05c8ee67",
   "metadata": {},
   "outputs": [],
   "source": [
    "def print_advice(temperature, home_border=-40, head_border=0):\n",
    "    if temperature < home_border:\n",
    "        return f\"Температура за окном {temperature}. А может лучше дома посидим?\"\n",
    "    elif temperature < head_border:\n",
    "        return f\"Температура за окном {temperature}. Вам стоит надеть шапку\"\n",
    "    else:\n",
    "        return f\"Температура за окном {temperature}. Можете отправляться без шапки\""
   ]
  },
  {
   "cell_type": "code",
   "execution_count": null,
   "id": "f8c0ea5b",
   "metadata": {},
   "outputs": [],
   "source": [
    "print_advice(4)"
   ]
  },
  {
   "cell_type": "markdown",
   "id": "ee9862e0",
   "metadata": {},
   "source": [
    "Распоковка при передаче в функцию"
   ]
  },
  {
   "cell_type": "code",
   "execution_count": null,
   "id": "edb969d7",
   "metadata": {},
   "outputs": [],
   "source": [
    "def f(width, height):\n",
    "    print(f\"Ширина изображения: {width}, высота изображения: {height}\")\n",
    "\n",
    "img_size = (800, 600)\n",
    "f(img_size)"
   ]
  },
  {
   "cell_type": "code",
   "execution_count": null,
   "id": "fb66c779",
   "metadata": {},
   "outputs": [],
   "source": [
    "f(*img_size)"
   ]
  },
  {
   "cell_type": "code",
   "execution_count": null,
   "id": "a5c7009d",
   "metadata": {},
   "outputs": [],
   "source": []
  },
  {
   "cell_type": "code",
   "execution_count": null,
   "id": "92483e66",
   "metadata": {},
   "outputs": [],
   "source": []
  }
 ],
 "metadata": {
  "kernelspec": {
   "display_name": "Python 3 (ipykernel)",
   "language": "python",
   "name": "python3"
  },
  "language_info": {
   "codemirror_mode": {
    "name": "ipython",
    "version": 3
   },
   "file_extension": ".py",
   "mimetype": "text/x-python",
   "name": "python",
   "nbconvert_exporter": "python",
   "pygments_lexer": "ipython3",
   "version": "3.9.7"
  }
 },
 "nbformat": 4,
 "nbformat_minor": 5
}
