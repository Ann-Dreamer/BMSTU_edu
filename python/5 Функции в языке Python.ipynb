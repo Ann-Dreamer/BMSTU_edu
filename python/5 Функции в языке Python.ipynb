{
 "cells": [
  {
   "cell_type": "markdown",
   "id": "804c125e",
   "metadata": {},
   "source": [
    "## Блок 1\n",
    "### Сделаем функцию, которая увеличивает значение счетчика"
   ]
  },
  {
   "cell_type": "code",
   "execution_count": null,
   "id": "21a4c9d5",
   "metadata": {},
   "outputs": [],
   "source": [
    "i = 0\n",
    "\n",
    "def increment():\n",
    "    global i\n",
    "    i += 1"
   ]
  },
  {
   "cell_type": "code",
   "execution_count": null,
   "id": "c68e224c",
   "metadata": {},
   "outputs": [],
   "source": [
    "increment()\n",
    "i"
   ]
  },
  {
   "cell_type": "markdown",
   "id": "560e5f8e",
   "metadata": {},
   "source": [
    "Рассмотрим области видимости переменной"
   ]
  },
  {
   "cell_type": "code",
   "execution_count": null,
   "id": "66beae93",
   "metadata": {},
   "outputs": [],
   "source": [
    "x = 0\n",
    "\n",
    "def outer():\n",
    "    x = 1\n",
    "    def inner():\n",
    "        x = 2\n",
    "        print(\"inner:\", x)\n",
    "\n",
    "    inner()\n",
    "    print(\"outer:\", x)\n",
    "\n",
    "outer()\n",
    "print(\"global:\", x)"
   ]
  },
  {
   "cell_type": "code",
   "execution_count": null,
   "id": "cf6ebbe6",
   "metadata": {},
   "outputs": [],
   "source": [
    "x = 0\n",
    "\n",
    "def outer():\n",
    "    x = 1\n",
    "    def inner():\n",
    "        nonlocal x\n",
    "        x = 2\n",
    "        print(\"inner:\", x)\n",
    "\n",
    "    inner()\n",
    "    print(\"outer:\", x)\n",
    "\n",
    "outer()\n",
    "print(\"global:\", x)"
   ]
  },
  {
   "cell_type": "code",
   "execution_count": null,
   "id": "c4af8957",
   "metadata": {},
   "outputs": [],
   "source": [
    "x = 0\n",
    "\n",
    "def outer():\n",
    "    x = 1\n",
    "    def inner():\n",
    "        global x\n",
    "        x = 2\n",
    "        print(\"inner:\", x)\n",
    "        \n",
    "    inner()\n",
    "    print(\"outer:\", x)\n",
    "\n",
    "outer()\n",
    "print(\"global:\", x)"
   ]
  },
  {
   "cell_type": "markdown",
   "id": "ec04028a",
   "metadata": {},
   "source": [
    "## Блок 2\n",
    "### Замыкания"
   ]
  },
  {
   "cell_type": "markdown",
   "id": "e83bd3a5",
   "metadata": {},
   "source": [
    "#### Функция, которая возвращает сумму двух аргументов"
   ]
  },
  {
   "cell_type": "code",
   "execution_count": null,
   "id": "18e77404",
   "metadata": {},
   "outputs": [],
   "source": [
    "def get_sum(a, b):\n",
    "    c = a + b\n",
    "    return c"
   ]
  },
  {
   "cell_type": "code",
   "execution_count": null,
   "id": "e8d93f3a",
   "metadata": {
    "scrolled": true
   },
   "outputs": [],
   "source": []
  },
  {
   "cell_type": "markdown",
   "id": "d2c85e7c",
   "metadata": {},
   "source": [
    "#### Функция, которая возвращает сумму аргумента и 5"
   ]
  },
  {
   "cell_type": "code",
   "execution_count": null,
   "id": "e809608f",
   "metadata": {},
   "outputs": [],
   "source": [
    "def sum5(a):\n",
    "    return get_sum(5, a)"
   ]
  },
  {
   "cell_type": "code",
   "execution_count": null,
   "id": "d89e655e",
   "metadata": {},
   "outputs": [],
   "source": [
    "sum5(1)"
   ]
  },
  {
   "cell_type": "markdown",
   "id": "d6420466",
   "metadata": {},
   "source": [
    "#### Сделаем замыкание"
   ]
  },
  {
   "cell_type": "code",
   "execution_count": null,
   "id": "94e80687",
   "metadata": {},
   "outputs": [],
   "source": [
    "def sum_with_number(a):\n",
    "    def get_sum(b):\n",
    "        return a + b\n",
    "    return get_sum"
   ]
  },
  {
   "cell_type": "code",
   "execution_count": null,
   "id": "0b68cf7e",
   "metadata": {},
   "outputs": [],
   "source": []
  },
  {
   "cell_type": "code",
   "execution_count": null,
   "id": "9c814343",
   "metadata": {},
   "outputs": [],
   "source": [
    "s = sum_with_number(4)"
   ]
  },
  {
   "cell_type": "code",
   "execution_count": null,
   "id": "ea435689",
   "metadata": {},
   "outputs": [],
   "source": [
    "s(2)"
   ]
  },
  {
   "cell_type": "markdown",
   "id": "eb84982a",
   "metadata": {},
   "source": [
    "## Блок 3\n",
    "### Лямбда-функции"
   ]
  },
  {
   "cell_type": "markdown",
   "id": "d716aa1d",
   "metadata": {},
   "source": [
    "#### Лямбда-функция для сложения двух чисел"
   ]
  },
  {
   "cell_type": "code",
   "execution_count": null,
   "id": "7062ebf3",
   "metadata": {},
   "outputs": [],
   "source": [
    "(lambda x, y: x+y)(2, 3)"
   ]
  },
  {
   "cell_type": "code",
   "execution_count": null,
   "id": "3afda08f",
   "metadata": {},
   "outputs": [],
   "source": [
    "s = lambda x, y: x+y"
   ]
  },
  {
   "cell_type": "code",
   "execution_count": null,
   "id": "444358ed",
   "metadata": {},
   "outputs": [],
   "source": [
    "s(2, 3)"
   ]
  },
  {
   "cell_type": "markdown",
   "id": "b024a302",
   "metadata": {},
   "source": [
    "s()"
   ]
  },
  {
   "cell_type": "code",
   "execution_count": null,
   "id": "4eadabcd",
   "metadata": {},
   "outputs": [],
   "source": [
    "a = [\"10\", \"001\", \"030\", \"001\", \"002\", \"003\", \"111\", \"112\", \"222\"]\n",
    "a.sort()\n",
    "a"
   ]
  },
  {
   "cell_type": "code",
   "execution_count": null,
   "id": "ca6edf19",
   "metadata": {},
   "outputs": [],
   "source": [
    "a = [\"10\", \"001\", \"030\", \"001\", \"002\", \"003\", \"111\", \"112\", \"222\"]\n",
    "a.sort(key=int)\n",
    "a"
   ]
  },
  {
   "cell_type": "code",
   "execution_count": null,
   "id": "a188dcd1",
   "metadata": {},
   "outputs": [],
   "source": []
  },
  {
   "cell_type": "code",
   "execution_count": null,
   "id": "43197947",
   "metadata": {},
   "outputs": [],
   "source": []
  },
  {
   "cell_type": "code",
   "execution_count": null,
   "id": "a0af7040",
   "metadata": {},
   "outputs": [],
   "source": [
    "list_of_str = ['1', '2', '5', '10']\n",
    "\n",
    "list(map(int, list_of_str))"
   ]
  },
  {
   "cell_type": "code",
   "execution_count": null,
   "id": "f1279950",
   "metadata": {},
   "outputs": [],
   "source": [
    "numbers = [1, 2, 3, 4, 5, 6]\n",
    "\n",
    "list(map(lambda x: x * x, numbers))"
   ]
  },
  {
   "cell_type": "markdown",
   "id": "1eb77975",
   "metadata": {},
   "source": [
    "## Блок 4\n",
    "### Составим документацию для функции"
   ]
  },
  {
   "cell_type": "code",
   "execution_count": null,
   "id": "3d85e717",
   "metadata": {},
   "outputs": [],
   "source": [
    "def s(x, y):\n",
    "    \"\"\"Первая срока - заголовок\n",
    "\n",
    "    Затем следует необязательная пустая строка и текст \n",
    "    документации.\n",
    "    \"\"\"\n",
    "    res = x + y\n",
    "    return res"
   ]
  },
  {
   "cell_type": "code",
   "execution_count": null,
   "id": "d2dbe4ef",
   "metadata": {},
   "outputs": [],
   "source": [
    "help(s)"
   ]
  },
  {
   "cell_type": "code",
   "execution_count": null,
   "id": "aba16231",
   "metadata": {},
   "outputs": [],
   "source": [
    "s.__doc__"
   ]
  },
  {
   "cell_type": "code",
   "execution_count": null,
   "id": "edb969d7",
   "metadata": {},
   "outputs": [],
   "source": [
    "def s(x, y):\n",
    "    \"\"\"Функция, которая возврашает сумму двух чисел.\n",
    "    \n",
    "        Parameters:\n",
    "            x (int): Целое число\n",
    "            y (int): Целое число\n",
    "        \n",
    "        Returns:\n",
    "            res (int): Сумма\n",
    "    \"\"\"\n",
    "    res = x + y\n",
    "    return res"
   ]
  },
  {
   "cell_type": "code",
   "execution_count": null,
   "id": "b23c71be",
   "metadata": {},
   "outputs": [],
   "source": [
    "help(s)"
   ]
  },
  {
   "cell_type": "markdown",
   "id": "ded2b513",
   "metadata": {},
   "source": [
    "## Блок 5\n",
    "### Аннотация типов"
   ]
  },
  {
   "cell_type": "code",
   "execution_count": null,
   "id": "d97f0246",
   "metadata": {},
   "outputs": [],
   "source": [
    "def prod(a: int, b: int) -> int:\n",
    "    return a * b"
   ]
  },
  {
   "cell_type": "code",
   "execution_count": null,
   "id": "fb66c779",
   "metadata": {},
   "outputs": [],
   "source": [
    "def s(x: int, y: int) -> int:\n",
    "    \"\"\"Функция, которая возврашает сумму двух чисел.\n",
    "    \n",
    "        Parameters:\n",
    "            x (int): Целое число\n",
    "            y (int): Целое число\n",
    "        \n",
    "        Returns:\n",
    "            res (int): Сумма\n",
    "    \"\"\"\n",
    "    res = x + y\n",
    "    return res"
   ]
  },
  {
   "cell_type": "code",
   "execution_count": null,
   "id": "a5c7009d",
   "metadata": {},
   "outputs": [],
   "source": []
  },
  {
   "cell_type": "code",
   "execution_count": null,
   "id": "92483e66",
   "metadata": {},
   "outputs": [],
   "source": []
  }
 ],
 "metadata": {
  "kernelspec": {
   "display_name": "Python 3 (ipykernel)",
   "language": "python",
   "name": "python3"
  },
  "language_info": {
   "codemirror_mode": {
    "name": "ipython",
    "version": 3
   },
   "file_extension": ".py",
   "mimetype": "text/x-python",
   "name": "python",
   "nbconvert_exporter": "python",
   "pygments_lexer": "ipython3",
   "version": "3.9.7"
  }
 },
 "nbformat": 4,
 "nbformat_minor": 5
}
