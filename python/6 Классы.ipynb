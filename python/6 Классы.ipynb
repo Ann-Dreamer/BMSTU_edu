{
 "cells": [
  {
   "cell_type": "markdown",
   "id": "f69f72aa",
   "metadata": {},
   "source": [
    "Необходимо хранить список студентов. \n",
    "\n",
    "У каждого студента есть фамилия и возраст.\n",
    "\n",
    "Необходимо вывести студентов, у которых фамилия кончается на \"ов\" и возраст больше 30"
   ]
  },
  {
   "cell_type": "code",
   "execution_count": null,
   "id": "22c72907",
   "metadata": {},
   "outputs": [],
   "source": [
    "# ОЧЕНЬ ПЛОХОЙ КОД\n",
    "# База фамилий\n",
    "cheloveki = [\"Петров\", \"Иванов\", \"Васильцов\", \"Матюхин\", \"Воронов\", \"Ли\", \"Васильцов\", \"Сенченко\", ]\n",
    "\n",
    "# База возрастов\n",
    "vosrasti = [12, 33, 56, 34, 26, 30, 19, 30]\n",
    "\n",
    "# Получаем счетчик для каждого человека\n",
    "for i in range(len(cheloveki)):\n",
    "    # получаем длину имени\n",
    "    cheloveki_dlin = len(cheloveki[i])\n",
    "    # проверяем кончается ли на \"ов\"\n",
    "    if cheloveki[i][(cheloveki_dlin-2):cheloveki_dlin] == \"ов\" and vosrasti[i] > 30:\n",
    "        # выводим фамилию на экран\n",
    "        print(cheloveki[i])"
   ]
  },
  {
   "cell_type": "markdown",
   "id": "6a2a6db2",
   "metadata": {},
   "source": [
    "#### Решение через enumerate"
   ]
  },
  {
   "cell_type": "code",
   "execution_count": null,
   "id": "24dc7f39",
   "metadata": {},
   "outputs": [],
   "source": [
    "names = [\"Петров\", \"Иванов\", \"Васильцов\", \"Матюхин\", \"Воронов\", \"Ли\", \"Васильцов\", \"Сенченко\"]\n",
    "ages = [12, 33, 56, 34, 26, 30, 19, 30]\n",
    "\n",
    "for i, name in enumerate(names):\n",
    "    if name.endswith(\"ов\") and ages[i] > 30:\n",
    "        print(name)"
   ]
  },
  {
   "cell_type": "markdown",
   "id": "48592e0b",
   "metadata": {},
   "source": [
    "#### Решение через zip"
   ]
  },
  {
   "cell_type": "code",
   "execution_count": null,
   "id": "ece669e1",
   "metadata": {},
   "outputs": [],
   "source": [
    "names = [\"Петров\", \"Иванов\", \"Васильцов\", \"Матюхин\", \"Воронов\", \"Ли\", \"Васильцов\", \"Сенченко\"]\n",
    "ages = [12, 33, 56, 34, 26, 30, 19, 30]\n",
    "\n",
    "for name, age in zip(names, ages):\n",
    "    if name.endswith(\"ов\") and age > 30:\n",
    "        print(name)"
   ]
  },
  {
   "cell_type": "markdown",
   "id": "a0069e37",
   "metadata": {},
   "source": [
    "#### Каждый список - студент"
   ]
  },
  {
   "cell_type": "code",
   "execution_count": null,
   "id": "fe40f5f3",
   "metadata": {},
   "outputs": [],
   "source": [
    "students = []\n",
    "s1 = [\"Петров\", 12]\n",
    "students.append(s1)\n",
    "students.append([\"Иванов\", 33])\n",
    "students.append([\"Васильцов\", 56])\n",
    "students.append([\"Матюхин\", 34])\n",
    "students.append([\"Воронов\", 26])\n",
    "students.append([\"Ли\", 30])\n",
    "students.append([\"Васильцов\", 19])\n",
    "students.append([\"Сенченко\", 30])\n",
    "\n",
    "students"
   ]
  },
  {
   "cell_type": "code",
   "execution_count": null,
   "id": "086ab559",
   "metadata": {},
   "outputs": [],
   "source": [
    "for name, age in students:\n",
    "    if name.endswith(\"ов\") and age > 30:\n",
    "        print(name)"
   ]
  },
  {
   "cell_type": "code",
   "execution_count": null,
   "id": "da00c267",
   "metadata": {},
   "outputs": [],
   "source": [
    "class Student:\n",
    "    def __init__(self, name, age):\n",
    "        self.name = name\n",
    "        self.age = age"
   ]
  },
  {
   "cell_type": "code",
   "execution_count": null,
   "id": "7b5a08cf",
   "metadata": {},
   "outputs": [],
   "source": [
    "s = Student(\"Петров\", 12)\n",
    "s"
   ]
  },
  {
   "cell_type": "code",
   "execution_count": null,
   "id": "d2f643b8",
   "metadata": {},
   "outputs": [],
   "source": []
  },
  {
   "cell_type": "code",
   "execution_count": null,
   "id": "c8e260bb",
   "metadata": {},
   "outputs": [],
   "source": []
  },
  {
   "cell_type": "code",
   "execution_count": null,
   "id": "9ddcda20",
   "metadata": {},
   "outputs": [],
   "source": []
  },
  {
   "cell_type": "code",
   "execution_count": null,
   "id": "c734cc01",
   "metadata": {},
   "outputs": [],
   "source": []
  },
  {
   "cell_type": "code",
   "execution_count": null,
   "id": "ca1c3b96",
   "metadata": {},
   "outputs": [],
   "source": []
  },
  {
   "cell_type": "code",
   "execution_count": null,
   "id": "ef28d367",
   "metadata": {},
   "outputs": [],
   "source": []
  },
  {
   "cell_type": "code",
   "execution_count": null,
   "id": "99dbc02e",
   "metadata": {},
   "outputs": [],
   "source": []
  },
  {
   "cell_type": "code",
   "execution_count": null,
   "id": "2697ad0e",
   "metadata": {},
   "outputs": [],
   "source": [
    "names = [\"Петров\", \"Иванов\", \"Васильцов\", \"Матюхин\", \"Воронов\", \"Ли\", \"Васильцов\", \"Сенченко\"]\n",
    "ages = [12, 33, 56, 34, 26, 30, 19, 30]"
   ]
  },
  {
   "cell_type": "code",
   "execution_count": null,
   "id": "2050c43a",
   "metadata": {},
   "outputs": [],
   "source": [
    "students = []\n",
    "students.append(Student(\"Петров\", 12))\n",
    "students.append(Student(\"Иванов\", 33))\n",
    "students.append(Student(\"Васильцов\", 56))\n",
    "students.append(Student(\"Матюхин\", 34))\n",
    "students.append(Student(\"Воронов\", 26))\n",
    "students.append(Student(\"Ли\", 30))\n",
    "students.append(Student(\"Васильцов\", 19))\n",
    "students.append(Student(\"Сенченко\", 30))"
   ]
  },
  {
   "cell_type": "code",
   "execution_count": null,
   "id": "52702b93",
   "metadata": {},
   "outputs": [],
   "source": [
    "for student in students:\n",
    "    if student.name.endswith(\"ов\") and student.age > 30:\n",
    "        print(student.name)"
   ]
  },
  {
   "cell_type": "code",
   "execution_count": null,
   "id": "d613f4d4",
   "metadata": {},
   "outputs": [],
   "source": [
    "Student(\"Петров\")"
   ]
  },
  {
   "cell_type": "code",
   "execution_count": null,
   "id": "60ce5a02",
   "metadata": {},
   "outputs": [],
   "source": [
    "s = Student(name=\"Петров\", age=12)"
   ]
  },
  {
   "cell_type": "code",
   "execution_count": null,
   "id": "39c721af",
   "metadata": {},
   "outputs": [],
   "source": [
    "s.age"
   ]
  }
 ],
 "metadata": {
  "kernelspec": {
   "display_name": "Python 3 (ipykernel)",
   "language": "python",
   "name": "python3"
  },
  "language_info": {
   "codemirror_mode": {
    "name": "ipython",
    "version": 3
   },
   "file_extension": ".py",
   "mimetype": "text/x-python",
   "name": "python",
   "nbconvert_exporter": "python",
   "pygments_lexer": "ipython3",
   "version": "3.9.7"
  }
 },
 "nbformat": 4,
 "nbformat_minor": 5
}
