{
 "cells": [
  {
   "cell_type": "code",
   "execution_count": null,
   "id": "44450016",
   "metadata": {
    "scrolled": true
   },
   "outputs": [],
   "source": [
    "import numpy as np"
   ]
  },
  {
   "cell_type": "markdown",
   "id": "63866eb3",
   "metadata": {},
   "source": [
    "## Создание массивов"
   ]
  },
  {
   "cell_type": "code",
   "execution_count": null,
   "id": "af03b273",
   "metadata": {
    "scrolled": true
   },
   "outputs": [],
   "source": [
    "range(6)"
   ]
  },
  {
   "cell_type": "code",
   "execution_count": null,
   "id": "eb7478a7",
   "metadata": {},
   "outputs": [],
   "source": [
    "[i for i in range(6)]"
   ]
  },
  {
   "cell_type": "code",
   "execution_count": null,
   "id": "4a6a9d9b",
   "metadata": {},
   "outputs": [],
   "source": [
    "np.arange(6)"
   ]
  },
  {
   "cell_type": "code",
   "execution_count": null,
   "id": "5e297ba6",
   "metadata": {},
   "outputs": [],
   "source": [
    "simple_array = np.arange(6)"
   ]
  },
  {
   "cell_type": "code",
   "execution_count": null,
   "id": "de96e580",
   "metadata": {},
   "outputs": [],
   "source": [
    "simple_array.ndim"
   ]
  },
  {
   "cell_type": "code",
   "execution_count": null,
   "id": "dad7e2c6",
   "metadata": {},
   "outputs": [],
   "source": [
    "simple_array.shape"
   ]
  },
  {
   "cell_type": "code",
   "execution_count": null,
   "id": "d6b51fad",
   "metadata": {},
   "outputs": [],
   "source": [
    "simple_array.dtype"
   ]
  },
  {
   "cell_type": "code",
   "execution_count": null,
   "id": "029c8dd5",
   "metadata": {},
   "outputs": [],
   "source": [
    "simple_array.itemsize"
   ]
  },
  {
   "cell_type": "markdown",
   "id": "106ad741",
   "metadata": {},
   "source": [
    "### Изменение формы"
   ]
  },
  {
   "cell_type": "code",
   "execution_count": null,
   "id": "6dcdf778",
   "metadata": {},
   "outputs": [],
   "source": [
    "a = np.arange(24)\n",
    "a"
   ]
  },
  {
   "cell_type": "code",
   "execution_count": null,
   "id": "cf50104c",
   "metadata": {},
   "outputs": [],
   "source": [
    "a.shape"
   ]
  },
  {
   "cell_type": "code",
   "execution_count": null,
   "id": "9a3a08a0",
   "metadata": {},
   "outputs": [],
   "source": [
    "a.reshape((2, 12))"
   ]
  },
  {
   "cell_type": "code",
   "execution_count": null,
   "id": "0e2a1143",
   "metadata": {},
   "outputs": [],
   "source": [
    "b = a.reshape((2, 12))\n",
    "b.shape"
   ]
  },
  {
   "cell_type": "code",
   "execution_count": null,
   "id": "9463d92a",
   "metadata": {},
   "outputs": [],
   "source": [
    "a"
   ]
  },
  {
   "cell_type": "code",
   "execution_count": null,
   "id": "f10d2425",
   "metadata": {},
   "outputs": [],
   "source": [
    "a.reshape((2, 3, 4))"
   ]
  },
  {
   "cell_type": "code",
   "execution_count": null,
   "id": "2c6b927e",
   "metadata": {},
   "outputs": [],
   "source": [
    "a.reshape((2, 3, 2, 2))"
   ]
  },
  {
   "cell_type": "code",
   "execution_count": null,
   "id": "f1baedec",
   "metadata": {},
   "outputs": [],
   "source": [
    "b = a.reshape((2, 3, 2, 2))\n",
    "b.shape"
   ]
  },
  {
   "cell_type": "code",
   "execution_count": null,
   "id": "a1bf60e1",
   "metadata": {},
   "outputs": [],
   "source": [
    "a = np.array([1, 2, 3])\n",
    "a"
   ]
  },
  {
   "cell_type": "code",
   "execution_count": null,
   "id": "05c00073",
   "metadata": {},
   "outputs": [],
   "source": [
    "a.dtype"
   ]
  },
  {
   "cell_type": "code",
   "execution_count": null,
   "id": "db755d50",
   "metadata": {},
   "outputs": [],
   "source": [
    "a = np.array([1.0, 2.0, 3.0])\n",
    "a"
   ]
  },
  {
   "cell_type": "code",
   "execution_count": null,
   "id": "0d91e985",
   "metadata": {},
   "outputs": [],
   "source": [
    "a.dtype"
   ]
  },
  {
   "cell_type": "code",
   "execution_count": null,
   "id": "65652a2f",
   "metadata": {},
   "outputs": [],
   "source": [
    "np.arange(-50, 50, 10)"
   ]
  },
  {
   "cell_type": "code",
   "execution_count": null,
   "id": "0de12779",
   "metadata": {},
   "outputs": [],
   "source": [
    "np.arange(-50, 51, 10)"
   ]
  },
  {
   "cell_type": "code",
   "execution_count": null,
   "id": "509218b5",
   "metadata": {},
   "outputs": [],
   "source": [
    "np.linspace(0, 1, 10)"
   ]
  },
  {
   "cell_type": "code",
   "execution_count": null,
   "id": "0c9f5fa1",
   "metadata": {},
   "outputs": [],
   "source": [
    "np.linspace(-50, 50, 11) "
   ]
  },
  {
   "cell_type": "code",
   "execution_count": null,
   "id": "35bfee8a",
   "metadata": {},
   "outputs": [],
   "source": [
    "np.zeros((2, 3))"
   ]
  },
  {
   "cell_type": "code",
   "execution_count": null,
   "id": "ef77d0e5",
   "metadata": {},
   "outputs": [],
   "source": [
    "np.zeros((256, 256))"
   ]
  },
  {
   "cell_type": "code",
   "execution_count": null,
   "id": "e3fadb52",
   "metadata": {
    "scrolled": true
   },
   "outputs": [],
   "source": [
    "np.zeros((256, 256, 3))"
   ]
  },
  {
   "cell_type": "code",
   "execution_count": null,
   "id": "133118e3",
   "metadata": {
    "scrolled": true
   },
   "outputs": [],
   "source": [
    "np.ones((3, 3))"
   ]
  },
  {
   "cell_type": "code",
   "execution_count": null,
   "id": "f81416ce",
   "metadata": {
    "scrolled": false
   },
   "outputs": [],
   "source": [
    "np.random.choice(4)"
   ]
  },
  {
   "cell_type": "code",
   "execution_count": null,
   "id": "5260e6be",
   "metadata": {},
   "outputs": [],
   "source": [
    "a = [1, 2, 5, 7]\n",
    "np.random.choice(a, 1)"
   ]
  },
  {
   "cell_type": "code",
   "execution_count": null,
   "id": "3beb9503",
   "metadata": {},
   "outputs": [],
   "source": [
    "np.random.choice(4, 4)"
   ]
  },
  {
   "cell_type": "code",
   "execution_count": null,
   "id": "96d334ad",
   "metadata": {},
   "outputs": [],
   "source": [
    "np.random.choice(4, 5)"
   ]
  },
  {
   "cell_type": "code",
   "execution_count": null,
   "id": "f6f7a865",
   "metadata": {},
   "outputs": [],
   "source": [
    "np.random.choice(4, (2, 5), replace=False)"
   ]
  },
  {
   "cell_type": "code",
   "execution_count": null,
   "id": "9907fe54",
   "metadata": {},
   "outputs": [],
   "source": [
    "np.random.choice(4, (2, 5))"
   ]
  },
  {
   "cell_type": "code",
   "execution_count": null,
   "id": "7f05c7c9",
   "metadata": {},
   "outputs": [],
   "source": [
    "np.random.rand(3, 2)"
   ]
  },
  {
   "cell_type": "code",
   "execution_count": null,
   "id": "7e130306",
   "metadata": {},
   "outputs": [],
   "source": [
    "np.random.rand(*(3, 2))"
   ]
  },
  {
   "cell_type": "markdown",
   "id": "13f2c85d",
   "metadata": {},
   "source": [
    "## Операции с массивами"
   ]
  },
  {
   "cell_type": "markdown",
   "id": "89fc4742",
   "metadata": {},
   "source": [
    "### Операции с числом"
   ]
  },
  {
   "cell_type": "code",
   "execution_count": null,
   "id": "714d5fd4",
   "metadata": {},
   "outputs": [],
   "source": [
    "ones = np.ones((300, 300))\n",
    "pic = ones * 255\n",
    "pic"
   ]
  },
  {
   "cell_type": "code",
   "execution_count": null,
   "id": "20ee30dd",
   "metadata": {},
   "outputs": [],
   "source": [
    "255 - pic"
   ]
  },
  {
   "cell_type": "code",
   "execution_count": null,
   "id": "afca2b75",
   "metadata": {},
   "outputs": [],
   "source": [
    "pic + 100"
   ]
  },
  {
   "cell_type": "code",
   "execution_count": null,
   "id": "c5350e86",
   "metadata": {},
   "outputs": [],
   "source": [
    "np.zeros((255, 255)) + 1"
   ]
  },
  {
   "cell_type": "code",
   "execution_count": null,
   "id": "a10fd255",
   "metadata": {},
   "outputs": [],
   "source": [
    "unit_pic = pic / 255\n",
    "unit_pic"
   ]
  },
  {
   "cell_type": "code",
   "execution_count": null,
   "id": "02bfe749",
   "metadata": {},
   "outputs": [],
   "source": [
    "unit_pic.astype(int)"
   ]
  },
  {
   "cell_type": "markdown",
   "id": "0431a75f",
   "metadata": {},
   "source": [
    "### Операции между массивами"
   ]
  },
  {
   "cell_type": "code",
   "execution_count": null,
   "id": "eaac8bb1",
   "metadata": {},
   "outputs": [],
   "source": [
    "simple_array = np.arange(6)\n",
    "print(simple_array)\n",
    "ones = np.ones(6)\n",
    "print(ones)\n",
    "zeros = np.zeros(6)\n",
    "print(zeros)"
   ]
  },
  {
   "cell_type": "code",
   "execution_count": null,
   "id": "e459d06e",
   "metadata": {},
   "outputs": [],
   "source": [
    "simple_array + ones"
   ]
  },
  {
   "cell_type": "code",
   "execution_count": null,
   "id": "0dcbf4ae",
   "metadata": {},
   "outputs": [],
   "source": [
    "simple_array - ones"
   ]
  },
  {
   "cell_type": "code",
   "execution_count": null,
   "id": "2ad56c0d",
   "metadata": {},
   "outputs": [],
   "source": [
    "simple_array - simple_array"
   ]
  },
  {
   "cell_type": "code",
   "execution_count": null,
   "id": "fb5d5e5a",
   "metadata": {},
   "outputs": [],
   "source": [
    "simple_array * zeros"
   ]
  },
  {
   "cell_type": "code",
   "execution_count": null,
   "id": "300788f4",
   "metadata": {},
   "outputs": [],
   "source": [
    "(simple_array / ones) * 2"
   ]
  },
  {
   "cell_type": "code",
   "execution_count": null,
   "id": "cf012223",
   "metadata": {},
   "outputs": [],
   "source": [
    "simple_array / (ones * 2)"
   ]
  },
  {
   "cell_type": "code",
   "execution_count": null,
   "id": "a2565b2b",
   "metadata": {},
   "outputs": [],
   "source": [
    "np.cos(simple_array)"
   ]
  },
  {
   "cell_type": "code",
   "execution_count": null,
   "id": "f4d35949",
   "metadata": {},
   "outputs": [],
   "source": [
    "simple_array - 100"
   ]
  },
  {
   "cell_type": "code",
   "execution_count": null,
   "id": "79a780ab",
   "metadata": {},
   "outputs": [],
   "source": [
    "np.abs(simple_array - 100)"
   ]
  },
  {
   "cell_type": "code",
   "execution_count": null,
   "id": "81ccb3b9",
   "metadata": {},
   "outputs": [],
   "source": [
    "t = np.abs(simple_array - 100)\n",
    "t.dtype"
   ]
  },
  {
   "cell_type": "code",
   "execution_count": null,
   "id": "8a218ddf",
   "metadata": {},
   "outputs": [],
   "source": [
    "4 ** 2"
   ]
  },
  {
   "cell_type": "code",
   "execution_count": null,
   "id": "307cd56f",
   "metadata": {},
   "outputs": [],
   "source": [
    "simple_array"
   ]
  },
  {
   "cell_type": "code",
   "execution_count": null,
   "id": "be3fe1f2",
   "metadata": {},
   "outputs": [],
   "source": [
    "simple_array ** 2"
   ]
  },
  {
   "cell_type": "code",
   "execution_count": null,
   "id": "97e8dd00",
   "metadata": {},
   "outputs": [],
   "source": [
    "a = 3\n",
    "a = a + 5\n",
    "a"
   ]
  },
  {
   "cell_type": "code",
   "execution_count": null,
   "id": "2f3817ce",
   "metadata": {},
   "outputs": [],
   "source": [
    "a = 3\n",
    "a += 5\n",
    "a"
   ]
  },
  {
   "cell_type": "code",
   "execution_count": null,
   "id": "b5589996",
   "metadata": {},
   "outputs": [],
   "source": [
    "a = np.arange(6).reshape(2, 3)\n",
    "a"
   ]
  },
  {
   "cell_type": "code",
   "execution_count": null,
   "id": "59101f72",
   "metadata": {},
   "outputs": [],
   "source": [
    "a += 3\n",
    "a"
   ]
  },
  {
   "cell_type": "code",
   "execution_count": null,
   "id": "83b754e0",
   "metadata": {},
   "outputs": [],
   "source": [
    "super_simple_array = np.arange(3)\n",
    "print(super_simple_array)\n",
    "ones = np.ones(3)\n",
    "print(ones)\n",
    "super_simple_array @ ones"
   ]
  },
  {
   "cell_type": "code",
   "execution_count": null,
   "id": "e5d1dcf6",
   "metadata": {},
   "outputs": [],
   "source": [
    "np.dot(super_simple_array, ones)"
   ]
  },
  {
   "cell_type": "markdown",
   "id": "f1d2ac16",
   "metadata": {},
   "source": [
    "### Складывание массивов разных типов"
   ]
  },
  {
   "cell_type": "markdown",
   "id": "f724db23",
   "metadata": {},
   "source": [
    "Генерация массива с формой (3, 2)"
   ]
  },
  {
   "cell_type": "code",
   "execution_count": null,
   "id": "a43f3217",
   "metadata": {},
   "outputs": [],
   "source": [
    "np.random.rand(2, 3)"
   ]
  },
  {
   "cell_type": "code",
   "execution_count": null,
   "id": "1ababd57",
   "metadata": {},
   "outputs": [],
   "source": [
    "array_shape = (3, 2)\n",
    "random_array = np.random.rand(array_shape)"
   ]
  },
  {
   "cell_type": "markdown",
   "id": "d2db8fdd",
   "metadata": {},
   "source": [
    "Распаковка кортежа"
   ]
  },
  {
   "cell_type": "code",
   "execution_count": null,
   "id": "55fbfca2",
   "metadata": {},
   "outputs": [],
   "source": [
    "array_shape"
   ]
  },
  {
   "cell_type": "code",
   "execution_count": null,
   "id": "ec0dc7a4",
   "metadata": {},
   "outputs": [],
   "source": [
    "np.random.rand(3, 2)"
   ]
  },
  {
   "cell_type": "code",
   "execution_count": null,
   "id": "be70dcca",
   "metadata": {},
   "outputs": [],
   "source": [
    "np.random.rand((3, 2))"
   ]
  },
  {
   "cell_type": "code",
   "execution_count": null,
   "id": "97c3699f",
   "metadata": {},
   "outputs": [],
   "source": [
    "np.random.rand(*(3, 2))"
   ]
  },
  {
   "cell_type": "code",
   "execution_count": null,
   "id": "9298807b",
   "metadata": {},
   "outputs": [],
   "source": [
    "array_shape = (3, 2)\n",
    "random_array = np.random.rand(*array_shape)\n",
    "random_array"
   ]
  },
  {
   "cell_type": "code",
   "execution_count": null,
   "id": "8acfb934",
   "metadata": {},
   "outputs": [],
   "source": [
    "ones_array = np.ones(array_shape, dtype=int)\n",
    "ones_array"
   ]
  },
  {
   "cell_type": "code",
   "execution_count": null,
   "id": "664fc181",
   "metadata": {},
   "outputs": [],
   "source": [
    "random_array += ones_array\n",
    "random_array"
   ]
  },
  {
   "cell_type": "code",
   "execution_count": null,
   "id": "03570b57",
   "metadata": {},
   "outputs": [],
   "source": [
    "ones_array += random_array\n",
    "ones_array"
   ]
  },
  {
   "cell_type": "markdown",
   "id": "cb63b620",
   "metadata": {},
   "source": [
    "Случайное изменение порядка в массиве"
   ]
  },
  {
   "cell_type": "code",
   "execution_count": null,
   "id": "147d8505",
   "metadata": {},
   "outputs": [],
   "source": [
    "arr = np.arange(10)\n",
    "np.random.shuffle(arr)\n",
    "arr"
   ]
  },
  {
   "cell_type": "code",
   "execution_count": null,
   "id": "08a37dc6",
   "metadata": {},
   "outputs": [],
   "source": [
    "arr = np.arange(10).reshape(2, 5)\n",
    "np.random.shuffle(arr)\n",
    "arr"
   ]
  },
  {
   "cell_type": "markdown",
   "id": "06d45ab0",
   "metadata": {},
   "source": [
    "## Агрегация"
   ]
  },
  {
   "cell_type": "code",
   "execution_count": null,
   "id": "63b9189e",
   "metadata": {},
   "outputs": [],
   "source": [
    "ordered_array = np.arange(15).reshape(3, 5)\n",
    "ordered_array"
   ]
  },
  {
   "cell_type": "code",
   "execution_count": null,
   "id": "139e53a1",
   "metadata": {},
   "outputs": [],
   "source": [
    "ordered_array.sum()"
   ]
  },
  {
   "cell_type": "code",
   "execution_count": null,
   "id": "4af3ee15",
   "metadata": {},
   "outputs": [],
   "source": [
    "ordered_array.sum(axis = 0)"
   ]
  },
  {
   "cell_type": "code",
   "execution_count": null,
   "id": "1aa073a3",
   "metadata": {},
   "outputs": [],
   "source": [
    "ordered_array.sum(axis = 1)"
   ]
  },
  {
   "cell_type": "code",
   "execution_count": null,
   "id": "dd8a7dae",
   "metadata": {},
   "outputs": [],
   "source": [
    "ordered_array = np.arange(24).reshape(2, 3, 4)\n",
    "ordered_array"
   ]
  },
  {
   "cell_type": "code",
   "execution_count": null,
   "id": "92d930b6",
   "metadata": {},
   "outputs": [],
   "source": [
    "ordered_array.sum()"
   ]
  },
  {
   "cell_type": "code",
   "execution_count": null,
   "id": "5a675a21",
   "metadata": {},
   "outputs": [],
   "source": [
    "ordered_array.sum(axis = 2)"
   ]
  },
  {
   "cell_type": "code",
   "execution_count": null,
   "id": "9507ef12",
   "metadata": {},
   "outputs": [],
   "source": [
    "print(ordered_array)\n",
    "ordered_array.shape"
   ]
  },
  {
   "cell_type": "code",
   "execution_count": null,
   "id": "49fe6c15",
   "metadata": {},
   "outputs": [],
   "source": [
    "ordered_array.sum(axis = 1)"
   ]
  },
  {
   "cell_type": "code",
   "execution_count": null,
   "id": "9c6f4ec4",
   "metadata": {},
   "outputs": [],
   "source": [
    "print(ordered_array)\n",
    "ordered_array.shape"
   ]
  },
  {
   "cell_type": "code",
   "execution_count": null,
   "id": "d810cfa1",
   "metadata": {},
   "outputs": [],
   "source": [
    "ordered_array.sum(axis = 1)"
   ]
  },
  {
   "cell_type": "markdown",
   "id": "9262b21b",
   "metadata": {},
   "source": [
    "### Получение среднего значения"
   ]
  },
  {
   "cell_type": "code",
   "execution_count": null,
   "id": "22067112",
   "metadata": {},
   "outputs": [],
   "source": [
    "ordered_array = np.arange(15).reshape(3, 5)\n",
    "ordered_array"
   ]
  },
  {
   "cell_type": "code",
   "execution_count": null,
   "id": "b824c569",
   "metadata": {},
   "outputs": [],
   "source": [
    "ordered_array.mean()"
   ]
  },
  {
   "cell_type": "code",
   "execution_count": null,
   "id": "47cb0c16",
   "metadata": {},
   "outputs": [],
   "source": [
    "ordered_array.mean(axis = 0)"
   ]
  },
  {
   "cell_type": "code",
   "execution_count": null,
   "id": "5201d3f4",
   "metadata": {},
   "outputs": [],
   "source": [
    "ordered_array.mean(axis = 1)"
   ]
  },
  {
   "cell_type": "markdown",
   "id": "9210a65c",
   "metadata": {},
   "source": [
    "### Получение максимального значения"
   ]
  },
  {
   "cell_type": "code",
   "execution_count": null,
   "id": "4a807df4",
   "metadata": {},
   "outputs": [],
   "source": [
    "ordered_array = np.arange(15).reshape(3, 5)\n",
    "ordered_array"
   ]
  },
  {
   "cell_type": "code",
   "execution_count": null,
   "id": "31c08440",
   "metadata": {},
   "outputs": [],
   "source": [
    "ordered_array.max()"
   ]
  },
  {
   "cell_type": "code",
   "execution_count": null,
   "id": "b4106f6d",
   "metadata": {},
   "outputs": [],
   "source": [
    "ordered_array.max(axis = 0)"
   ]
  },
  {
   "cell_type": "code",
   "execution_count": null,
   "id": "e7c487d6",
   "metadata": {},
   "outputs": [],
   "source": [
    "ordered_array.max(axis = 1)"
   ]
  },
  {
   "cell_type": "markdown",
   "id": "7498e4f3",
   "metadata": {},
   "source": [
    "### Получение минимального значения"
   ]
  },
  {
   "cell_type": "code",
   "execution_count": null,
   "id": "dff0be77",
   "metadata": {},
   "outputs": [],
   "source": [
    "ordered_array = np.arange(15).reshape(3, 5)\n",
    "ordered_array"
   ]
  },
  {
   "cell_type": "code",
   "execution_count": null,
   "id": "54f635e0",
   "metadata": {},
   "outputs": [],
   "source": [
    "ordered_array.min()"
   ]
  },
  {
   "cell_type": "code",
   "execution_count": null,
   "id": "73697ce4",
   "metadata": {},
   "outputs": [],
   "source": [
    "ordered_array.min(axis = 0)"
   ]
  },
  {
   "cell_type": "code",
   "execution_count": null,
   "id": "c3fe5927",
   "metadata": {},
   "outputs": [],
   "source": [
    "ordered_array.min(axis = 1)"
   ]
  },
  {
   "cell_type": "markdown",
   "id": "8c4be3c9",
   "metadata": {},
   "source": [
    "### Пример применения"
   ]
  },
  {
   "cell_type": "code",
   "execution_count": null,
   "id": "4bc3c77b",
   "metadata": {},
   "outputs": [],
   "source": [
    "import cv2\n",
    "import matplotlib.pyplot as plt"
   ]
  },
  {
   "cell_type": "code",
   "execution_count": null,
   "id": "ecddc649",
   "metadata": {},
   "outputs": [],
   "source": [
    "pic_jpg = cv2.imread(\"lesson_data/rectangles.jpg\")\n",
    "plt.imshow(pic_jpg)"
   ]
  },
  {
   "cell_type": "code",
   "execution_count": null,
   "id": "3fc0b915",
   "metadata": {
    "scrolled": true
   },
   "outputs": [],
   "source": [
    "pic_jpg"
   ]
  },
  {
   "cell_type": "code",
   "execution_count": null,
   "id": "2d528c84",
   "metadata": {},
   "outputs": [],
   "source": [
    "pic_jpg.shape"
   ]
  },
  {
   "cell_type": "code",
   "execution_count": null,
   "id": "b395252a",
   "metadata": {},
   "outputs": [],
   "source": [
    "pic_jpg.mean(axis = 2).shape"
   ]
  },
  {
   "cell_type": "code",
   "execution_count": null,
   "id": "e370dbb7",
   "metadata": {},
   "outputs": [],
   "source": [
    "black_white_pic = pic_jpg.mean(axis = 2)\n",
    "black_white_pic.shape"
   ]
  },
  {
   "cell_type": "code",
   "execution_count": null,
   "id": "3d7eaad1",
   "metadata": {},
   "outputs": [],
   "source": [
    "black_white_pic"
   ]
  },
  {
   "cell_type": "code",
   "execution_count": null,
   "id": "0f65d1dd",
   "metadata": {},
   "outputs": [],
   "source": [
    "black_white_pic = black_white_pic.astype(int)\n",
    "plt.imshow(black_white_pic, vmin=0, vmax=255)"
   ]
  },
  {
   "cell_type": "code",
   "execution_count": null,
   "id": "073bbf5d",
   "metadata": {},
   "outputs": [],
   "source": [
    "plt.imshow(black_white_pic, vmin=0, vmax=255, cmap='gray')"
   ]
  },
  {
   "cell_type": "code",
   "execution_count": null,
   "id": "c18445dc",
   "metadata": {},
   "outputs": [],
   "source": [
    "black_white_pic = 255 - black_white_pic\n",
    "plt.imshow(black_white_pic, vmin=0, vmax=255, cmap='gray')"
   ]
  },
  {
   "cell_type": "code",
   "execution_count": null,
   "id": "f3522ef1",
   "metadata": {},
   "outputs": [],
   "source": [
    "summed_picels = black_white_pic.sum(axis = 1)\n",
    "plt.plot(summed_picels)"
   ]
  },
  {
   "cell_type": "code",
   "execution_count": null,
   "id": "c8c5ccf6",
   "metadata": {},
   "outputs": [],
   "source": [
    "summed_picels"
   ]
  },
  {
   "cell_type": "code",
   "execution_count": null,
   "id": "e63247d8",
   "metadata": {},
   "outputs": [],
   "source": [
    "summed_picels.sum()"
   ]
  },
  {
   "cell_type": "code",
   "execution_count": null,
   "id": "13fba3c8",
   "metadata": {
    "scrolled": true
   },
   "outputs": [],
   "source": [
    "summed_picels = black_white_pic.sum(axis = 0)\n",
    "plt.plot(summed_picels)"
   ]
  },
  {
   "cell_type": "markdown",
   "id": "42701e2f",
   "metadata": {},
   "source": [
    "## Индексация по массиву"
   ]
  },
  {
   "cell_type": "markdown",
   "id": "d56b0b9c",
   "metadata": {},
   "source": [
    "### Индексация по одномерному массиву"
   ]
  },
  {
   "cell_type": "code",
   "execution_count": null,
   "id": "926ef5d5",
   "metadata": {},
   "outputs": [],
   "source": [
    "a = np.arange(10) + 10\n",
    "a"
   ]
  },
  {
   "cell_type": "code",
   "execution_count": null,
   "id": "ac1e32d1",
   "metadata": {},
   "outputs": [],
   "source": [
    "a[1]"
   ]
  },
  {
   "cell_type": "code",
   "execution_count": null,
   "id": "49015ddf",
   "metadata": {},
   "outputs": [],
   "source": [
    "a[-2]"
   ]
  },
  {
   "cell_type": "code",
   "execution_count": null,
   "id": "fd2f820b",
   "metadata": {},
   "outputs": [],
   "source": [
    "a[1:4]"
   ]
  },
  {
   "cell_type": "code",
   "execution_count": null,
   "id": "f1ed22f6",
   "metadata": {},
   "outputs": [],
   "source": [
    "a[:4]"
   ]
  },
  {
   "cell_type": "code",
   "execution_count": null,
   "id": "81d8a3bb",
   "metadata": {},
   "outputs": [],
   "source": [
    "a[4:]"
   ]
  },
  {
   "cell_type": "code",
   "execution_count": null,
   "id": "c15c2634",
   "metadata": {},
   "outputs": [],
   "source": [
    "a"
   ]
  },
  {
   "cell_type": "code",
   "execution_count": null,
   "id": "76bde880",
   "metadata": {},
   "outputs": [],
   "source": [
    "a[::2]"
   ]
  },
  {
   "cell_type": "code",
   "execution_count": null,
   "id": "b830a349",
   "metadata": {},
   "outputs": [],
   "source": [
    "a[1::2]"
   ]
  },
  {
   "cell_type": "code",
   "execution_count": null,
   "id": "5d537e2d",
   "metadata": {},
   "outputs": [],
   "source": [
    "a[1:4:2]"
   ]
  },
  {
   "cell_type": "markdown",
   "id": "dc73bdde",
   "metadata": {},
   "source": [
    "### Индексация многомерного массива"
   ]
  },
  {
   "cell_type": "code",
   "execution_count": null,
   "id": "e8080ffc",
   "metadata": {},
   "outputs": [],
   "source": [
    "ordered_array = np.arange(15).reshape(3, 5)\n",
    "ordered_array"
   ]
  },
  {
   "cell_type": "code",
   "execution_count": null,
   "id": "f3334fc4",
   "metadata": {},
   "outputs": [],
   "source": [
    "ordered_array[1, 2]"
   ]
  },
  {
   "cell_type": "code",
   "execution_count": null,
   "id": "feff58df",
   "metadata": {
    "scrolled": true
   },
   "outputs": [],
   "source": [
    "ordered_array[0, :]"
   ]
  },
  {
   "cell_type": "code",
   "execution_count": null,
   "id": "00aa373c",
   "metadata": {},
   "outputs": [],
   "source": [
    "ordered_array[1, :]"
   ]
  },
  {
   "cell_type": "code",
   "execution_count": null,
   "id": "9751911f",
   "metadata": {},
   "outputs": [],
   "source": [
    "ordered_array[:, 0]"
   ]
  },
  {
   "cell_type": "code",
   "execution_count": null,
   "id": "b1b8dfeb",
   "metadata": {},
   "outputs": [],
   "source": [
    "ordered_array[:, 1]"
   ]
  },
  {
   "cell_type": "code",
   "execution_count": null,
   "id": "0be369ad",
   "metadata": {},
   "outputs": [],
   "source": [
    "ordered_array[:, ::2]"
   ]
  },
  {
   "cell_type": "code",
   "execution_count": null,
   "id": "e18055f3",
   "metadata": {},
   "outputs": [],
   "source": [
    "ordered_array[-1]"
   ]
  },
  {
   "cell_type": "code",
   "execution_count": null,
   "id": "ab4e535d",
   "metadata": {},
   "outputs": [],
   "source": [
    "ordered_array"
   ]
  },
  {
   "cell_type": "code",
   "execution_count": null,
   "id": "253c4919",
   "metadata": {},
   "outputs": [],
   "source": [
    "ordered_array[::-1]"
   ]
  },
  {
   "cell_type": "code",
   "execution_count": null,
   "id": "70ff25bd",
   "metadata": {},
   "outputs": [],
   "source": [
    "ordered_array = np.arange(24).reshape(2, 3, 4)\n",
    "ordered_array"
   ]
  },
  {
   "cell_type": "code",
   "execution_count": null,
   "id": "bde70395",
   "metadata": {},
   "outputs": [],
   "source": [
    "ordered_array[1, :, :]"
   ]
  },
  {
   "cell_type": "code",
   "execution_count": null,
   "id": "5aed6328",
   "metadata": {},
   "outputs": [],
   "source": [
    "ordered_array[1, 2, :]"
   ]
  },
  {
   "cell_type": "code",
   "execution_count": null,
   "id": "63a56039",
   "metadata": {},
   "outputs": [],
   "source": [
    "ordered_array[1, 2]"
   ]
  },
  {
   "cell_type": "code",
   "execution_count": null,
   "id": "debf172d",
   "metadata": {},
   "outputs": [],
   "source": [
    "ordered_array[20:40, 20:40]"
   ]
  },
  {
   "cell_type": "markdown",
   "id": "b5c0c393",
   "metadata": {},
   "source": [
    "## Объединение массивов"
   ]
  },
  {
   "cell_type": "code",
   "execution_count": null,
   "id": "1cb1da95",
   "metadata": {},
   "outputs": [],
   "source": [
    "from IPython.display import Image\n",
    "Image(filename='lesson_data/1.png')"
   ]
  },
  {
   "cell_type": "code",
   "execution_count": null,
   "id": "8b27127c",
   "metadata": {},
   "outputs": [],
   "source": [
    "a = np.arange(12).reshape(3, 4) + 1\n",
    "a"
   ]
  },
  {
   "cell_type": "code",
   "execution_count": null,
   "id": "e20bedab",
   "metadata": {},
   "outputs": [],
   "source": [
    "b = np.arange(8).reshape(2, 4) + 1\n",
    "b"
   ]
  },
  {
   "cell_type": "code",
   "execution_count": null,
   "id": "29644c8a",
   "metadata": {},
   "outputs": [],
   "source": [
    "c = np.arange(6).reshape(3, 2) + 1\n",
    "c"
   ]
  },
  {
   "cell_type": "code",
   "execution_count": null,
   "id": "71ae0e3b",
   "metadata": {},
   "outputs": [],
   "source": [
    "m = np.vstack((a, b))\n",
    "m"
   ]
  },
  {
   "cell_type": "code",
   "execution_count": null,
   "id": "fc9cebde",
   "metadata": {},
   "outputs": [],
   "source": [
    "np.hstack((a, c))"
   ]
  },
  {
   "cell_type": "code",
   "execution_count": null,
   "id": "37613a52",
   "metadata": {},
   "outputs": [],
   "source": [
    "np.vstack((a, b, a))"
   ]
  },
  {
   "cell_type": "markdown",
   "id": "b0702c20",
   "metadata": {},
   "source": [
    "### Добавление строки и стобца"
   ]
  },
  {
   "cell_type": "code",
   "execution_count": null,
   "id": "d7d2848a",
   "metadata": {},
   "outputs": [],
   "source": [
    "Image(filename='lesson_data/2.png')"
   ]
  },
  {
   "cell_type": "code",
   "execution_count": null,
   "id": "220593ea",
   "metadata": {},
   "outputs": [],
   "source": [
    "a"
   ]
  },
  {
   "cell_type": "code",
   "execution_count": null,
   "id": "7d359ea6",
   "metadata": {},
   "outputs": [],
   "source": [
    "b = np.arange(4)\n",
    "c = np.arange(3)"
   ]
  },
  {
   "cell_type": "code",
   "execution_count": null,
   "id": "e373e396",
   "metadata": {},
   "outputs": [],
   "source": [
    "np.column_stack((a, c))"
   ]
  },
  {
   "cell_type": "code",
   "execution_count": null,
   "id": "c06597a2",
   "metadata": {},
   "outputs": [],
   "source": [
    "np.row_stack((a, b))"
   ]
  },
  {
   "cell_type": "markdown",
   "id": "bd9c5a27",
   "metadata": {},
   "source": [
    "## Получение копии"
   ]
  },
  {
   "cell_type": "code",
   "execution_count": null,
   "id": "4cb38362",
   "metadata": {},
   "outputs": [],
   "source": [
    "a = np.arange(12).reshape(3, 4) + 1\n",
    "a"
   ]
  },
  {
   "cell_type": "code",
   "execution_count": null,
   "id": "6bb61bef",
   "metadata": {},
   "outputs": [],
   "source": [
    "b = a\n",
    "b[0, 0] = 0\n",
    "a"
   ]
  },
  {
   "cell_type": "code",
   "execution_count": null,
   "id": "238e2415",
   "metadata": {},
   "outputs": [],
   "source": [
    "a = np.arange(12).reshape(3, 4) + 1\n",
    "b = a.copy()\n",
    "b[0, 0] = 0\n",
    "a"
   ]
  },
  {
   "cell_type": "code",
   "execution_count": null,
   "id": "9dd6e3fa",
   "metadata": {},
   "outputs": [],
   "source": [
    "b"
   ]
  },
  {
   "cell_type": "markdown",
   "id": "9f804f9e",
   "metadata": {},
   "source": [
    "## Поиск максимального элемента"
   ]
  },
  {
   "cell_type": "code",
   "execution_count": null,
   "id": "6ea98748",
   "metadata": {},
   "outputs": [],
   "source": [
    "a = np.array([1.0, -2.0, 3.0, 0])\n",
    "a"
   ]
  },
  {
   "cell_type": "code",
   "execution_count": null,
   "id": "efb49a6d",
   "metadata": {},
   "outputs": [],
   "source": [
    "a.max()"
   ]
  },
  {
   "cell_type": "code",
   "execution_count": null,
   "id": "d52f1160",
   "metadata": {},
   "outputs": [],
   "source": [
    "a.argmax()"
   ]
  },
  {
   "cell_type": "code",
   "execution_count": null,
   "id": "2fd75ef7",
   "metadata": {},
   "outputs": [],
   "source": [
    "a.argmin()"
   ]
  },
  {
   "cell_type": "code",
   "execution_count": null,
   "id": "b6a83ec1",
   "metadata": {},
   "outputs": [],
   "source": [
    "a[a.argmin()]"
   ]
  },
  {
   "cell_type": "code",
   "execution_count": null,
   "id": "7df38e42",
   "metadata": {},
   "outputs": [],
   "source": [
    "a = np.arange(12).reshape(3, 4) + 1\n",
    "a"
   ]
  },
  {
   "cell_type": "code",
   "execution_count": null,
   "id": "7f8a1c39",
   "metadata": {},
   "outputs": [],
   "source": [
    "a.argmax()"
   ]
  },
  {
   "cell_type": "code",
   "execution_count": null,
   "id": "f0a8949c",
   "metadata": {},
   "outputs": [],
   "source": [
    "a.argmax(axis=0)"
   ]
  },
  {
   "cell_type": "code",
   "execution_count": null,
   "id": "34ca5aa5",
   "metadata": {},
   "outputs": [],
   "source": []
  },
  {
   "cell_type": "code",
   "execution_count": null,
   "id": "2f1dddc5",
   "metadata": {},
   "outputs": [],
   "source": []
  },
  {
   "cell_type": "code",
   "execution_count": null,
   "id": "406f8d37",
   "metadata": {},
   "outputs": [],
   "source": []
  },
  {
   "cell_type": "code",
   "execution_count": null,
   "id": "a7bc3ac1",
   "metadata": {},
   "outputs": [],
   "source": []
  }
 ],
 "metadata": {
  "kernelspec": {
   "display_name": "Python 3 (ipykernel)",
   "language": "python",
   "name": "python3"
  },
  "language_info": {
   "codemirror_mode": {
    "name": "ipython",
    "version": 3
   },
   "file_extension": ".py",
   "mimetype": "text/x-python",
   "name": "python",
   "nbconvert_exporter": "python",
   "pygments_lexer": "ipython3",
   "version": "3.8.12"
  }
 },
 "nbformat": 4,
 "nbformat_minor": 5
}
